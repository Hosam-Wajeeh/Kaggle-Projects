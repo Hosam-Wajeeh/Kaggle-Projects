{
 "cells": [
  {
   "cell_type": "code",
   "execution_count": 1,
   "id": "cb545a89",
   "metadata": {
    "_cell_guid": "b1076dfc-b9ad-4769-8c92-a6c4dae69d19",
    "_kg_hide-input": true,
    "_kg_hide-output": true,
    "_uuid": "8f2839f25d086af736a60e9eeb907d3b93b6e0e5",
    "execution": {
     "iopub.execute_input": "2022-04-03T15:13:36.579988Z",
     "iopub.status.busy": "2022-04-03T15:13:36.578941Z",
     "iopub.status.idle": "2022-04-03T15:13:36.596817Z",
     "shell.execute_reply": "2022-04-03T15:13:36.597452Z",
     "shell.execute_reply.started": "2022-04-03T14:26:40.634776Z"
    },
    "papermill": {
     "duration": 0.080281,
     "end_time": "2022-04-03T15:13:36.597981",
     "exception": false,
     "start_time": "2022-04-03T15:13:36.517700",
     "status": "completed"
    },
    "tags": []
   },
   "outputs": [
    {
     "name": "stdout",
     "output_type": "stream",
     "text": [
      "/kaggle/input/airline-passenger-satisfaction/train.csv\n",
      "/kaggle/input/airline-passenger-satisfaction/test.csv\n"
     ]
    }
   ],
   "source": [
    "# This Python 3 environment comes with many helpful analytics libraries installed\n",
    "# It is defined by the kaggle/python Docker image: https://github.com/kaggle/docker-python\n",
    "# For example, here's several helpful packages to load\n",
    "\n",
    "import numpy as np # linear algebra\n",
    "import pandas as pd # data processing, CSV file I/O (e.g. pd.read_csv)\n",
    "\n",
    "# Input data files are available in the read-only \"../input/\" directory\n",
    "# For example, running this (by clicking run or pressing Shift+Enter) will list all files under the input directory\n",
    "\n",
    "import os\n",
    "for dirname, _, filenames in os.walk('/kaggle/input'):\n",
    "    for filename in filenames:\n",
    "        print(os.path.join(dirname, filename))\n",
    "\n",
    "# You can write up to 20GB to the current directory (/kaggle/working/) that gets preserved as output when you create a version using \"Save & Run All\" \n",
    "# You can also write temporary files to /kaggle/temp/, but they won't be saved outside of the current session"
   ]
  },
  {
   "cell_type": "markdown",
   "id": "9f79fbb4",
   "metadata": {
    "papermill": {
     "duration": 0.122237,
     "end_time": "2022-04-03T15:13:36.800276",
     "exception": false,
     "start_time": "2022-04-03T15:13:36.678039",
     "status": "completed"
    },
    "tags": []
   },
   "source": [
    "**The dataset contains an airline passenger satisfaction survey.**\n",
    "\n",
    "**Variables:**\n",
    "* **Gender:** Gender of the passengers (Female, Male)\n",
    " \n",
    "* **Customer Type:** The customer type (Loyal customer, disloyal customer)\n",
    " \n",
    "* **Age:** The actual age of the passengers\n",
    " \n",
    "* **Type of Travel:** Purpose of the flight of the passengers (Personal Travel, Business Travel)\n",
    " \n",
    "* **Class:** Travel class in the plane of the passengers (Business, Eco, Eco Plus)\n",
    " \n",
    "* **Flight distance:** The flight distance of this journey\n",
    " \n",
    "* **Inflight wifi service:** Satisfaction level of the inflight wifi service (0:Not Applicable;1-5)\n",
    " \n",
    "* **Departure/Arrival time convenient:** Satisfaction level of Departure/Arrival time convenient\n",
    " \n",
    "* **Ease of Online booking:** Satisfaction level of online booking\n",
    "\n",
    "* **Gate location:** Satisfaction level of Gate location\n",
    " \n",
    "* **Food and drink:** Satisfaction level of Food and drink\n",
    "\n",
    "* **Online boarding:** Satisfaction level of online boarding\n",
    "\n",
    "* **Seat comfort:** Satisfaction level of Seat comfort\n",
    " \n",
    "* **Inflight entertainment:** Satisfaction level of inflight entertainment\n",
    " \n",
    "* **On-board service:** Satisfaction level of On-board service\n",
    "\n",
    "* **Leg room service:** Satisfaction level of Leg room service\n",
    "\n",
    "* **Baggage handling:** Satisfaction level of baggage handling\n",
    "\n",
    "* **Check-in service:** Satisfaction level of Check-in service\n",
    "\n",
    "* **Inflight service:** Satisfaction level of inflight service\n",
    "\n",
    "* **Cleanliness:** Satisfaction level of Cleanliness\n",
    "\n",
    "* **Departure Delay in Minutes:** Minutes delayed when departure\n",
    "\n",
    "* **Arrival Delay in Minutes:** Minutes delayed when Arrival\n",
    "\n",
    "* **Satisfaction:** Airline satisfaction level(Satisfaction, neutral or dissatisfaction)"
   ]
  },
  {
   "cell_type": "code",
   "execution_count": 2,
   "id": "a714709b",
   "metadata": {
    "execution": {
     "iopub.execute_input": "2022-04-03T15:13:36.975750Z",
     "iopub.status.busy": "2022-04-03T15:13:36.974696Z",
     "iopub.status.idle": "2022-04-03T15:13:38.365075Z",
     "shell.execute_reply": "2022-04-03T15:13:38.365590Z",
     "shell.execute_reply.started": "2022-04-03T14:26:40.706049Z"
    },
    "papermill": {
     "duration": 1.480449,
     "end_time": "2022-04-03T15:13:38.365759",
     "exception": false,
     "start_time": "2022-04-03T15:13:36.885310",
     "status": "completed"
    },
    "tags": []
   },
   "outputs": [
    {
     "data": {
      "text/plain": [
       "(103904, 25)"
      ]
     },
     "execution_count": 2,
     "metadata": {},
     "output_type": "execute_result"
    }
   ],
   "source": [
    "import matplotlib.pyplot as plt\n",
    "import seaborn as sns\n",
    "\n",
    "#reading the data\n",
    "train_data = pd.read_csv('/kaggle/input/airline-passenger-satisfaction/train.csv')\n",
    "train_data.shape"
   ]
  },
  {
   "cell_type": "code",
   "execution_count": 3,
   "id": "80f33012",
   "metadata": {
    "execution": {
     "iopub.execute_input": "2022-04-03T15:13:38.467479Z",
     "iopub.status.busy": "2022-04-03T15:13:38.466813Z",
     "iopub.status.idle": "2022-04-03T15:13:38.560181Z",
     "shell.execute_reply": "2022-04-03T15:13:38.561158Z",
     "shell.execute_reply.started": "2022-04-03T14:26:41.921527Z"
    },
    "papermill": {
     "duration": 0.145639,
     "end_time": "2022-04-03T15:13:38.561336",
     "exception": false,
     "start_time": "2022-04-03T15:13:38.415697",
     "status": "completed"
    },
    "tags": []
   },
   "outputs": [
    {
     "data": {
      "text/plain": [
       "(25976, 25)"
      ]
     },
     "execution_count": 3,
     "metadata": {},
     "output_type": "execute_result"
    }
   ],
   "source": [
    "test_data = pd.read_csv('/kaggle/input/airline-passenger-satisfaction/test.csv')\n",
    "test_data.shape"
   ]
  },
  {
   "cell_type": "code",
   "execution_count": 4,
   "id": "0962686a",
   "metadata": {
    "execution": {
     "iopub.execute_input": "2022-04-03T15:13:38.672774Z",
     "iopub.status.busy": "2022-04-03T15:13:38.671906Z",
     "iopub.status.idle": "2022-04-03T15:13:38.696636Z",
     "shell.execute_reply": "2022-04-03T15:13:38.697419Z",
     "shell.execute_reply.started": "2022-04-03T14:26:42.012131Z"
    },
    "papermill": {
     "duration": 0.086904,
     "end_time": "2022-04-03T15:13:38.697581",
     "exception": false,
     "start_time": "2022-04-03T15:13:38.610677",
     "status": "completed"
    },
    "tags": []
   },
   "outputs": [
    {
     "data": {
      "text/html": [
       "<div>\n",
       "<style scoped>\n",
       "    .dataframe tbody tr th:only-of-type {\n",
       "        vertical-align: middle;\n",
       "    }\n",
       "\n",
       "    .dataframe tbody tr th {\n",
       "        vertical-align: top;\n",
       "    }\n",
       "\n",
       "    .dataframe thead th {\n",
       "        text-align: right;\n",
       "    }\n",
       "</style>\n",
       "<table border=\"1\" class=\"dataframe\">\n",
       "  <thead>\n",
       "    <tr style=\"text-align: right;\">\n",
       "      <th></th>\n",
       "      <th>Unnamed: 0</th>\n",
       "      <th>id</th>\n",
       "      <th>Gender</th>\n",
       "      <th>Customer Type</th>\n",
       "      <th>Age</th>\n",
       "      <th>Type of Travel</th>\n",
       "      <th>Class</th>\n",
       "      <th>Flight Distance</th>\n",
       "      <th>Inflight wifi service</th>\n",
       "      <th>Departure/Arrival time convenient</th>\n",
       "      <th>...</th>\n",
       "      <th>Inflight entertainment</th>\n",
       "      <th>On-board service</th>\n",
       "      <th>Leg room service</th>\n",
       "      <th>Baggage handling</th>\n",
       "      <th>Checkin service</th>\n",
       "      <th>Inflight service</th>\n",
       "      <th>Cleanliness</th>\n",
       "      <th>Departure Delay in Minutes</th>\n",
       "      <th>Arrival Delay in Minutes</th>\n",
       "      <th>satisfaction</th>\n",
       "    </tr>\n",
       "  </thead>\n",
       "  <tbody>\n",
       "    <tr>\n",
       "      <th>0</th>\n",
       "      <td>0</td>\n",
       "      <td>70172</td>\n",
       "      <td>Male</td>\n",
       "      <td>Loyal Customer</td>\n",
       "      <td>13</td>\n",
       "      <td>Personal Travel</td>\n",
       "      <td>Eco Plus</td>\n",
       "      <td>460</td>\n",
       "      <td>3</td>\n",
       "      <td>4</td>\n",
       "      <td>...</td>\n",
       "      <td>5</td>\n",
       "      <td>4</td>\n",
       "      <td>3</td>\n",
       "      <td>4</td>\n",
       "      <td>4</td>\n",
       "      <td>5</td>\n",
       "      <td>5</td>\n",
       "      <td>25</td>\n",
       "      <td>18.0</td>\n",
       "      <td>neutral or dissatisfied</td>\n",
       "    </tr>\n",
       "    <tr>\n",
       "      <th>1</th>\n",
       "      <td>1</td>\n",
       "      <td>5047</td>\n",
       "      <td>Male</td>\n",
       "      <td>disloyal Customer</td>\n",
       "      <td>25</td>\n",
       "      <td>Business travel</td>\n",
       "      <td>Business</td>\n",
       "      <td>235</td>\n",
       "      <td>3</td>\n",
       "      <td>2</td>\n",
       "      <td>...</td>\n",
       "      <td>1</td>\n",
       "      <td>1</td>\n",
       "      <td>5</td>\n",
       "      <td>3</td>\n",
       "      <td>1</td>\n",
       "      <td>4</td>\n",
       "      <td>1</td>\n",
       "      <td>1</td>\n",
       "      <td>6.0</td>\n",
       "      <td>neutral or dissatisfied</td>\n",
       "    </tr>\n",
       "    <tr>\n",
       "      <th>2</th>\n",
       "      <td>2</td>\n",
       "      <td>110028</td>\n",
       "      <td>Female</td>\n",
       "      <td>Loyal Customer</td>\n",
       "      <td>26</td>\n",
       "      <td>Business travel</td>\n",
       "      <td>Business</td>\n",
       "      <td>1142</td>\n",
       "      <td>2</td>\n",
       "      <td>2</td>\n",
       "      <td>...</td>\n",
       "      <td>5</td>\n",
       "      <td>4</td>\n",
       "      <td>3</td>\n",
       "      <td>4</td>\n",
       "      <td>4</td>\n",
       "      <td>4</td>\n",
       "      <td>5</td>\n",
       "      <td>0</td>\n",
       "      <td>0.0</td>\n",
       "      <td>satisfied</td>\n",
       "    </tr>\n",
       "    <tr>\n",
       "      <th>3</th>\n",
       "      <td>3</td>\n",
       "      <td>24026</td>\n",
       "      <td>Female</td>\n",
       "      <td>Loyal Customer</td>\n",
       "      <td>25</td>\n",
       "      <td>Business travel</td>\n",
       "      <td>Business</td>\n",
       "      <td>562</td>\n",
       "      <td>2</td>\n",
       "      <td>5</td>\n",
       "      <td>...</td>\n",
       "      <td>2</td>\n",
       "      <td>2</td>\n",
       "      <td>5</td>\n",
       "      <td>3</td>\n",
       "      <td>1</td>\n",
       "      <td>4</td>\n",
       "      <td>2</td>\n",
       "      <td>11</td>\n",
       "      <td>9.0</td>\n",
       "      <td>neutral or dissatisfied</td>\n",
       "    </tr>\n",
       "    <tr>\n",
       "      <th>4</th>\n",
       "      <td>4</td>\n",
       "      <td>119299</td>\n",
       "      <td>Male</td>\n",
       "      <td>Loyal Customer</td>\n",
       "      <td>61</td>\n",
       "      <td>Business travel</td>\n",
       "      <td>Business</td>\n",
       "      <td>214</td>\n",
       "      <td>3</td>\n",
       "      <td>3</td>\n",
       "      <td>...</td>\n",
       "      <td>3</td>\n",
       "      <td>3</td>\n",
       "      <td>4</td>\n",
       "      <td>4</td>\n",
       "      <td>3</td>\n",
       "      <td>3</td>\n",
       "      <td>3</td>\n",
       "      <td>0</td>\n",
       "      <td>0.0</td>\n",
       "      <td>satisfied</td>\n",
       "    </tr>\n",
       "  </tbody>\n",
       "</table>\n",
       "<p>5 rows × 25 columns</p>\n",
       "</div>"
      ],
      "text/plain": [
       "   Unnamed: 0      id  Gender      Customer Type  Age   Type of Travel  \\\n",
       "0           0   70172    Male     Loyal Customer   13  Personal Travel   \n",
       "1           1    5047    Male  disloyal Customer   25  Business travel   \n",
       "2           2  110028  Female     Loyal Customer   26  Business travel   \n",
       "3           3   24026  Female     Loyal Customer   25  Business travel   \n",
       "4           4  119299    Male     Loyal Customer   61  Business travel   \n",
       "\n",
       "      Class  Flight Distance  Inflight wifi service  \\\n",
       "0  Eco Plus              460                      3   \n",
       "1  Business              235                      3   \n",
       "2  Business             1142                      2   \n",
       "3  Business              562                      2   \n",
       "4  Business              214                      3   \n",
       "\n",
       "   Departure/Arrival time convenient  ...  Inflight entertainment  \\\n",
       "0                                  4  ...                       5   \n",
       "1                                  2  ...                       1   \n",
       "2                                  2  ...                       5   \n",
       "3                                  5  ...                       2   \n",
       "4                                  3  ...                       3   \n",
       "\n",
       "   On-board service  Leg room service  Baggage handling  Checkin service  \\\n",
       "0                 4                 3                 4                4   \n",
       "1                 1                 5                 3                1   \n",
       "2                 4                 3                 4                4   \n",
       "3                 2                 5                 3                1   \n",
       "4                 3                 4                 4                3   \n",
       "\n",
       "   Inflight service  Cleanliness  Departure Delay in Minutes  \\\n",
       "0                 5            5                          25   \n",
       "1                 4            1                           1   \n",
       "2                 4            5                           0   \n",
       "3                 4            2                          11   \n",
       "4                 3            3                           0   \n",
       "\n",
       "   Arrival Delay in Minutes             satisfaction  \n",
       "0                      18.0  neutral or dissatisfied  \n",
       "1                       6.0  neutral or dissatisfied  \n",
       "2                       0.0                satisfied  \n",
       "3                       9.0  neutral or dissatisfied  \n",
       "4                       0.0                satisfied  \n",
       "\n",
       "[5 rows x 25 columns]"
      ]
     },
     "execution_count": 4,
     "metadata": {},
     "output_type": "execute_result"
    }
   ],
   "source": [
    "train_data.head()"
   ]
  },
  {
   "cell_type": "code",
   "execution_count": 5,
   "id": "8a54b429",
   "metadata": {
    "execution": {
     "iopub.execute_input": "2022-04-03T15:13:38.825133Z",
     "iopub.status.busy": "2022-04-03T15:13:38.824207Z",
     "iopub.status.idle": "2022-04-03T15:13:38.828185Z",
     "shell.execute_reply": "2022-04-03T15:13:38.828725Z",
     "shell.execute_reply.started": "2022-04-03T14:26:42.045895Z"
    },
    "papermill": {
     "duration": 0.07904,
     "end_time": "2022-04-03T15:13:38.828914",
     "exception": false,
     "start_time": "2022-04-03T15:13:38.749874",
     "status": "completed"
    },
    "tags": []
   },
   "outputs": [
    {
     "data": {
      "text/html": [
       "<div>\n",
       "<style scoped>\n",
       "    .dataframe tbody tr th:only-of-type {\n",
       "        vertical-align: middle;\n",
       "    }\n",
       "\n",
       "    .dataframe tbody tr th {\n",
       "        vertical-align: top;\n",
       "    }\n",
       "\n",
       "    .dataframe thead th {\n",
       "        text-align: right;\n",
       "    }\n",
       "</style>\n",
       "<table border=\"1\" class=\"dataframe\">\n",
       "  <thead>\n",
       "    <tr style=\"text-align: right;\">\n",
       "      <th></th>\n",
       "      <th>Unnamed: 0</th>\n",
       "      <th>id</th>\n",
       "      <th>Gender</th>\n",
       "      <th>Customer Type</th>\n",
       "      <th>Age</th>\n",
       "      <th>Type of Travel</th>\n",
       "      <th>Class</th>\n",
       "      <th>Flight Distance</th>\n",
       "      <th>Inflight wifi service</th>\n",
       "      <th>Departure/Arrival time convenient</th>\n",
       "      <th>...</th>\n",
       "      <th>Inflight entertainment</th>\n",
       "      <th>On-board service</th>\n",
       "      <th>Leg room service</th>\n",
       "      <th>Baggage handling</th>\n",
       "      <th>Checkin service</th>\n",
       "      <th>Inflight service</th>\n",
       "      <th>Cleanliness</th>\n",
       "      <th>Departure Delay in Minutes</th>\n",
       "      <th>Arrival Delay in Minutes</th>\n",
       "      <th>satisfaction</th>\n",
       "    </tr>\n",
       "  </thead>\n",
       "  <tbody>\n",
       "    <tr>\n",
       "      <th>0</th>\n",
       "      <td>0</td>\n",
       "      <td>19556</td>\n",
       "      <td>Female</td>\n",
       "      <td>Loyal Customer</td>\n",
       "      <td>52</td>\n",
       "      <td>Business travel</td>\n",
       "      <td>Eco</td>\n",
       "      <td>160</td>\n",
       "      <td>5</td>\n",
       "      <td>4</td>\n",
       "      <td>...</td>\n",
       "      <td>5</td>\n",
       "      <td>5</td>\n",
       "      <td>5</td>\n",
       "      <td>5</td>\n",
       "      <td>2</td>\n",
       "      <td>5</td>\n",
       "      <td>5</td>\n",
       "      <td>50</td>\n",
       "      <td>44.0</td>\n",
       "      <td>satisfied</td>\n",
       "    </tr>\n",
       "    <tr>\n",
       "      <th>1</th>\n",
       "      <td>1</td>\n",
       "      <td>90035</td>\n",
       "      <td>Female</td>\n",
       "      <td>Loyal Customer</td>\n",
       "      <td>36</td>\n",
       "      <td>Business travel</td>\n",
       "      <td>Business</td>\n",
       "      <td>2863</td>\n",
       "      <td>1</td>\n",
       "      <td>1</td>\n",
       "      <td>...</td>\n",
       "      <td>4</td>\n",
       "      <td>4</td>\n",
       "      <td>4</td>\n",
       "      <td>4</td>\n",
       "      <td>3</td>\n",
       "      <td>4</td>\n",
       "      <td>5</td>\n",
       "      <td>0</td>\n",
       "      <td>0.0</td>\n",
       "      <td>satisfied</td>\n",
       "    </tr>\n",
       "    <tr>\n",
       "      <th>2</th>\n",
       "      <td>2</td>\n",
       "      <td>12360</td>\n",
       "      <td>Male</td>\n",
       "      <td>disloyal Customer</td>\n",
       "      <td>20</td>\n",
       "      <td>Business travel</td>\n",
       "      <td>Eco</td>\n",
       "      <td>192</td>\n",
       "      <td>2</td>\n",
       "      <td>0</td>\n",
       "      <td>...</td>\n",
       "      <td>2</td>\n",
       "      <td>4</td>\n",
       "      <td>1</td>\n",
       "      <td>3</td>\n",
       "      <td>2</td>\n",
       "      <td>2</td>\n",
       "      <td>2</td>\n",
       "      <td>0</td>\n",
       "      <td>0.0</td>\n",
       "      <td>neutral or dissatisfied</td>\n",
       "    </tr>\n",
       "    <tr>\n",
       "      <th>3</th>\n",
       "      <td>3</td>\n",
       "      <td>77959</td>\n",
       "      <td>Male</td>\n",
       "      <td>Loyal Customer</td>\n",
       "      <td>44</td>\n",
       "      <td>Business travel</td>\n",
       "      <td>Business</td>\n",
       "      <td>3377</td>\n",
       "      <td>0</td>\n",
       "      <td>0</td>\n",
       "      <td>...</td>\n",
       "      <td>1</td>\n",
       "      <td>1</td>\n",
       "      <td>1</td>\n",
       "      <td>1</td>\n",
       "      <td>3</td>\n",
       "      <td>1</td>\n",
       "      <td>4</td>\n",
       "      <td>0</td>\n",
       "      <td>6.0</td>\n",
       "      <td>satisfied</td>\n",
       "    </tr>\n",
       "    <tr>\n",
       "      <th>4</th>\n",
       "      <td>4</td>\n",
       "      <td>36875</td>\n",
       "      <td>Female</td>\n",
       "      <td>Loyal Customer</td>\n",
       "      <td>49</td>\n",
       "      <td>Business travel</td>\n",
       "      <td>Eco</td>\n",
       "      <td>1182</td>\n",
       "      <td>2</td>\n",
       "      <td>3</td>\n",
       "      <td>...</td>\n",
       "      <td>2</td>\n",
       "      <td>2</td>\n",
       "      <td>2</td>\n",
       "      <td>2</td>\n",
       "      <td>4</td>\n",
       "      <td>2</td>\n",
       "      <td>4</td>\n",
       "      <td>0</td>\n",
       "      <td>20.0</td>\n",
       "      <td>satisfied</td>\n",
       "    </tr>\n",
       "  </tbody>\n",
       "</table>\n",
       "<p>5 rows × 25 columns</p>\n",
       "</div>"
      ],
      "text/plain": [
       "   Unnamed: 0     id  Gender      Customer Type  Age   Type of Travel  \\\n",
       "0           0  19556  Female     Loyal Customer   52  Business travel   \n",
       "1           1  90035  Female     Loyal Customer   36  Business travel   \n",
       "2           2  12360    Male  disloyal Customer   20  Business travel   \n",
       "3           3  77959    Male     Loyal Customer   44  Business travel   \n",
       "4           4  36875  Female     Loyal Customer   49  Business travel   \n",
       "\n",
       "      Class  Flight Distance  Inflight wifi service  \\\n",
       "0       Eco              160                      5   \n",
       "1  Business             2863                      1   \n",
       "2       Eco              192                      2   \n",
       "3  Business             3377                      0   \n",
       "4       Eco             1182                      2   \n",
       "\n",
       "   Departure/Arrival time convenient  ...  Inflight entertainment  \\\n",
       "0                                  4  ...                       5   \n",
       "1                                  1  ...                       4   \n",
       "2                                  0  ...                       2   \n",
       "3                                  0  ...                       1   \n",
       "4                                  3  ...                       2   \n",
       "\n",
       "   On-board service  Leg room service  Baggage handling  Checkin service  \\\n",
       "0                 5                 5                 5                2   \n",
       "1                 4                 4                 4                3   \n",
       "2                 4                 1                 3                2   \n",
       "3                 1                 1                 1                3   \n",
       "4                 2                 2                 2                4   \n",
       "\n",
       "   Inflight service  Cleanliness  Departure Delay in Minutes  \\\n",
       "0                 5            5                          50   \n",
       "1                 4            5                           0   \n",
       "2                 2            2                           0   \n",
       "3                 1            4                           0   \n",
       "4                 2            4                           0   \n",
       "\n",
       "   Arrival Delay in Minutes             satisfaction  \n",
       "0                      44.0                satisfied  \n",
       "1                       0.0                satisfied  \n",
       "2                       0.0  neutral or dissatisfied  \n",
       "3                       6.0                satisfied  \n",
       "4                      20.0                satisfied  \n",
       "\n",
       "[5 rows x 25 columns]"
      ]
     },
     "execution_count": 5,
     "metadata": {},
     "output_type": "execute_result"
    }
   ],
   "source": [
    "test_data.head()"
   ]
  },
  {
   "cell_type": "code",
   "execution_count": 6,
   "id": "48583fd6",
   "metadata": {
    "execution": {
     "iopub.execute_input": "2022-04-03T15:13:38.940183Z",
     "iopub.status.busy": "2022-04-03T15:13:38.932832Z",
     "iopub.status.idle": "2022-04-03T15:13:38.959826Z",
     "shell.execute_reply": "2022-04-03T15:13:38.960425Z",
     "shell.execute_reply.started": "2022-04-03T14:26:42.06874Z"
    },
    "papermill": {
     "duration": 0.081087,
     "end_time": "2022-04-03T15:13:38.960605",
     "exception": false,
     "start_time": "2022-04-03T15:13:38.879518",
     "status": "completed"
    },
    "tags": []
   },
   "outputs": [
    {
     "data": {
      "text/plain": [
       "(103904, 23)"
      ]
     },
     "execution_count": 6,
     "metadata": {},
     "output_type": "execute_result"
    }
   ],
   "source": [
    "#Dropping the Unnamed and id cols in both training and testing datasets\n",
    "train_data.drop(['Unnamed: 0','id'], axis=1, inplace=True)\n",
    "test_data.drop(['Unnamed: 0','id'], axis=1, inplace=True)\n",
    "\n",
    "train_data.shape"
   ]
  },
  {
   "cell_type": "code",
   "execution_count": 7,
   "id": "f3c76fef",
   "metadata": {
    "execution": {
     "iopub.execute_input": "2022-04-03T15:13:39.077639Z",
     "iopub.status.busy": "2022-04-03T15:13:39.076855Z",
     "iopub.status.idle": "2022-04-03T15:13:39.107972Z",
     "shell.execute_reply": "2022-04-03T15:13:39.107464Z",
     "shell.execute_reply.started": "2022-04-03T14:26:42.095297Z"
    },
    "papermill": {
     "duration": 0.097679,
     "end_time": "2022-04-03T15:13:39.108136",
     "exception": false,
     "start_time": "2022-04-03T15:13:39.010457",
     "status": "completed"
    },
    "tags": []
   },
   "outputs": [
    {
     "data": {
      "text/html": [
       "<div>\n",
       "<style scoped>\n",
       "    .dataframe tbody tr th:only-of-type {\n",
       "        vertical-align: middle;\n",
       "    }\n",
       "\n",
       "    .dataframe tbody tr th {\n",
       "        vertical-align: top;\n",
       "    }\n",
       "\n",
       "    .dataframe thead th {\n",
       "        text-align: right;\n",
       "    }\n",
       "</style>\n",
       "<table border=\"1\" class=\"dataframe\">\n",
       "  <thead>\n",
       "    <tr style=\"text-align: right;\">\n",
       "      <th></th>\n",
       "      <th>Gender</th>\n",
       "      <th>Customer Type</th>\n",
       "      <th>Age</th>\n",
       "      <th>Type of Travel</th>\n",
       "      <th>Class</th>\n",
       "      <th>Flight Distance</th>\n",
       "      <th>Inflight wifi service</th>\n",
       "      <th>Departure/Arrival time convenient</th>\n",
       "      <th>Ease of Online booking</th>\n",
       "      <th>Gate location</th>\n",
       "      <th>...</th>\n",
       "      <th>Inflight entertainment</th>\n",
       "      <th>On-board service</th>\n",
       "      <th>Leg room service</th>\n",
       "      <th>Baggage handling</th>\n",
       "      <th>Checkin service</th>\n",
       "      <th>Inflight service</th>\n",
       "      <th>Cleanliness</th>\n",
       "      <th>Departure Delay in Minutes</th>\n",
       "      <th>Arrival Delay in Minutes</th>\n",
       "      <th>satisfaction</th>\n",
       "    </tr>\n",
       "  </thead>\n",
       "  <tbody>\n",
       "    <tr>\n",
       "      <th>0</th>\n",
       "      <td>Male</td>\n",
       "      <td>Loyal Customer</td>\n",
       "      <td>13</td>\n",
       "      <td>Personal Travel</td>\n",
       "      <td>Eco Plus</td>\n",
       "      <td>460</td>\n",
       "      <td>3</td>\n",
       "      <td>4</td>\n",
       "      <td>3</td>\n",
       "      <td>1</td>\n",
       "      <td>...</td>\n",
       "      <td>5</td>\n",
       "      <td>4</td>\n",
       "      <td>3</td>\n",
       "      <td>4</td>\n",
       "      <td>4</td>\n",
       "      <td>5</td>\n",
       "      <td>5</td>\n",
       "      <td>25</td>\n",
       "      <td>18.0</td>\n",
       "      <td>0</td>\n",
       "    </tr>\n",
       "    <tr>\n",
       "      <th>1</th>\n",
       "      <td>Male</td>\n",
       "      <td>disloyal Customer</td>\n",
       "      <td>25</td>\n",
       "      <td>Business travel</td>\n",
       "      <td>Business</td>\n",
       "      <td>235</td>\n",
       "      <td>3</td>\n",
       "      <td>2</td>\n",
       "      <td>3</td>\n",
       "      <td>3</td>\n",
       "      <td>...</td>\n",
       "      <td>1</td>\n",
       "      <td>1</td>\n",
       "      <td>5</td>\n",
       "      <td>3</td>\n",
       "      <td>1</td>\n",
       "      <td>4</td>\n",
       "      <td>1</td>\n",
       "      <td>1</td>\n",
       "      <td>6.0</td>\n",
       "      <td>0</td>\n",
       "    </tr>\n",
       "    <tr>\n",
       "      <th>2</th>\n",
       "      <td>Female</td>\n",
       "      <td>Loyal Customer</td>\n",
       "      <td>26</td>\n",
       "      <td>Business travel</td>\n",
       "      <td>Business</td>\n",
       "      <td>1142</td>\n",
       "      <td>2</td>\n",
       "      <td>2</td>\n",
       "      <td>2</td>\n",
       "      <td>2</td>\n",
       "      <td>...</td>\n",
       "      <td>5</td>\n",
       "      <td>4</td>\n",
       "      <td>3</td>\n",
       "      <td>4</td>\n",
       "      <td>4</td>\n",
       "      <td>4</td>\n",
       "      <td>5</td>\n",
       "      <td>0</td>\n",
       "      <td>0.0</td>\n",
       "      <td>1</td>\n",
       "    </tr>\n",
       "    <tr>\n",
       "      <th>3</th>\n",
       "      <td>Female</td>\n",
       "      <td>Loyal Customer</td>\n",
       "      <td>25</td>\n",
       "      <td>Business travel</td>\n",
       "      <td>Business</td>\n",
       "      <td>562</td>\n",
       "      <td>2</td>\n",
       "      <td>5</td>\n",
       "      <td>5</td>\n",
       "      <td>5</td>\n",
       "      <td>...</td>\n",
       "      <td>2</td>\n",
       "      <td>2</td>\n",
       "      <td>5</td>\n",
       "      <td>3</td>\n",
       "      <td>1</td>\n",
       "      <td>4</td>\n",
       "      <td>2</td>\n",
       "      <td>11</td>\n",
       "      <td>9.0</td>\n",
       "      <td>0</td>\n",
       "    </tr>\n",
       "    <tr>\n",
       "      <th>4</th>\n",
       "      <td>Male</td>\n",
       "      <td>Loyal Customer</td>\n",
       "      <td>61</td>\n",
       "      <td>Business travel</td>\n",
       "      <td>Business</td>\n",
       "      <td>214</td>\n",
       "      <td>3</td>\n",
       "      <td>3</td>\n",
       "      <td>3</td>\n",
       "      <td>3</td>\n",
       "      <td>...</td>\n",
       "      <td>3</td>\n",
       "      <td>3</td>\n",
       "      <td>4</td>\n",
       "      <td>4</td>\n",
       "      <td>3</td>\n",
       "      <td>3</td>\n",
       "      <td>3</td>\n",
       "      <td>0</td>\n",
       "      <td>0.0</td>\n",
       "      <td>1</td>\n",
       "    </tr>\n",
       "  </tbody>\n",
       "</table>\n",
       "<p>5 rows × 23 columns</p>\n",
       "</div>"
      ],
      "text/plain": [
       "   Gender      Customer Type  Age   Type of Travel     Class  Flight Distance  \\\n",
       "0    Male     Loyal Customer   13  Personal Travel  Eco Plus              460   \n",
       "1    Male  disloyal Customer   25  Business travel  Business              235   \n",
       "2  Female     Loyal Customer   26  Business travel  Business             1142   \n",
       "3  Female     Loyal Customer   25  Business travel  Business              562   \n",
       "4    Male     Loyal Customer   61  Business travel  Business              214   \n",
       "\n",
       "   Inflight wifi service  Departure/Arrival time convenient  \\\n",
       "0                      3                                  4   \n",
       "1                      3                                  2   \n",
       "2                      2                                  2   \n",
       "3                      2                                  5   \n",
       "4                      3                                  3   \n",
       "\n",
       "   Ease of Online booking  Gate location  ...  Inflight entertainment  \\\n",
       "0                       3              1  ...                       5   \n",
       "1                       3              3  ...                       1   \n",
       "2                       2              2  ...                       5   \n",
       "3                       5              5  ...                       2   \n",
       "4                       3              3  ...                       3   \n",
       "\n",
       "   On-board service  Leg room service  Baggage handling  Checkin service  \\\n",
       "0                 4                 3                 4                4   \n",
       "1                 1                 5                 3                1   \n",
       "2                 4                 3                 4                4   \n",
       "3                 2                 5                 3                1   \n",
       "4                 3                 4                 4                3   \n",
       "\n",
       "   Inflight service  Cleanliness  Departure Delay in Minutes  \\\n",
       "0                 5            5                          25   \n",
       "1                 4            1                           1   \n",
       "2                 4            5                           0   \n",
       "3                 4            2                          11   \n",
       "4                 3            3                           0   \n",
       "\n",
       "   Arrival Delay in Minutes  satisfaction  \n",
       "0                      18.0             0  \n",
       "1                       6.0             0  \n",
       "2                       0.0             1  \n",
       "3                       9.0             0  \n",
       "4                       0.0             1  \n",
       "\n",
       "[5 rows x 23 columns]"
      ]
     },
     "execution_count": 7,
     "metadata": {},
     "output_type": "execute_result"
    }
   ],
   "source": [
    "train_data['satisfaction'] = train_data['satisfaction'].map({'neutral or dissatisfied' : 0, 'satisfied' : 1})\n",
    "train_data.head()"
   ]
  },
  {
   "cell_type": "markdown",
   "id": "d8f68f0f",
   "metadata": {
    "papermill": {
     "duration": 0.051255,
     "end_time": "2022-04-03T15:13:39.211460",
     "exception": false,
     "start_time": "2022-04-03T15:13:39.160205",
     "status": "completed"
    },
    "tags": []
   },
   "source": [
    "# **EDA**"
   ]
  },
  {
   "cell_type": "code",
   "execution_count": 8,
   "id": "9bbd676e",
   "metadata": {
    "execution": {
     "iopub.execute_input": "2022-04-03T15:13:39.319118Z",
     "iopub.status.busy": "2022-04-03T15:13:39.318452Z",
     "iopub.status.idle": "2022-04-03T15:13:39.534496Z",
     "shell.execute_reply": "2022-04-03T15:13:39.535079Z",
     "shell.execute_reply.started": "2022-04-03T14:26:42.138774Z"
    },
    "papermill": {
     "duration": 0.272833,
     "end_time": "2022-04-03T15:13:39.535293",
     "exception": false,
     "start_time": "2022-04-03T15:13:39.262460",
     "status": "completed"
    },
    "tags": []
   },
   "outputs": [
    {
     "data": {
      "image/png": "[encoded data removed]",
      "text/plain": [
       "<Figure size 432x288 with 1 Axes>"
      ]
     },
     "metadata": {
      "needs_background": "light"
     },
     "output_type": "display_data"
    }
   ],
   "source": [
    "sns.countplot(x ='satisfaction', data = train_data)\n",
    "plt.title('Neutral or Dissatisfied vs Satisfied')\n",
    "plt.show()"
   ]
  },
  {
   "cell_type": "code",
   "execution_count": 9,
   "id": "cc401bfd",
   "metadata": {
    "execution": {
     "iopub.execute_input": "2022-04-03T15:13:39.684744Z",
     "iopub.status.busy": "2022-04-03T15:13:39.683756Z",
     "iopub.status.idle": "2022-04-03T15:13:39.707146Z",
     "shell.execute_reply": "2022-04-03T15:13:39.707986Z",
     "shell.execute_reply.started": "2022-04-03T14:26:42.337112Z"
    },
    "papermill": {
     "duration": 0.118829,
     "end_time": "2022-04-03T15:13:39.708275",
     "exception": false,
     "start_time": "2022-04-03T15:13:39.589446",
     "status": "completed"
    },
    "tags": []
   },
   "outputs": [
    {
     "name": "stdout",
     "output_type": "stream",
     "text": [
      "<class 'pandas.core.frame.DataFrame'>\n",
      "RangeIndex: 103904 entries, 0 to 103903\n",
      "Data columns (total 23 columns):\n",
      " #   Column                             Non-Null Count   Dtype  \n",
      "---  ------                             --------------   -----  \n",
      " 0   Gender                             103904 non-null  object \n",
      " 1   Customer Type                      103904 non-null  object \n",
      " 2   Age                                103904 non-null  int64  \n",
      " 3   Type of Travel                     103904 non-null  object \n",
      " 4   Class                              103904 non-null  object \n",
      " 5   Flight Distance                    103904 non-null  int64  \n",
      " 6   Inflight wifi service              103904 non-null  int64  \n",
      " 7   Departure/Arrival time convenient  103904 non-null  int64  \n",
      " 8   Ease of Online booking             103904 non-null  int64  \n",
      " 9   Gate location                      103904 non-null  int64  \n",
      " 10  Food and drink                     103904 non-null  int64  \n",
      " 11  Online boarding                    103904 non-null  int64  \n",
      " 12  Seat comfort                       103904 non-null  int64  \n",
      " 13  Inflight entertainment             103904 non-null  int64  \n",
      " 14  On-board service                   103904 non-null  int64  \n",
      " 15  Leg room service                   103904 non-null  int64  \n",
      " 16  Baggage handling                   103904 non-null  int64  \n",
      " 17  Checkin service                    103904 non-null  int64  \n",
      " 18  Inflight service                   103904 non-null  int64  \n",
      " 19  Cleanliness                        103904 non-null  int64  \n",
      " 20  Departure Delay in Minutes         103904 non-null  int64  \n",
      " 21  Arrival Delay in Minutes           103594 non-null  float64\n",
      " 22  satisfaction                       103904 non-null  int64  \n",
      "dtypes: float64(1), int64(18), object(4)\n",
      "memory usage: 18.2+ MB\n"
     ]
    }
   ],
   "source": [
    "train_data.info()"
   ]
  },
  {
   "cell_type": "code",
   "execution_count": 10,
   "id": "81f3810a",
   "metadata": {
    "execution": {
     "iopub.execute_input": "2022-04-03T15:13:39.859658Z",
     "iopub.status.busy": "2022-04-03T15:13:39.858649Z",
     "iopub.status.idle": "2022-04-03T15:13:39.869945Z",
     "shell.execute_reply": "2022-04-03T15:13:39.870583Z",
     "shell.execute_reply.started": "2022-04-03T14:26:42.401204Z"
    },
    "papermill": {
     "duration": 0.106522,
     "end_time": "2022-04-03T15:13:39.870741",
     "exception": false,
     "start_time": "2022-04-03T15:13:39.764219",
     "status": "completed"
    },
    "tags": []
   },
   "outputs": [
    {
     "data": {
      "text/plain": [
       "Gender                                 0\n",
       "Customer Type                          0\n",
       "Age                                    0\n",
       "Type of Travel                         0\n",
       "Class                                  0\n",
       "Flight Distance                        0\n",
       "Inflight wifi service                  0\n",
       "Departure/Arrival time convenient      0\n",
       "Ease of Online booking                 0\n",
       "Gate location                          0\n",
       "Food and drink                         0\n",
       "Online boarding                        0\n",
       "Seat comfort                           0\n",
       "Inflight entertainment                 0\n",
       "On-board service                       0\n",
       "Leg room service                       0\n",
       "Baggage handling                       0\n",
       "Checkin service                        0\n",
       "Inflight service                       0\n",
       "Cleanliness                            0\n",
       "Departure Delay in Minutes             0\n",
       "Arrival Delay in Minutes             310\n",
       "satisfaction                           0\n",
       "dtype: int64"
      ]
     },
     "execution_count": 10,
     "metadata": {},
     "output_type": "execute_result"
    }
   ],
   "source": [
    "train_data.isnull().sum()"
   ]
  },
  {
   "cell_type": "code",
   "execution_count": 11,
   "id": "d03c5564",
   "metadata": {
    "execution": {
     "iopub.execute_input": "2022-04-03T15:13:39.983591Z",
     "iopub.status.busy": "2022-04-03T15:13:39.982723Z",
     "iopub.status.idle": "2022-04-03T15:13:39.986458Z",
     "shell.execute_reply": "2022-04-03T15:13:39.987042Z",
     "shell.execute_reply.started": "2022-04-03T14:26:42.453501Z"
    },
    "papermill": {
     "duration": 0.064022,
     "end_time": "2022-04-03T15:13:39.987200",
     "exception": false,
     "start_time": "2022-04-03T15:13:39.923178",
     "status": "completed"
    },
    "tags": []
   },
   "outputs": [
    {
     "data": {
      "text/plain": [
       "['Age',\n",
       " 'Flight Distance',\n",
       " 'Inflight wifi service',\n",
       " 'Departure/Arrival time convenient',\n",
       " 'Ease of Online booking',\n",
       " 'Gate location',\n",
       " 'Food and drink',\n",
       " 'Online boarding',\n",
       " 'Seat comfort',\n",
       " 'Inflight entertainment',\n",
       " 'On-board service',\n",
       " 'Leg room service',\n",
       " 'Baggage handling',\n",
       " 'Checkin service',\n",
       " 'Inflight service',\n",
       " 'Cleanliness',\n",
       " 'Departure Delay in Minutes',\n",
       " 'Arrival Delay in Minutes',\n",
       " 'satisfaction']"
      ]
     },
     "execution_count": 11,
     "metadata": {},
     "output_type": "execute_result"
    }
   ],
   "source": [
    "#Numercial Columns\n",
    "numerical_cols = [col for col in train_data.columns if train_data[col].dtypes in ['int64','float64']]\n",
    "numerical_cols"
   ]
  },
  {
   "cell_type": "code",
   "execution_count": 12,
   "id": "9dd7cca5",
   "metadata": {
    "execution": {
     "iopub.execute_input": "2022-04-03T15:13:40.100437Z",
     "iopub.status.busy": "2022-04-03T15:13:40.099158Z",
     "iopub.status.idle": "2022-04-03T15:13:40.235242Z",
     "shell.execute_reply": "2022-04-03T15:13:40.235769Z",
     "shell.execute_reply.started": "2022-04-03T14:26:42.461418Z"
    },
    "papermill": {
     "duration": 0.19391,
     "end_time": "2022-04-03T15:13:40.235952",
     "exception": false,
     "start_time": "2022-04-03T15:13:40.042042",
     "status": "completed"
    },
    "tags": []
   },
   "outputs": [
    {
     "data": {
      "text/html": [
       "<div>\n",
       "<style scoped>\n",
       "    .dataframe tbody tr th:only-of-type {\n",
       "        vertical-align: middle;\n",
       "    }\n",
       "\n",
       "    .dataframe tbody tr th {\n",
       "        vertical-align: top;\n",
       "    }\n",
       "\n",
       "    .dataframe thead th {\n",
       "        text-align: right;\n",
       "    }\n",
       "</style>\n",
       "<table border=\"1\" class=\"dataframe\">\n",
       "  <thead>\n",
       "    <tr style=\"text-align: right;\">\n",
       "      <th></th>\n",
       "      <th>Age</th>\n",
       "      <th>Flight Distance</th>\n",
       "      <th>Inflight wifi service</th>\n",
       "      <th>Departure/Arrival time convenient</th>\n",
       "      <th>Ease of Online booking</th>\n",
       "      <th>Gate location</th>\n",
       "      <th>Food and drink</th>\n",
       "      <th>Online boarding</th>\n",
       "      <th>Seat comfort</th>\n",
       "      <th>Inflight entertainment</th>\n",
       "      <th>On-board service</th>\n",
       "      <th>Leg room service</th>\n",
       "      <th>Baggage handling</th>\n",
       "      <th>Checkin service</th>\n",
       "      <th>Inflight service</th>\n",
       "      <th>Cleanliness</th>\n",
       "      <th>Departure Delay in Minutes</th>\n",
       "      <th>Arrival Delay in Minutes</th>\n",
       "      <th>satisfaction</th>\n",
       "    </tr>\n",
       "  </thead>\n",
       "  <tbody>\n",
       "    <tr>\n",
       "      <th>count</th>\n",
       "      <td>103904.000000</td>\n",
       "      <td>103904.000000</td>\n",
       "      <td>103904.000000</td>\n",
       "      <td>103904.000000</td>\n",
       "      <td>103904.000000</td>\n",
       "      <td>103904.000000</td>\n",
       "      <td>103904.000000</td>\n",
       "      <td>103904.000000</td>\n",
       "      <td>103904.000000</td>\n",
       "      <td>103904.000000</td>\n",
       "      <td>103904.000000</td>\n",
       "      <td>103904.000000</td>\n",
       "      <td>103904.000000</td>\n",
       "      <td>103904.000000</td>\n",
       "      <td>103904.000000</td>\n",
       "      <td>103904.000000</td>\n",
       "      <td>103904.000000</td>\n",
       "      <td>103594.000000</td>\n",
       "      <td>103904.000000</td>\n",
       "    </tr>\n",
       "    <tr>\n",
       "      <th>mean</th>\n",
       "      <td>39.379706</td>\n",
       "      <td>1189.448375</td>\n",
       "      <td>2.729683</td>\n",
       "      <td>3.060296</td>\n",
       "      <td>2.756901</td>\n",
       "      <td>2.976883</td>\n",
       "      <td>3.202129</td>\n",
       "      <td>3.250375</td>\n",
       "      <td>3.439396</td>\n",
       "      <td>3.358158</td>\n",
       "      <td>3.382363</td>\n",
       "      <td>3.351055</td>\n",
       "      <td>3.631833</td>\n",
       "      <td>3.304290</td>\n",
       "      <td>3.640428</td>\n",
       "      <td>3.286351</td>\n",
       "      <td>14.815618</td>\n",
       "      <td>15.178678</td>\n",
       "      <td>0.433333</td>\n",
       "    </tr>\n",
       "    <tr>\n",
       "      <th>std</th>\n",
       "      <td>15.114964</td>\n",
       "      <td>997.147281</td>\n",
       "      <td>1.327829</td>\n",
       "      <td>1.525075</td>\n",
       "      <td>1.398929</td>\n",
       "      <td>1.277621</td>\n",
       "      <td>1.329533</td>\n",
       "      <td>1.349509</td>\n",
       "      <td>1.319088</td>\n",
       "      <td>1.332991</td>\n",
       "      <td>1.288354</td>\n",
       "      <td>1.315605</td>\n",
       "      <td>1.180903</td>\n",
       "      <td>1.265396</td>\n",
       "      <td>1.175663</td>\n",
       "      <td>1.312273</td>\n",
       "      <td>38.230901</td>\n",
       "      <td>38.698682</td>\n",
       "      <td>0.495538</td>\n",
       "    </tr>\n",
       "    <tr>\n",
       "      <th>min</th>\n",
       "      <td>7.000000</td>\n",
       "      <td>31.000000</td>\n",
       "      <td>0.000000</td>\n",
       "      <td>0.000000</td>\n",
       "      <td>0.000000</td>\n",
       "      <td>0.000000</td>\n",
       "      <td>0.000000</td>\n",
       "      <td>0.000000</td>\n",
       "      <td>0.000000</td>\n",
       "      <td>0.000000</td>\n",
       "      <td>0.000000</td>\n",
       "      <td>0.000000</td>\n",
       "      <td>1.000000</td>\n",
       "      <td>0.000000</td>\n",
       "      <td>0.000000</td>\n",
       "      <td>0.000000</td>\n",
       "      <td>0.000000</td>\n",
       "      <td>0.000000</td>\n",
       "      <td>0.000000</td>\n",
       "    </tr>\n",
       "    <tr>\n",
       "      <th>25%</th>\n",
       "      <td>27.000000</td>\n",
       "      <td>414.000000</td>\n",
       "      <td>2.000000</td>\n",
       "      <td>2.000000</td>\n",
       "      <td>2.000000</td>\n",
       "      <td>2.000000</td>\n",
       "      <td>2.000000</td>\n",
       "      <td>2.000000</td>\n",
       "      <td>2.000000</td>\n",
       "      <td>2.000000</td>\n",
       "      <td>2.000000</td>\n",
       "      <td>2.000000</td>\n",
       "      <td>3.000000</td>\n",
       "      <td>3.000000</td>\n",
       "      <td>3.000000</td>\n",
       "      <td>2.000000</td>\n",
       "      <td>0.000000</td>\n",
       "      <td>0.000000</td>\n",
       "      <td>0.000000</td>\n",
       "    </tr>\n",
       "    <tr>\n",
       "      <th>50%</th>\n",
       "      <td>40.000000</td>\n",
       "      <td>843.000000</td>\n",
       "      <td>3.000000</td>\n",
       "      <td>3.000000</td>\n",
       "      <td>3.000000</td>\n",
       "      <td>3.000000</td>\n",
       "      <td>3.000000</td>\n",
       "      <td>3.000000</td>\n",
       "      <td>4.000000</td>\n",
       "      <td>4.000000</td>\n",
       "      <td>4.000000</td>\n",
       "      <td>4.000000</td>\n",
       "      <td>4.000000</td>\n",
       "      <td>3.000000</td>\n",
       "      <td>4.000000</td>\n",
       "      <td>3.000000</td>\n",
       "      <td>0.000000</td>\n",
       "      <td>0.000000</td>\n",
       "      <td>0.000000</td>\n",
       "    </tr>\n",
       "    <tr>\n",
       "      <th>75%</th>\n",
       "      <td>51.000000</td>\n",
       "      <td>1743.000000</td>\n",
       "      <td>4.000000</td>\n",
       "      <td>4.000000</td>\n",
       "      <td>4.000000</td>\n",
       "      <td>4.000000</td>\n",
       "      <td>4.000000</td>\n",
       "      <td>4.000000</td>\n",
       "      <td>5.000000</td>\n",
       "      <td>4.000000</td>\n",
       "      <td>4.000000</td>\n",
       "      <td>4.000000</td>\n",
       "      <td>5.000000</td>\n",
       "      <td>4.000000</td>\n",
       "      <td>5.000000</td>\n",
       "      <td>4.000000</td>\n",
       "      <td>12.000000</td>\n",
       "      <td>13.000000</td>\n",
       "      <td>1.000000</td>\n",
       "    </tr>\n",
       "    <tr>\n",
       "      <th>max</th>\n",
       "      <td>85.000000</td>\n",
       "      <td>4983.000000</td>\n",
       "      <td>5.000000</td>\n",
       "      <td>5.000000</td>\n",
       "      <td>5.000000</td>\n",
       "      <td>5.000000</td>\n",
       "      <td>5.000000</td>\n",
       "      <td>5.000000</td>\n",
       "      <td>5.000000</td>\n",
       "      <td>5.000000</td>\n",
       "      <td>5.000000</td>\n",
       "      <td>5.000000</td>\n",
       "      <td>5.000000</td>\n",
       "      <td>5.000000</td>\n",
       "      <td>5.000000</td>\n",
       "      <td>5.000000</td>\n",
       "      <td>1592.000000</td>\n",
       "      <td>1584.000000</td>\n",
       "      <td>1.000000</td>\n",
       "    </tr>\n",
       "  </tbody>\n",
       "</table>\n",
       "</div>"
      ],
      "text/plain": [
       "                 Age  Flight Distance  Inflight wifi service  \\\n",
       "count  103904.000000    103904.000000          103904.000000   \n",
       "mean       39.379706      1189.448375               2.729683   \n",
       "std        15.114964       997.147281               1.327829   \n",
       "min         7.000000        31.000000               0.000000   \n",
       "25%        27.000000       414.000000               2.000000   \n",
       "50%        40.000000       843.000000               3.000000   \n",
       "75%        51.000000      1743.000000               4.000000   \n",
       "max        85.000000      4983.000000               5.000000   \n",
       "\n",
       "       Departure/Arrival time convenient  Ease of Online booking  \\\n",
       "count                      103904.000000           103904.000000   \n",
       "mean                            3.060296                2.756901   \n",
       "std                             1.525075                1.398929   \n",
       "min                             0.000000                0.000000   \n",
       "25%                             2.000000                2.000000   \n",
       "50%                             3.000000                3.000000   \n",
       "75%                             4.000000                4.000000   \n",
       "max                             5.000000                5.000000   \n",
       "\n",
       "       Gate location  Food and drink  Online boarding   Seat comfort  \\\n",
       "count  103904.000000   103904.000000    103904.000000  103904.000000   \n",
       "mean        2.976883        3.202129         3.250375       3.439396   \n",
       "std         1.277621        1.329533         1.349509       1.319088   \n",
       "min         0.000000        0.000000         0.000000       0.000000   \n",
       "25%         2.000000        2.000000         2.000000       2.000000   \n",
       "50%         3.000000        3.000000         3.000000       4.000000   \n",
       "75%         4.000000        4.000000         4.000000       5.000000   \n",
       "max         5.000000        5.000000         5.000000       5.000000   \n",
       "\n",
       "       Inflight entertainment  On-board service  Leg room service  \\\n",
       "count           103904.000000     103904.000000     103904.000000   \n",
       "mean                 3.358158          3.382363          3.351055   \n",
       "std                  1.332991          1.288354          1.315605   \n",
       "min                  0.000000          0.000000          0.000000   \n",
       "25%                  2.000000          2.000000          2.000000   \n",
       "50%                  4.000000          4.000000          4.000000   \n",
       "75%                  4.000000          4.000000          4.000000   \n",
       "max                  5.000000          5.000000          5.000000   \n",
       "\n",
       "       Baggage handling  Checkin service  Inflight service    Cleanliness  \\\n",
       "count     103904.000000    103904.000000     103904.000000  103904.000000   \n",
       "mean           3.631833         3.304290          3.640428       3.286351   \n",
       "std            1.180903         1.265396          1.175663       1.312273   \n",
       "min            1.000000         0.000000          0.000000       0.000000   \n",
       "25%            3.000000         3.000000          3.000000       2.000000   \n",
       "50%            4.000000         3.000000          4.000000       3.000000   \n",
       "75%            5.000000         4.000000          5.000000       4.000000   \n",
       "max            5.000000         5.000000          5.000000       5.000000   \n",
       "\n",
       "       Departure Delay in Minutes  Arrival Delay in Minutes   satisfaction  \n",
       "count               103904.000000             103594.000000  103904.000000  \n",
       "mean                    14.815618                 15.178678       0.433333  \n",
       "std                     38.230901                 38.698682       0.495538  \n",
       "min                      0.000000                  0.000000       0.000000  \n",
       "25%                      0.000000                  0.000000       0.000000  \n",
       "50%                      0.000000                  0.000000       0.000000  \n",
       "75%                     12.000000                 13.000000       1.000000  \n",
       "max                   1592.000000               1584.000000       1.000000  "
      ]
     },
     "execution_count": 12,
     "metadata": {},
     "output_type": "execute_result"
    }
   ],
   "source": [
    "train_data[numerical_cols].describe()"
   ]
  },
  {
   "cell_type": "code",
   "execution_count": 13,
   "id": "71b715db",
   "metadata": {
    "execution": {
     "iopub.execute_input": "2022-04-03T15:13:40.357610Z",
     "iopub.status.busy": "2022-04-03T15:13:40.356396Z",
     "iopub.status.idle": "2022-04-03T15:13:42.505813Z",
     "shell.execute_reply": "2022-04-03T15:13:42.506516Z",
     "shell.execute_reply.started": "2022-04-03T14:26:42.58134Z"
    },
    "papermill": {
     "duration": 2.21686,
     "end_time": "2022-04-03T15:13:42.506753",
     "exception": false,
     "start_time": "2022-04-03T15:13:40.289893",
     "status": "completed"
    },
    "tags": []
   },
   "outputs": [
    {
     "data": {
      "image/png": "[encoded data removed]",
      "text/plain": [
       "<Figure size 1152x720 with 2 Axes>"
      ]
     },
     "metadata": {
      "needs_background": "light"
     },
     "output_type": "display_data"
    }
   ],
   "source": [
    "#Correlation Heatmap\n",
    "plt.figure(figsize=(16,10))\n",
    "sns.heatmap(train_data[numerical_cols].corr(), annot=True)\n",
    "plt.show()"
   ]
  },
  {
   "cell_type": "code",
   "execution_count": 14,
   "id": "3b766c49",
   "metadata": {
    "execution": {
     "iopub.execute_input": "2022-04-03T15:13:42.638167Z",
     "iopub.status.busy": "2022-04-03T15:13:42.637059Z",
     "iopub.status.idle": "2022-04-03T15:13:46.305372Z",
     "shell.execute_reply": "2022-04-03T15:13:46.305954Z",
     "shell.execute_reply.started": "2022-04-03T14:26:44.417173Z"
    },
    "papermill": {
     "duration": 3.737924,
     "end_time": "2022-04-03T15:13:46.306164",
     "exception": false,
     "start_time": "2022-04-03T15:13:42.568240",
     "status": "completed"
    },
    "tags": []
   },
   "outputs": [
    {
     "data": {
      "image/png": "[encoded data removed]",
      "text/plain": [
       "<Figure size 720x360 with 1 Axes>"
      ]
     },
     "metadata": {
      "needs_background": "light"
     },
     "output_type": "display_data"
    },
    {
     "data": {
      "image/png": "[encoded data removed]",
      "text/plain": [
       "<Figure size 720x360 with 1 Axes>"
      ]
     },
     "metadata": {
      "needs_background": "light"
     },
     "output_type": "display_data"
    }
   ],
   "source": [
    "#Inflight wifi service with Ease of Online booking had a correlation of 0.72\n",
    "for col in ['Inflight wifi service', 'Ease of Online booking']:\n",
    "    sns.catplot(x=col, y='satisfaction', data=train_data, kind='point', aspect=2, )\n",
    "    plt.ylim(0, 1)"
   ]
  },
  {
   "cell_type": "markdown",
   "id": "08a0d474",
   "metadata": {
    "papermill": {
     "duration": 0.060784,
     "end_time": "2022-04-03T15:13:46.429547",
     "exception": false,
     "start_time": "2022-04-03T15:13:46.368763",
     "status": "completed"
    },
    "tags": []
   },
   "source": [
    "**Maybe try to combine them in 1 feature later**"
   ]
  },
  {
   "cell_type": "code",
   "execution_count": 15,
   "id": "b05e0ae1",
   "metadata": {
    "execution": {
     "iopub.execute_input": "2022-04-03T15:13:46.559326Z",
     "iopub.status.busy": "2022-04-03T15:13:46.558309Z",
     "iopub.status.idle": "2022-04-03T15:13:54.259050Z",
     "shell.execute_reply": "2022-04-03T15:13:54.258310Z",
     "shell.execute_reply.started": "2022-04-03T14:26:47.35954Z"
    },
    "papermill": {
     "duration": 7.768885,
     "end_time": "2022-04-03T15:13:54.259203",
     "exception": false,
     "start_time": "2022-04-03T15:13:46.490318",
     "status": "completed"
    },
    "tags": []
   },
   "outputs": [
    {
     "data": {
      "image/png": "[encoded data removed]",
      "text/plain": [
       "<Figure size 720x360 with 1 Axes>"
      ]
     },
     "metadata": {
      "needs_background": "light"
     },
     "output_type": "display_data"
    },
    {
     "data": {
      "image/png": "[encoded data removed]",
      "text/plain": [
       "<Figure size 720x360 with 1 Axes>"
      ]
     },
     "metadata": {
      "needs_background": "light"
     },
     "output_type": "display_data"
    },
    {
     "data": {
      "image/png": "[encoded data removed]",
      "text/plain": [
       "<Figure size 720x360 with 1 Axes>"
      ]
     },
     "metadata": {
      "needs_background": "light"
     },
     "output_type": "display_data"
    },
    {
     "data": {
      "image/png": "[encoded data removed]",
      "text/plain": [
       "<Figure size 720x360 with 1 Axes>"
      ]
     },
     "metadata": {
      "needs_background": "light"
     },
     "output_type": "display_data"
    }
   ],
   "source": [
    "#Cleanliness, Inflight entertainment, Seat comfort and Food and drink had high correlations\n",
    "for col in ['Cleanliness', 'Inflight entertainment','Seat comfort','Food and drink']:\n",
    "    sns.catplot(x=col, y='satisfaction', data=train_data, kind='point', aspect=2, )\n",
    "    plt.ylim(0, 1)"
   ]
  },
  {
   "cell_type": "markdown",
   "id": "e17433dd",
   "metadata": {
    "papermill": {
     "duration": 0.06465,
     "end_time": "2022-04-03T15:13:54.387929",
     "exception": false,
     "start_time": "2022-04-03T15:13:54.323279",
     "status": "completed"
    },
    "tags": []
   },
   "source": [
    "**Maybe try to combine them in 1 feature later**"
   ]
  },
  {
   "cell_type": "code",
   "execution_count": 16,
   "id": "4dcafad8",
   "metadata": {
    "execution": {
     "iopub.execute_input": "2022-04-03T15:13:54.521060Z",
     "iopub.status.busy": "2022-04-03T15:13:54.520164Z",
     "iopub.status.idle": "2022-04-03T15:13:54.523809Z",
     "shell.execute_reply": "2022-04-03T15:13:54.524306Z",
     "shell.execute_reply.started": "2022-04-03T14:26:53.750643Z"
    },
    "papermill": {
     "duration": 0.072926,
     "end_time": "2022-04-03T15:13:54.524445",
     "exception": false,
     "start_time": "2022-04-03T15:13:54.451519",
     "status": "completed"
    },
    "tags": []
   },
   "outputs": [
    {
     "data": {
      "text/plain": [
       "['Age',\n",
       " 'Flight Distance',\n",
       " 'Inflight wifi service',\n",
       " 'Departure/Arrival time convenient',\n",
       " 'Ease of Online booking',\n",
       " 'Gate location',\n",
       " 'Food and drink',\n",
       " 'Online boarding',\n",
       " 'Seat comfort',\n",
       " 'Inflight entertainment',\n",
       " 'On-board service',\n",
       " 'Leg room service',\n",
       " 'Baggage handling',\n",
       " 'Checkin service',\n",
       " 'Inflight service',\n",
       " 'Cleanliness',\n",
       " 'Departure Delay in Minutes',\n",
       " 'Arrival Delay in Minutes']"
      ]
     },
     "execution_count": 16,
     "metadata": {},
     "output_type": "execute_result"
    }
   ],
   "source": [
    "numerical_cols.remove('satisfaction')\n",
    "numerical_cols"
   ]
  },
  {
   "cell_type": "code",
   "execution_count": 17,
   "id": "403a5402",
   "metadata": {
    "execution": {
     "iopub.execute_input": "2022-04-03T15:13:54.673434Z",
     "iopub.status.busy": "2022-04-03T15:13:54.672473Z",
     "iopub.status.idle": "2022-04-03T15:13:54.676170Z",
     "shell.execute_reply": "2022-04-03T15:13:54.676638Z",
     "shell.execute_reply.started": "2022-04-03T14:26:53.761385Z"
    },
    "papermill": {
     "duration": 0.087809,
     "end_time": "2022-04-03T15:13:54.676801",
     "exception": false,
     "start_time": "2022-04-03T15:13:54.588992",
     "status": "completed"
    },
    "tags": []
   },
   "outputs": [
    {
     "data": {
      "text/plain": [
       "['Gender', 'Customer Type', 'Type of Travel', 'Class']"
      ]
     },
     "execution_count": 17,
     "metadata": {},
     "output_type": "execute_result"
    }
   ],
   "source": [
    "#Categorical Columns\n",
    "categorical_cols = [col for col in train_data.columns if train_data[col].dtypes in ['object']]\n",
    "#categorical_cols.append('satisfaction')  #Adding the satisfaction(target) column for EDA\n",
    "categorical_cols"
   ]
  },
  {
   "cell_type": "code",
   "execution_count": 18,
   "id": "eba11c3a",
   "metadata": {
    "execution": {
     "iopub.execute_input": "2022-04-03T15:13:54.819967Z",
     "iopub.status.busy": "2022-04-03T15:13:54.819088Z",
     "iopub.status.idle": "2022-04-03T15:14:02.927521Z",
     "shell.execute_reply": "2022-04-03T15:14:02.928058Z",
     "shell.execute_reply.started": "2022-04-03T14:26:53.77244Z"
    },
    "papermill": {
     "duration": 8.187673,
     "end_time": "2022-04-03T15:14:02.928219",
     "exception": false,
     "start_time": "2022-04-03T15:13:54.740546",
     "status": "completed"
    },
    "tags": []
   },
   "outputs": [
    {
     "data": {
      "image/png": "[encoded data removed]",
      "text/plain": [
       "<Figure size 720x360 with 1 Axes>"
      ]
     },
     "metadata": {
      "needs_background": "light"
     },
     "output_type": "display_data"
    },
    {
     "data": {
      "image/png": "[encoded data removed]",
      "text/plain": [
       "<Figure size 720x360 with 1 Axes>"
      ]
     },
     "metadata": {
      "needs_background": "light"
     },
     "output_type": "display_data"
    },
    {
     "data": {
      "image/png": "[encoded data removed]",
      "text/plain": [
       "<Figure size 720x360 with 1 Axes>"
      ]
     },
     "metadata": {
      "needs_background": "light"
     },
     "output_type": "display_data"
    },
    {
     "data": {
      "image/png": "[encoded data removed]",
      "text/plain": [
       "<Figure size 720x360 with 1 Axes>"
      ]
     },
     "metadata": {
      "needs_background": "light"
     },
     "output_type": "display_data"
    }
   ],
   "source": [
    "#Categorical plots for categorical features\n",
    "for col in categorical_cols:\n",
    "    sns.catplot(x=col, y='satisfaction', data=train_data, kind='point', aspect=2, )\n",
    "    plt.ylim(0, 1)  #Ylim makes the y axis Min->0 and Max->1"
   ]
  },
  {
   "cell_type": "markdown",
   "id": "2f1c236c",
   "metadata": {
    "papermill": {
     "duration": 0.070149,
     "end_time": "2022-04-03T15:14:03.067501",
     "exception": false,
     "start_time": "2022-04-03T15:14:02.997352",
     "status": "completed"
    },
    "tags": []
   },
   "source": [
    "**Notes on the categorical visualisations:**\n",
    "1. There's no difference in the satisfaction for Male or Female passengers.\n",
    "2. Loyal Customers were more Satisfied than Disloyal Customers.\n",
    "3. Business Travel had higher satisfaction rate than personal travel.\n",
    "4. Business Class had higher satifaction rate than both Economy and Economy Plus."
   ]
  },
  {
   "cell_type": "markdown",
   "id": "3ad0bf18",
   "metadata": {
    "papermill": {
     "duration": 0.06859,
     "end_time": "2022-04-03T15:14:03.203789",
     "exception": false,
     "start_time": "2022-04-03T15:14:03.135199",
     "status": "completed"
    },
    "tags": []
   },
   "source": [
    "# **Preprocessing**"
   ]
  },
  {
   "cell_type": "code",
   "execution_count": 19,
   "id": "db95407a",
   "metadata": {
    "execution": {
     "iopub.execute_input": "2022-04-03T15:14:03.349018Z",
     "iopub.status.busy": "2022-04-03T15:14:03.348068Z",
     "iopub.status.idle": "2022-04-03T15:14:03.395169Z",
     "shell.execute_reply": "2022-04-03T15:14:03.394586Z",
     "shell.execute_reply.started": "2022-04-03T14:26:59.892054Z"
    },
    "papermill": {
     "duration": 0.122705,
     "end_time": "2022-04-03T15:14:03.395298",
     "exception": false,
     "start_time": "2022-04-03T15:14:03.272593",
     "status": "completed"
    },
    "tags": []
   },
   "outputs": [
    {
     "data": {
      "text/plain": [
       "Gender                                 0\n",
       "Customer Type                          0\n",
       "Age                                    0\n",
       "Type of Travel                         0\n",
       "Class                                  0\n",
       "Flight Distance                        0\n",
       "Inflight wifi service                  0\n",
       "Departure/Arrival time convenient      0\n",
       "Ease of Online booking                 0\n",
       "Gate location                          0\n",
       "Food and drink                         0\n",
       "Online boarding                        0\n",
       "Seat comfort                           0\n",
       "Inflight entertainment                 0\n",
       "On-board service                       0\n",
       "Leg room service                       0\n",
       "Baggage handling                       0\n",
       "Checkin service                        0\n",
       "Inflight service                       0\n",
       "Cleanliness                            0\n",
       "Departure Delay in Minutes             0\n",
       "Arrival Delay in Minutes             310\n",
       "satisfaction                           0\n",
       "dtype: int64"
      ]
     },
     "execution_count": 19,
     "metadata": {},
     "output_type": "execute_result"
    }
   ],
   "source": [
    "train_data.isnull().sum()"
   ]
  },
  {
   "cell_type": "code",
   "execution_count": 20,
   "id": "fe4cb42b",
   "metadata": {
    "execution": {
     "iopub.execute_input": "2022-04-03T15:14:03.536553Z",
     "iopub.status.busy": "2022-04-03T15:14:03.535618Z",
     "iopub.status.idle": "2022-04-03T15:14:03.539347Z",
     "shell.execute_reply": "2022-04-03T15:14:03.539842Z",
     "shell.execute_reply.started": "2022-04-03T14:26:59.943204Z"
    },
    "papermill": {
     "duration": 0.077223,
     "end_time": "2022-04-03T15:14:03.539976",
     "exception": false,
     "start_time": "2022-04-03T15:14:03.462753",
     "status": "completed"
    },
    "tags": []
   },
   "outputs": [
    {
     "data": {
      "text/plain": [
       "(103904, 23)"
      ]
     },
     "execution_count": 20,
     "metadata": {},
     "output_type": "execute_result"
    }
   ],
   "source": [
    "train_data.shape"
   ]
  },
  {
   "cell_type": "code",
   "execution_count": 21,
   "id": "5487420b",
   "metadata": {
    "execution": {
     "iopub.execute_input": "2022-04-03T15:14:03.683017Z",
     "iopub.status.busy": "2022-04-03T15:14:03.681914Z",
     "iopub.status.idle": "2022-04-03T15:14:03.743121Z",
     "shell.execute_reply": "2022-04-03T15:14:03.743616Z",
     "shell.execute_reply.started": "2022-04-03T14:26:59.950066Z"
    },
    "papermill": {
     "duration": 0.135588,
     "end_time": "2022-04-03T15:14:03.743775",
     "exception": false,
     "start_time": "2022-04-03T15:14:03.608187",
     "status": "completed"
    },
    "tags": []
   },
   "outputs": [
    {
     "data": {
      "text/plain": [
       "(103594, 23)"
      ]
     },
     "execution_count": 21,
     "metadata": {},
     "output_type": "execute_result"
    }
   ],
   "source": [
    "#Dropping the 310 rows which have null values in the Arrival Delay in Minutes\n",
    "train_data.dropna(axis=0, inplace=True)\n",
    "train_data.shape"
   ]
  },
  {
   "cell_type": "code",
   "execution_count": 22,
   "id": "768fc92d",
   "metadata": {
    "execution": {
     "iopub.execute_input": "2022-04-03T15:14:03.901044Z",
     "iopub.status.busy": "2022-04-03T15:14:03.899714Z",
     "iopub.status.idle": "2022-04-03T15:14:03.914612Z",
     "shell.execute_reply": "2022-04-03T15:14:03.915103Z",
     "shell.execute_reply.started": "2022-04-03T14:27:00.011212Z"
    },
    "papermill": {
     "duration": 0.101307,
     "end_time": "2022-04-03T15:14:03.915277",
     "exception": false,
     "start_time": "2022-04-03T15:14:03.813970",
     "status": "completed"
    },
    "tags": []
   },
   "outputs": [
    {
     "name": "stdout",
     "output_type": "stream",
     "text": [
      "<class 'pandas.core.frame.DataFrame'>\n",
      "RangeIndex: 25976 entries, 0 to 25975\n",
      "Data columns (total 23 columns):\n",
      " #   Column                             Non-Null Count  Dtype  \n",
      "---  ------                             --------------  -----  \n",
      " 0   Gender                             25976 non-null  object \n",
      " 1   Customer Type                      25976 non-null  object \n",
      " 2   Age                                25976 non-null  int64  \n",
      " 3   Type of Travel                     25976 non-null  object \n",
      " 4   Class                              25976 non-null  object \n",
      " 5   Flight Distance                    25976 non-null  int64  \n",
      " 6   Inflight wifi service              25976 non-null  int64  \n",
      " 7   Departure/Arrival time convenient  25976 non-null  int64  \n",
      " 8   Ease of Online booking             25976 non-null  int64  \n",
      " 9   Gate location                      25976 non-null  int64  \n",
      " 10  Food and drink                     25976 non-null  int64  \n",
      " 11  Online boarding                    25976 non-null  int64  \n",
      " 12  Seat comfort                       25976 non-null  int64  \n",
      " 13  Inflight entertainment             25976 non-null  int64  \n",
      " 14  On-board service                   25976 non-null  int64  \n",
      " 15  Leg room service                   25976 non-null  int64  \n",
      " 16  Baggage handling                   25976 non-null  int64  \n",
      " 17  Checkin service                    25976 non-null  int64  \n",
      " 18  Inflight service                   25976 non-null  int64  \n",
      " 19  Cleanliness                        25976 non-null  int64  \n",
      " 20  Departure Delay in Minutes         25976 non-null  int64  \n",
      " 21  Arrival Delay in Minutes           25893 non-null  float64\n",
      " 22  satisfaction                       25976 non-null  object \n",
      "dtypes: float64(1), int64(17), object(5)\n",
      "memory usage: 4.6+ MB\n"
     ]
    }
   ],
   "source": [
    "test_data.info()"
   ]
  },
  {
   "cell_type": "code",
   "execution_count": 23,
   "id": "42eef899",
   "metadata": {
    "execution": {
     "iopub.execute_input": "2022-04-03T15:14:04.074066Z",
     "iopub.status.busy": "2022-04-03T15:14:04.072898Z",
     "iopub.status.idle": "2022-04-03T15:14:04.085852Z",
     "shell.execute_reply": "2022-04-03T15:14:04.086506Z",
     "shell.execute_reply.started": "2022-04-03T14:27:00.036654Z"
    },
    "papermill": {
     "duration": 0.101952,
     "end_time": "2022-04-03T15:14:04.086687",
     "exception": false,
     "start_time": "2022-04-03T15:14:03.984735",
     "status": "completed"
    },
    "tags": []
   },
   "outputs": [
    {
     "data": {
      "text/plain": [
       "(25893, 23)"
      ]
     },
     "execution_count": 23,
     "metadata": {},
     "output_type": "execute_result"
    }
   ],
   "source": [
    "test_data.dropna(axis=0, inplace=True)\n",
    "test_data.shape"
   ]
  },
  {
   "cell_type": "code",
   "execution_count": 24,
   "id": "d84ff059",
   "metadata": {
    "execution": {
     "iopub.execute_input": "2022-04-03T15:14:04.235470Z",
     "iopub.status.busy": "2022-04-03T15:14:04.234714Z",
     "iopub.status.idle": "2022-04-03T15:14:04.465490Z",
     "shell.execute_reply": "2022-04-03T15:14:04.466064Z",
     "shell.execute_reply.started": "2022-04-03T14:27:00.060129Z"
    },
    "papermill": {
     "duration": 0.308807,
     "end_time": "2022-04-03T15:14:04.466275",
     "exception": false,
     "start_time": "2022-04-03T15:14:04.157468",
     "status": "completed"
    },
    "tags": []
   },
   "outputs": [
    {
     "data": {
      "text/html": [
       "<div>\n",
       "<style scoped>\n",
       "    .dataframe tbody tr th:only-of-type {\n",
       "        vertical-align: middle;\n",
       "    }\n",
       "\n",
       "    .dataframe tbody tr th {\n",
       "        vertical-align: top;\n",
       "    }\n",
       "\n",
       "    .dataframe thead th {\n",
       "        text-align: right;\n",
       "    }\n",
       "</style>\n",
       "<table border=\"1\" class=\"dataframe\">\n",
       "  <thead>\n",
       "    <tr style=\"text-align: right;\">\n",
       "      <th></th>\n",
       "      <th>Gender</th>\n",
       "      <th>Customer Type</th>\n",
       "      <th>Age</th>\n",
       "      <th>Type of Travel</th>\n",
       "      <th>Class</th>\n",
       "      <th>Flight Distance</th>\n",
       "      <th>Inflight wifi service</th>\n",
       "      <th>Departure/Arrival time convenient</th>\n",
       "      <th>Ease of Online booking</th>\n",
       "      <th>Gate location</th>\n",
       "      <th>...</th>\n",
       "      <th>Inflight entertainment</th>\n",
       "      <th>On-board service</th>\n",
       "      <th>Leg room service</th>\n",
       "      <th>Baggage handling</th>\n",
       "      <th>Checkin service</th>\n",
       "      <th>Inflight service</th>\n",
       "      <th>Cleanliness</th>\n",
       "      <th>Departure Delay in Minutes</th>\n",
       "      <th>Arrival Delay in Minutes</th>\n",
       "      <th>satisfaction</th>\n",
       "    </tr>\n",
       "  </thead>\n",
       "  <tbody>\n",
       "    <tr>\n",
       "      <th>0</th>\n",
       "      <td>Male</td>\n",
       "      <td>Loyal Customer</td>\n",
       "      <td>-1.745542</td>\n",
       "      <td>Personal Travel</td>\n",
       "      <td>Eco Plus</td>\n",
       "      <td>-0.731305</td>\n",
       "      <td>0.203521</td>\n",
       "      <td>0.616249</td>\n",
       "      <td>0.173716</td>\n",
       "      <td>-1.547312</td>\n",
       "      <td>...</td>\n",
       "      <td>1.231530</td>\n",
       "      <td>0.479237</td>\n",
       "      <td>-0.267143</td>\n",
       "      <td>0.311853</td>\n",
       "      <td>0.549773</td>\n",
       "      <td>1.156211</td>\n",
       "      <td>1.305913</td>\n",
       "      <td>0.268966</td>\n",
       "      <td>0.072905</td>\n",
       "      <td>0</td>\n",
       "    </tr>\n",
       "    <tr>\n",
       "      <th>1</th>\n",
       "      <td>Male</td>\n",
       "      <td>disloyal Customer</td>\n",
       "      <td>-0.951526</td>\n",
       "      <td>Business travel</td>\n",
       "      <td>Business</td>\n",
       "      <td>-0.956916</td>\n",
       "      <td>0.203521</td>\n",
       "      <td>-0.695032</td>\n",
       "      <td>0.173716</td>\n",
       "      <td>0.017981</td>\n",
       "      <td>...</td>\n",
       "      <td>-1.769166</td>\n",
       "      <td>-1.849452</td>\n",
       "      <td>1.253304</td>\n",
       "      <td>-0.534854</td>\n",
       "      <td>-1.821038</td>\n",
       "      <td>0.305580</td>\n",
       "      <td>-1.742432</td>\n",
       "      <td>-0.360682</td>\n",
       "      <td>-0.237184</td>\n",
       "      <td>0</td>\n",
       "    </tr>\n",
       "    <tr>\n",
       "      <th>2</th>\n",
       "      <td>Female</td>\n",
       "      <td>Loyal Customer</td>\n",
       "      <td>-0.885358</td>\n",
       "      <td>Business travel</td>\n",
       "      <td>Business</td>\n",
       "      <td>-0.047454</td>\n",
       "      <td>-0.549571</td>\n",
       "      <td>-0.695032</td>\n",
       "      <td>-0.541118</td>\n",
       "      <td>-0.764666</td>\n",
       "      <td>...</td>\n",
       "      <td>1.231530</td>\n",
       "      <td>0.479237</td>\n",
       "      <td>-0.267143</td>\n",
       "      <td>0.311853</td>\n",
       "      <td>0.549773</td>\n",
       "      <td>0.305580</td>\n",
       "      <td>1.305913</td>\n",
       "      <td>-0.386917</td>\n",
       "      <td>-0.392229</td>\n",
       "      <td>1</td>\n",
       "    </tr>\n",
       "  </tbody>\n",
       "</table>\n",
       "<p>3 rows × 23 columns</p>\n",
       "</div>"
      ],
      "text/plain": [
       "   Gender      Customer Type       Age   Type of Travel     Class  \\\n",
       "0    Male     Loyal Customer -1.745542  Personal Travel  Eco Plus   \n",
       "1    Male  disloyal Customer -0.951526  Business travel  Business   \n",
       "2  Female     Loyal Customer -0.885358  Business travel  Business   \n",
       "\n",
       "   Flight Distance  Inflight wifi service  Departure/Arrival time convenient  \\\n",
       "0        -0.731305               0.203521                           0.616249   \n",
       "1        -0.956916               0.203521                          -0.695032   \n",
       "2        -0.047454              -0.549571                          -0.695032   \n",
       "\n",
       "   Ease of Online booking  Gate location  ...  Inflight entertainment  \\\n",
       "0                0.173716      -1.547312  ...                1.231530   \n",
       "1                0.173716       0.017981  ...               -1.769166   \n",
       "2               -0.541118      -0.764666  ...                1.231530   \n",
       "\n",
       "   On-board service  Leg room service  Baggage handling  Checkin service  \\\n",
       "0          0.479237         -0.267143          0.311853         0.549773   \n",
       "1         -1.849452          1.253304         -0.534854        -1.821038   \n",
       "2          0.479237         -0.267143          0.311853         0.549773   \n",
       "\n",
       "   Inflight service  Cleanliness  Departure Delay in Minutes  \\\n",
       "0          1.156211     1.305913                    0.268966   \n",
       "1          0.305580    -1.742432                   -0.360682   \n",
       "2          0.305580     1.305913                   -0.386917   \n",
       "\n",
       "   Arrival Delay in Minutes  satisfaction  \n",
       "0                  0.072905             0  \n",
       "1                 -0.237184             0  \n",
       "2                 -0.392229             1  \n",
       "\n",
       "[3 rows x 23 columns]"
      ]
     },
     "execution_count": 24,
     "metadata": {},
     "output_type": "execute_result"
    }
   ],
   "source": [
    "#Scaling the data\n",
    "from sklearn.preprocessing import StandardScaler\n",
    "sc = StandardScaler()\n",
    "train_data[numerical_cols] = sc.fit_transform(train_data[numerical_cols])\n",
    "test_data[numerical_cols] = sc.transform(test_data[numerical_cols])\n",
    "\n",
    "train_data.head(3)"
   ]
  },
  {
   "cell_type": "code",
   "execution_count": 25,
   "id": "57555f5f",
   "metadata": {
    "execution": {
     "iopub.execute_input": "2022-04-03T15:14:04.623642Z",
     "iopub.status.busy": "2022-04-03T15:14:04.622418Z",
     "iopub.status.idle": "2022-04-03T15:14:04.899156Z",
     "shell.execute_reply": "2022-04-03T15:14:04.900329Z",
     "shell.execute_reply.started": "2022-04-03T14:27:00.279091Z"
    },
    "papermill": {
     "duration": 0.359287,
     "end_time": "2022-04-03T15:14:04.900599",
     "exception": false,
     "start_time": "2022-04-03T15:14:04.541312",
     "status": "completed"
    },
    "tags": []
   },
   "outputs": [
    {
     "data": {
      "text/html": [
       "<div>\n",
       "<style scoped>\n",
       "    .dataframe tbody tr th:only-of-type {\n",
       "        vertical-align: middle;\n",
       "    }\n",
       "\n",
       "    .dataframe tbody tr th {\n",
       "        vertical-align: top;\n",
       "    }\n",
       "\n",
       "    .dataframe thead th {\n",
       "        text-align: right;\n",
       "    }\n",
       "</style>\n",
       "<table border=\"1\" class=\"dataframe\">\n",
       "  <thead>\n",
       "    <tr style=\"text-align: right;\">\n",
       "      <th></th>\n",
       "      <th>Gender</th>\n",
       "      <th>Customer Type</th>\n",
       "      <th>Age</th>\n",
       "      <th>Type of Travel</th>\n",
       "      <th>Class</th>\n",
       "      <th>Flight Distance</th>\n",
       "      <th>Inflight wifi service</th>\n",
       "      <th>Departure/Arrival time convenient</th>\n",
       "      <th>Ease of Online booking</th>\n",
       "      <th>Gate location</th>\n",
       "      <th>...</th>\n",
       "      <th>On-board service</th>\n",
       "      <th>Leg room service</th>\n",
       "      <th>Baggage handling</th>\n",
       "      <th>Checkin service</th>\n",
       "      <th>Inflight service</th>\n",
       "      <th>Cleanliness</th>\n",
       "      <th>Departure Delay in Minutes</th>\n",
       "      <th>Arrival Delay in Minutes</th>\n",
       "      <th>satisfaction</th>\n",
       "      <th>PCA1</th>\n",
       "    </tr>\n",
       "  </thead>\n",
       "  <tbody>\n",
       "    <tr>\n",
       "      <th>0</th>\n",
       "      <td>Male</td>\n",
       "      <td>Loyal Customer</td>\n",
       "      <td>-1.745542</td>\n",
       "      <td>Personal Travel</td>\n",
       "      <td>Eco Plus</td>\n",
       "      <td>-0.731305</td>\n",
       "      <td>0.203521</td>\n",
       "      <td>0.616249</td>\n",
       "      <td>0.173716</td>\n",
       "      <td>-1.547312</td>\n",
       "      <td>...</td>\n",
       "      <td>0.479237</td>\n",
       "      <td>-0.267143</td>\n",
       "      <td>0.311853</td>\n",
       "      <td>0.549773</td>\n",
       "      <td>1.156211</td>\n",
       "      <td>1.305913</td>\n",
       "      <td>0.268966</td>\n",
       "      <td>0.072905</td>\n",
       "      <td>0</td>\n",
       "      <td>-0.266747</td>\n",
       "    </tr>\n",
       "    <tr>\n",
       "      <th>1</th>\n",
       "      <td>Male</td>\n",
       "      <td>disloyal Customer</td>\n",
       "      <td>-0.951526</td>\n",
       "      <td>Business travel</td>\n",
       "      <td>Business</td>\n",
       "      <td>-0.956916</td>\n",
       "      <td>0.203521</td>\n",
       "      <td>-0.695032</td>\n",
       "      <td>0.173716</td>\n",
       "      <td>0.017981</td>\n",
       "      <td>...</td>\n",
       "      <td>-1.849452</td>\n",
       "      <td>1.253304</td>\n",
       "      <td>-0.534854</td>\n",
       "      <td>-1.821038</td>\n",
       "      <td>0.305580</td>\n",
       "      <td>-1.742432</td>\n",
       "      <td>-0.360682</td>\n",
       "      <td>-0.237184</td>\n",
       "      <td>0</td>\n",
       "      <td>-0.266747</td>\n",
       "    </tr>\n",
       "    <tr>\n",
       "      <th>2</th>\n",
       "      <td>Female</td>\n",
       "      <td>Loyal Customer</td>\n",
       "      <td>-0.885358</td>\n",
       "      <td>Business travel</td>\n",
       "      <td>Business</td>\n",
       "      <td>-0.047454</td>\n",
       "      <td>-0.549571</td>\n",
       "      <td>-0.695032</td>\n",
       "      <td>-0.541118</td>\n",
       "      <td>-0.764666</td>\n",
       "      <td>...</td>\n",
       "      <td>0.479237</td>\n",
       "      <td>-0.267143</td>\n",
       "      <td>0.311853</td>\n",
       "      <td>0.549773</td>\n",
       "      <td>0.305580</td>\n",
       "      <td>1.305913</td>\n",
       "      <td>-0.386917</td>\n",
       "      <td>-0.392229</td>\n",
       "      <td>1</td>\n",
       "      <td>0.771233</td>\n",
       "    </tr>\n",
       "    <tr>\n",
       "      <th>3</th>\n",
       "      <td>Female</td>\n",
       "      <td>Loyal Customer</td>\n",
       "      <td>-0.951526</td>\n",
       "      <td>Business travel</td>\n",
       "      <td>Business</td>\n",
       "      <td>-0.629028</td>\n",
       "      <td>-0.549571</td>\n",
       "      <td>1.271890</td>\n",
       "      <td>1.603383</td>\n",
       "      <td>1.583273</td>\n",
       "      <td>...</td>\n",
       "      <td>-1.073222</td>\n",
       "      <td>1.253304</td>\n",
       "      <td>-0.534854</td>\n",
       "      <td>-1.821038</td>\n",
       "      <td>0.305580</td>\n",
       "      <td>-0.980345</td>\n",
       "      <td>-0.098328</td>\n",
       "      <td>-0.159662</td>\n",
       "      <td>0</td>\n",
       "      <td>-0.745158</td>\n",
       "    </tr>\n",
       "    <tr>\n",
       "      <th>4</th>\n",
       "      <td>Male</td>\n",
       "      <td>Loyal Customer</td>\n",
       "      <td>1.430521</td>\n",
       "      <td>Business travel</td>\n",
       "      <td>Business</td>\n",
       "      <td>-0.977973</td>\n",
       "      <td>0.203521</td>\n",
       "      <td>-0.039391</td>\n",
       "      <td>0.173716</td>\n",
       "      <td>0.017981</td>\n",
       "      <td>...</td>\n",
       "      <td>-0.296993</td>\n",
       "      <td>0.493081</td>\n",
       "      <td>0.311853</td>\n",
       "      <td>-0.240497</td>\n",
       "      <td>-0.545051</td>\n",
       "      <td>-0.218259</td>\n",
       "      <td>-0.386917</td>\n",
       "      <td>-0.392229</td>\n",
       "      <td>1</td>\n",
       "      <td>-0.266747</td>\n",
       "    </tr>\n",
       "  </tbody>\n",
       "</table>\n",
       "<p>5 rows × 24 columns</p>\n",
       "</div>"
      ],
      "text/plain": [
       "   Gender      Customer Type       Age   Type of Travel     Class  \\\n",
       "0    Male     Loyal Customer -1.745542  Personal Travel  Eco Plus   \n",
       "1    Male  disloyal Customer -0.951526  Business travel  Business   \n",
       "2  Female     Loyal Customer -0.885358  Business travel  Business   \n",
       "3  Female     Loyal Customer -0.951526  Business travel  Business   \n",
       "4    Male     Loyal Customer  1.430521  Business travel  Business   \n",
       "\n",
       "   Flight Distance  Inflight wifi service  Departure/Arrival time convenient  \\\n",
       "0        -0.731305               0.203521                           0.616249   \n",
       "1        -0.956916               0.203521                          -0.695032   \n",
       "2        -0.047454              -0.549571                          -0.695032   \n",
       "3        -0.629028              -0.549571                           1.271890   \n",
       "4        -0.977973               0.203521                          -0.039391   \n",
       "\n",
       "   Ease of Online booking  Gate location  ...  On-board service  \\\n",
       "0                0.173716      -1.547312  ...          0.479237   \n",
       "1                0.173716       0.017981  ...         -1.849452   \n",
       "2               -0.541118      -0.764666  ...          0.479237   \n",
       "3                1.603383       1.583273  ...         -1.073222   \n",
       "4                0.173716       0.017981  ...         -0.296993   \n",
       "\n",
       "   Leg room service  Baggage handling  Checkin service  Inflight service  \\\n",
       "0         -0.267143          0.311853         0.549773          1.156211   \n",
       "1          1.253304         -0.534854        -1.821038          0.305580   \n",
       "2         -0.267143          0.311853         0.549773          0.305580   \n",
       "3          1.253304         -0.534854        -1.821038          0.305580   \n",
       "4          0.493081          0.311853        -0.240497         -0.545051   \n",
       "\n",
       "   Cleanliness  Departure Delay in Minutes  Arrival Delay in Minutes  \\\n",
       "0     1.305913                    0.268966                  0.072905   \n",
       "1    -1.742432                   -0.360682                 -0.237184   \n",
       "2     1.305913                   -0.386917                 -0.392229   \n",
       "3    -0.980345                   -0.098328                 -0.159662   \n",
       "4    -0.218259                   -0.386917                 -0.392229   \n",
       "\n",
       "   satisfaction      PCA1  \n",
       "0             0 -0.266747  \n",
       "1             0 -0.266747  \n",
       "2             1  0.771233  \n",
       "3             0 -0.745158  \n",
       "4             1 -0.266747  \n",
       "\n",
       "[5 rows x 24 columns]"
      ]
     },
     "execution_count": 25,
     "metadata": {},
     "output_type": "execute_result"
    }
   ],
   "source": [
    "#Using PCA to reduce the dimensions of highly correlated features\n",
    "from sklearn.decomposition import PCA\n",
    "pca1 = PCA(n_components=1)\n",
    "train_data['PCA1'] = pca1.fit_transform(train_data[['Inflight wifi service', 'Ease of Online booking']])\n",
    "test_data['PCA1'] = pca1.transform(test_data[['Inflight wifi service', 'Ease of Online booking']])\n",
    "train_data.head()"
   ]
  },
  {
   "cell_type": "code",
   "execution_count": 26,
   "id": "8a63cedb",
   "metadata": {
    "execution": {
     "iopub.execute_input": "2022-04-03T15:14:05.098026Z",
     "iopub.status.busy": "2022-04-03T15:14:05.096714Z",
     "iopub.status.idle": "2022-04-03T15:14:05.237522Z",
     "shell.execute_reply": "2022-04-03T15:14:05.238768Z",
     "shell.execute_reply.started": "2022-04-03T14:27:00.553808Z"
    },
    "papermill": {
     "duration": 0.222851,
     "end_time": "2022-04-03T15:14:05.239092",
     "exception": false,
     "start_time": "2022-04-03T15:14:05.016241",
     "status": "completed"
    },
    "tags": []
   },
   "outputs": [
    {
     "data": {
      "text/html": [
       "<div>\n",
       "<style scoped>\n",
       "    .dataframe tbody tr th:only-of-type {\n",
       "        vertical-align: middle;\n",
       "    }\n",
       "\n",
       "    .dataframe tbody tr th {\n",
       "        vertical-align: top;\n",
       "    }\n",
       "\n",
       "    .dataframe thead th {\n",
       "        text-align: right;\n",
       "    }\n",
       "</style>\n",
       "<table border=\"1\" class=\"dataframe\">\n",
       "  <thead>\n",
       "    <tr style=\"text-align: right;\">\n",
       "      <th></th>\n",
       "      <th>Gender</th>\n",
       "      <th>Customer Type</th>\n",
       "      <th>Age</th>\n",
       "      <th>Type of Travel</th>\n",
       "      <th>Class</th>\n",
       "      <th>Flight Distance</th>\n",
       "      <th>Inflight wifi service</th>\n",
       "      <th>Departure/Arrival time convenient</th>\n",
       "      <th>Ease of Online booking</th>\n",
       "      <th>Gate location</th>\n",
       "      <th>...</th>\n",
       "      <th>Leg room service</th>\n",
       "      <th>Baggage handling</th>\n",
       "      <th>Checkin service</th>\n",
       "      <th>Inflight service</th>\n",
       "      <th>Cleanliness</th>\n",
       "      <th>Departure Delay in Minutes</th>\n",
       "      <th>Arrival Delay in Minutes</th>\n",
       "      <th>satisfaction</th>\n",
       "      <th>PCA1</th>\n",
       "      <th>PCA2</th>\n",
       "    </tr>\n",
       "  </thead>\n",
       "  <tbody>\n",
       "    <tr>\n",
       "      <th>0</th>\n",
       "      <td>Male</td>\n",
       "      <td>Loyal Customer</td>\n",
       "      <td>-1.745542</td>\n",
       "      <td>Personal Travel</td>\n",
       "      <td>Eco Plus</td>\n",
       "      <td>-0.731305</td>\n",
       "      <td>0.203521</td>\n",
       "      <td>0.616249</td>\n",
       "      <td>0.173716</td>\n",
       "      <td>-1.547312</td>\n",
       "      <td>...</td>\n",
       "      <td>-0.267143</td>\n",
       "      <td>0.311853</td>\n",
       "      <td>0.549773</td>\n",
       "      <td>1.156211</td>\n",
       "      <td>1.305913</td>\n",
       "      <td>0.268966</td>\n",
       "      <td>0.072905</td>\n",
       "      <td>0</td>\n",
       "      <td>-0.266747</td>\n",
       "      <td>-2.536105</td>\n",
       "    </tr>\n",
       "    <tr>\n",
       "      <th>1</th>\n",
       "      <td>Male</td>\n",
       "      <td>disloyal Customer</td>\n",
       "      <td>-0.951526</td>\n",
       "      <td>Business travel</td>\n",
       "      <td>Business</td>\n",
       "      <td>-0.956916</td>\n",
       "      <td>0.203521</td>\n",
       "      <td>-0.695032</td>\n",
       "      <td>0.173716</td>\n",
       "      <td>0.017981</td>\n",
       "      <td>...</td>\n",
       "      <td>1.253304</td>\n",
       "      <td>-0.534854</td>\n",
       "      <td>-1.821038</td>\n",
       "      <td>0.305580</td>\n",
       "      <td>-1.742432</td>\n",
       "      <td>-0.360682</td>\n",
       "      <td>-0.237184</td>\n",
       "      <td>0</td>\n",
       "      <td>-0.266747</td>\n",
       "      <td>3.507741</td>\n",
       "    </tr>\n",
       "    <tr>\n",
       "      <th>2</th>\n",
       "      <td>Female</td>\n",
       "      <td>Loyal Customer</td>\n",
       "      <td>-0.885358</td>\n",
       "      <td>Business travel</td>\n",
       "      <td>Business</td>\n",
       "      <td>-0.047454</td>\n",
       "      <td>-0.549571</td>\n",
       "      <td>-0.695032</td>\n",
       "      <td>-0.541118</td>\n",
       "      <td>-0.764666</td>\n",
       "      <td>...</td>\n",
       "      <td>-0.267143</td>\n",
       "      <td>0.311853</td>\n",
       "      <td>0.549773</td>\n",
       "      <td>0.305580</td>\n",
       "      <td>1.305913</td>\n",
       "      <td>-0.386917</td>\n",
       "      <td>-0.392229</td>\n",
       "      <td>1</td>\n",
       "      <td>0.771233</td>\n",
       "      <td>-2.536105</td>\n",
       "    </tr>\n",
       "    <tr>\n",
       "      <th>3</th>\n",
       "      <td>Female</td>\n",
       "      <td>Loyal Customer</td>\n",
       "      <td>-0.951526</td>\n",
       "      <td>Business travel</td>\n",
       "      <td>Business</td>\n",
       "      <td>-0.629028</td>\n",
       "      <td>-0.549571</td>\n",
       "      <td>1.271890</td>\n",
       "      <td>1.603383</td>\n",
       "      <td>1.583273</td>\n",
       "      <td>...</td>\n",
       "      <td>1.253304</td>\n",
       "      <td>-0.534854</td>\n",
       "      <td>-1.821038</td>\n",
       "      <td>0.305580</td>\n",
       "      <td>-0.980345</td>\n",
       "      <td>-0.098328</td>\n",
       "      <td>-0.159662</td>\n",
       "      <td>0</td>\n",
       "      <td>-0.745158</td>\n",
       "      <td>1.996780</td>\n",
       "    </tr>\n",
       "    <tr>\n",
       "      <th>4</th>\n",
       "      <td>Male</td>\n",
       "      <td>Loyal Customer</td>\n",
       "      <td>1.430521</td>\n",
       "      <td>Business travel</td>\n",
       "      <td>Business</td>\n",
       "      <td>-0.977973</td>\n",
       "      <td>0.203521</td>\n",
       "      <td>-0.039391</td>\n",
       "      <td>0.173716</td>\n",
       "      <td>0.017981</td>\n",
       "      <td>...</td>\n",
       "      <td>0.493081</td>\n",
       "      <td>0.311853</td>\n",
       "      <td>-0.240497</td>\n",
       "      <td>-0.545051</td>\n",
       "      <td>-0.218259</td>\n",
       "      <td>-0.386917</td>\n",
       "      <td>-0.392229</td>\n",
       "      <td>1</td>\n",
       "      <td>-0.266747</td>\n",
       "      <td>-0.623246</td>\n",
       "    </tr>\n",
       "  </tbody>\n",
       "</table>\n",
       "<p>5 rows × 25 columns</p>\n",
       "</div>"
      ],
      "text/plain": [
       "   Gender      Customer Type       Age   Type of Travel     Class  \\\n",
       "0    Male     Loyal Customer -1.745542  Personal Travel  Eco Plus   \n",
       "1    Male  disloyal Customer -0.951526  Business travel  Business   \n",
       "2  Female     Loyal Customer -0.885358  Business travel  Business   \n",
       "3  Female     Loyal Customer -0.951526  Business travel  Business   \n",
       "4    Male     Loyal Customer  1.430521  Business travel  Business   \n",
       "\n",
       "   Flight Distance  Inflight wifi service  Departure/Arrival time convenient  \\\n",
       "0        -0.731305               0.203521                           0.616249   \n",
       "1        -0.956916               0.203521                          -0.695032   \n",
       "2        -0.047454              -0.549571                          -0.695032   \n",
       "3        -0.629028              -0.549571                           1.271890   \n",
       "4        -0.977973               0.203521                          -0.039391   \n",
       "\n",
       "   Ease of Online booking  Gate location  ...  Leg room service  \\\n",
       "0                0.173716      -1.547312  ...         -0.267143   \n",
       "1                0.173716       0.017981  ...          1.253304   \n",
       "2               -0.541118      -0.764666  ...         -0.267143   \n",
       "3                1.603383       1.583273  ...          1.253304   \n",
       "4                0.173716       0.017981  ...          0.493081   \n",
       "\n",
       "   Baggage handling  Checkin service  Inflight service  Cleanliness  \\\n",
       "0          0.311853         0.549773          1.156211     1.305913   \n",
       "1         -0.534854        -1.821038          0.305580    -1.742432   \n",
       "2          0.311853         0.549773          0.305580     1.305913   \n",
       "3         -0.534854        -1.821038          0.305580    -0.980345   \n",
       "4          0.311853        -0.240497         -0.545051    -0.218259   \n",
       "\n",
       "   Departure Delay in Minutes  Arrival Delay in Minutes  satisfaction  \\\n",
       "0                    0.268966                  0.072905             0   \n",
       "1                   -0.360682                 -0.237184             0   \n",
       "2                   -0.386917                 -0.392229             1   \n",
       "3                   -0.098328                 -0.159662             0   \n",
       "4                   -0.386917                 -0.392229             1   \n",
       "\n",
       "       PCA1      PCA2  \n",
       "0 -0.266747 -2.536105  \n",
       "1 -0.266747  3.507741  \n",
       "2  0.771233 -2.536105  \n",
       "3 -0.745158  1.996780  \n",
       "4 -0.266747 -0.623246  \n",
       "\n",
       "[5 rows x 25 columns]"
      ]
     },
     "execution_count": 26,
     "metadata": {},
     "output_type": "execute_result"
    }
   ],
   "source": [
    "pca2 = PCA(n_components=1)\n",
    "train_data['PCA2'] = pca2.fit_transform(train_data[['Cleanliness', 'Inflight entertainment','Seat comfort','Food and drink']])\n",
    "test_data['PCA2'] = pca2.transform(test_data[['Cleanliness', 'Inflight entertainment','Seat comfort','Food and drink']])\n",
    "train_data.head()"
   ]
  },
  {
   "cell_type": "code",
   "execution_count": 27,
   "id": "d25c159e",
   "metadata": {
    "execution": {
     "iopub.execute_input": "2022-04-03T15:14:05.445828Z",
     "iopub.status.busy": "2022-04-03T15:14:05.444547Z",
     "iopub.status.idle": "2022-04-03T15:14:06.969109Z",
     "shell.execute_reply": "2022-04-03T15:14:06.968549Z",
     "shell.execute_reply.started": "2022-04-03T14:27:00.755869Z"
    },
    "papermill": {
     "duration": 1.60634,
     "end_time": "2022-04-03T15:14:06.969256",
     "exception": false,
     "start_time": "2022-04-03T15:14:05.362916",
     "status": "completed"
    },
    "tags": []
   },
   "outputs": [
    {
     "data": {
      "image/png": "[encoded data removed]",
      "text/plain": [
       "<Figure size 1152x720 with 2 Axes>"
      ]
     },
     "metadata": {
      "needs_background": "light"
     },
     "output_type": "display_data"
    }
   ],
   "source": [
    "train_data.drop(['Cleanliness','Inflight entertainment','Seat comfort','Food and drink','Inflight wifi service',\n",
    "                 'Ease of Online booking'], axis=1, inplace=True)\n",
    "test_data.drop(['Cleanliness','Inflight entertainment','Seat comfort','Food and drink','Inflight wifi service',\n",
    "                'Ease of Online booking'], axis=1, inplace=True)\n",
    "#Correlation Heatmap\n",
    "plt.figure(figsize=(16,10))\n",
    "sns.heatmap(train_data.corr(), annot=True)\n",
    "plt.show()"
   ]
  },
  {
   "cell_type": "code",
   "execution_count": 28,
   "id": "47d29e42",
   "metadata": {
    "execution": {
     "iopub.execute_input": "2022-04-03T15:14:07.133898Z",
     "iopub.status.busy": "2022-04-03T15:14:07.132819Z",
     "iopub.status.idle": "2022-04-03T15:14:07.144848Z",
     "shell.execute_reply": "2022-04-03T15:14:07.144292Z",
     "shell.execute_reply.started": "2022-04-03T14:27:01.986106Z"
    },
    "papermill": {
     "duration": 0.09718,
     "end_time": "2022-04-03T15:14:07.144984",
     "exception": false,
     "start_time": "2022-04-03T15:14:07.047804",
     "status": "completed"
    },
    "tags": []
   },
   "outputs": [],
   "source": [
    "#Gender either Male or Female had the same satisfaction rates so I dropped the column\n",
    "train_data.drop('Gender', axis=1, inplace=True)\n",
    "test_data.drop('Gender', axis=1, inplace=True)"
   ]
  },
  {
   "cell_type": "code",
   "execution_count": 29,
   "id": "62cc9729",
   "metadata": {
    "execution": {
     "iopub.execute_input": "2022-04-03T15:14:07.305068Z",
     "iopub.status.busy": "2022-04-03T15:14:07.303981Z",
     "iopub.status.idle": "2022-04-03T15:14:07.325378Z",
     "shell.execute_reply": "2022-04-03T15:14:07.325885Z",
     "shell.execute_reply.started": "2022-04-03T14:27:02.002942Z"
    },
    "papermill": {
     "duration": 0.10317,
     "end_time": "2022-04-03T15:14:07.326082",
     "exception": false,
     "start_time": "2022-04-03T15:14:07.222912",
     "status": "completed"
    },
    "tags": []
   },
   "outputs": [
    {
     "data": {
      "text/plain": [
       "Business    49533\n",
       "Eco         46593\n",
       "Eco Plus     7468\n",
       "Name: Class, dtype: int64"
      ]
     },
     "execution_count": 29,
     "metadata": {},
     "output_type": "execute_result"
    }
   ],
   "source": [
    "train_data['Class'].value_counts()"
   ]
  },
  {
   "cell_type": "code",
   "execution_count": 30,
   "id": "0907128d",
   "metadata": {
    "execution": {
     "iopub.execute_input": "2022-04-03T15:14:07.498428Z",
     "iopub.status.busy": "2022-04-03T15:14:07.497071Z",
     "iopub.status.idle": "2022-04-03T15:14:07.543959Z",
     "shell.execute_reply": "2022-04-03T15:14:07.543456Z",
     "shell.execute_reply.started": "2022-04-03T14:27:02.026731Z"
    },
    "papermill": {
     "duration": 0.139012,
     "end_time": "2022-04-03T15:14:07.544125",
     "exception": false,
     "start_time": "2022-04-03T15:14:07.405113",
     "status": "completed"
    },
    "tags": []
   },
   "outputs": [
    {
     "data": {
      "text/html": [
       "<div>\n",
       "<style scoped>\n",
       "    .dataframe tbody tr th:only-of-type {\n",
       "        vertical-align: middle;\n",
       "    }\n",
       "\n",
       "    .dataframe tbody tr th {\n",
       "        vertical-align: top;\n",
       "    }\n",
       "\n",
       "    .dataframe thead th {\n",
       "        text-align: right;\n",
       "    }\n",
       "</style>\n",
       "<table border=\"1\" class=\"dataframe\">\n",
       "  <thead>\n",
       "    <tr style=\"text-align: right;\">\n",
       "      <th></th>\n",
       "      <th>Customer Type</th>\n",
       "      <th>Age</th>\n",
       "      <th>Type of Travel</th>\n",
       "      <th>Class</th>\n",
       "      <th>Flight Distance</th>\n",
       "      <th>Departure/Arrival time convenient</th>\n",
       "      <th>Gate location</th>\n",
       "      <th>Online boarding</th>\n",
       "      <th>On-board service</th>\n",
       "      <th>Leg room service</th>\n",
       "      <th>Baggage handling</th>\n",
       "      <th>Checkin service</th>\n",
       "      <th>Inflight service</th>\n",
       "      <th>Departure Delay in Minutes</th>\n",
       "      <th>Arrival Delay in Minutes</th>\n",
       "      <th>satisfaction</th>\n",
       "      <th>PCA1</th>\n",
       "      <th>PCA2</th>\n",
       "    </tr>\n",
       "  </thead>\n",
       "  <tbody>\n",
       "    <tr>\n",
       "      <th>0</th>\n",
       "      <td>1</td>\n",
       "      <td>-1.745542</td>\n",
       "      <td>0</td>\n",
       "      <td>1</td>\n",
       "      <td>-0.731305</td>\n",
       "      <td>0.616249</td>\n",
       "      <td>-1.547312</td>\n",
       "      <td>-0.185632</td>\n",
       "      <td>0.479237</td>\n",
       "      <td>-0.267143</td>\n",
       "      <td>0.311853</td>\n",
       "      <td>0.549773</td>\n",
       "      <td>1.156211</td>\n",
       "      <td>0.268966</td>\n",
       "      <td>0.072905</td>\n",
       "      <td>0</td>\n",
       "      <td>-0.266747</td>\n",
       "      <td>-2.536105</td>\n",
       "    </tr>\n",
       "    <tr>\n",
       "      <th>1</th>\n",
       "      <td>0</td>\n",
       "      <td>-0.951526</td>\n",
       "      <td>1</td>\n",
       "      <td>2</td>\n",
       "      <td>-0.956916</td>\n",
       "      <td>-0.695032</td>\n",
       "      <td>0.017981</td>\n",
       "      <td>-0.185632</td>\n",
       "      <td>-1.849452</td>\n",
       "      <td>1.253304</td>\n",
       "      <td>-0.534854</td>\n",
       "      <td>-1.821038</td>\n",
       "      <td>0.305580</td>\n",
       "      <td>-0.360682</td>\n",
       "      <td>-0.237184</td>\n",
       "      <td>0</td>\n",
       "      <td>-0.266747</td>\n",
       "      <td>3.507741</td>\n",
       "    </tr>\n",
       "    <tr>\n",
       "      <th>2</th>\n",
       "      <td>1</td>\n",
       "      <td>-0.885358</td>\n",
       "      <td>1</td>\n",
       "      <td>2</td>\n",
       "      <td>-0.047454</td>\n",
       "      <td>-0.695032</td>\n",
       "      <td>-0.764666</td>\n",
       "      <td>1.296479</td>\n",
       "      <td>0.479237</td>\n",
       "      <td>-0.267143</td>\n",
       "      <td>0.311853</td>\n",
       "      <td>0.549773</td>\n",
       "      <td>0.305580</td>\n",
       "      <td>-0.386917</td>\n",
       "      <td>-0.392229</td>\n",
       "      <td>1</td>\n",
       "      <td>0.771233</td>\n",
       "      <td>-2.536105</td>\n",
       "    </tr>\n",
       "    <tr>\n",
       "      <th>3</th>\n",
       "      <td>1</td>\n",
       "      <td>-0.951526</td>\n",
       "      <td>1</td>\n",
       "      <td>2</td>\n",
       "      <td>-0.629028</td>\n",
       "      <td>1.271890</td>\n",
       "      <td>1.583273</td>\n",
       "      <td>-0.926688</td>\n",
       "      <td>-1.073222</td>\n",
       "      <td>1.253304</td>\n",
       "      <td>-0.534854</td>\n",
       "      <td>-1.821038</td>\n",
       "      <td>0.305580</td>\n",
       "      <td>-0.098328</td>\n",
       "      <td>-0.159662</td>\n",
       "      <td>0</td>\n",
       "      <td>-0.745158</td>\n",
       "      <td>1.996780</td>\n",
       "    </tr>\n",
       "    <tr>\n",
       "      <th>4</th>\n",
       "      <td>1</td>\n",
       "      <td>1.430521</td>\n",
       "      <td>1</td>\n",
       "      <td>2</td>\n",
       "      <td>-0.977973</td>\n",
       "      <td>-0.039391</td>\n",
       "      <td>0.017981</td>\n",
       "      <td>1.296479</td>\n",
       "      <td>-0.296993</td>\n",
       "      <td>0.493081</td>\n",
       "      <td>0.311853</td>\n",
       "      <td>-0.240497</td>\n",
       "      <td>-0.545051</td>\n",
       "      <td>-0.386917</td>\n",
       "      <td>-0.392229</td>\n",
       "      <td>1</td>\n",
       "      <td>-0.266747</td>\n",
       "      <td>-0.623246</td>\n",
       "    </tr>\n",
       "  </tbody>\n",
       "</table>\n",
       "</div>"
      ],
      "text/plain": [
       "   Customer Type       Age  Type of Travel  Class  Flight Distance  \\\n",
       "0              1 -1.745542               0      1        -0.731305   \n",
       "1              0 -0.951526               1      2        -0.956916   \n",
       "2              1 -0.885358               1      2        -0.047454   \n",
       "3              1 -0.951526               1      2        -0.629028   \n",
       "4              1  1.430521               1      2        -0.977973   \n",
       "\n",
       "   Departure/Arrival time convenient  Gate location  Online boarding  \\\n",
       "0                           0.616249      -1.547312        -0.185632   \n",
       "1                          -0.695032       0.017981        -0.185632   \n",
       "2                          -0.695032      -0.764666         1.296479   \n",
       "3                           1.271890       1.583273        -0.926688   \n",
       "4                          -0.039391       0.017981         1.296479   \n",
       "\n",
       "   On-board service  Leg room service  Baggage handling  Checkin service  \\\n",
       "0          0.479237         -0.267143          0.311853         0.549773   \n",
       "1         -1.849452          1.253304         -0.534854        -1.821038   \n",
       "2          0.479237         -0.267143          0.311853         0.549773   \n",
       "3         -1.073222          1.253304         -0.534854        -1.821038   \n",
       "4         -0.296993          0.493081          0.311853        -0.240497   \n",
       "\n",
       "   Inflight service  Departure Delay in Minutes  Arrival Delay in Minutes  \\\n",
       "0          1.156211                    0.268966                  0.072905   \n",
       "1          0.305580                   -0.360682                 -0.237184   \n",
       "2          0.305580                   -0.386917                 -0.392229   \n",
       "3          0.305580                   -0.098328                 -0.159662   \n",
       "4         -0.545051                   -0.386917                 -0.392229   \n",
       "\n",
       "   satisfaction      PCA1      PCA2  \n",
       "0             0 -0.266747 -2.536105  \n",
       "1             0 -0.266747  3.507741  \n",
       "2             1  0.771233 -2.536105  \n",
       "3             0 -0.745158  1.996780  \n",
       "4             1 -0.266747 -0.623246  "
      ]
     },
     "execution_count": 30,
     "metadata": {},
     "output_type": "execute_result"
    }
   ],
   "source": [
    "#Mapping the Customer Type, Type of Travel and Class Columns in the Training Data\n",
    "train_data['Customer Type'] = train_data['Customer Type'].map({'disloyal Customer': 0, 'Loyal Customer' :1})\n",
    "train_data['Type of Travel'] = train_data['Type of Travel'].map({'Personal Travel': 0, 'Business travel' :1})\n",
    "train_data['Class'] = train_data['Class'].map({'Eco': 0, 'Eco Plus' :1, 'Business': 2})\n",
    "\n",
    "train_data.head()"
   ]
  },
  {
   "cell_type": "code",
   "execution_count": 31,
   "id": "6efeaa85",
   "metadata": {
    "execution": {
     "iopub.execute_input": "2022-04-03T15:14:07.710132Z",
     "iopub.status.busy": "2022-04-03T15:14:07.709161Z",
     "iopub.status.idle": "2022-04-03T15:14:07.740429Z",
     "shell.execute_reply": "2022-04-03T15:14:07.741212Z",
     "shell.execute_reply.started": "2022-04-03T14:27:02.082893Z"
    },
    "papermill": {
     "duration": 0.118555,
     "end_time": "2022-04-03T15:14:07.741373",
     "exception": false,
     "start_time": "2022-04-03T15:14:07.622818",
     "status": "completed"
    },
    "tags": []
   },
   "outputs": [
    {
     "data": {
      "text/html": [
       "<div>\n",
       "<style scoped>\n",
       "    .dataframe tbody tr th:only-of-type {\n",
       "        vertical-align: middle;\n",
       "    }\n",
       "\n",
       "    .dataframe tbody tr th {\n",
       "        vertical-align: top;\n",
       "    }\n",
       "\n",
       "    .dataframe thead th {\n",
       "        text-align: right;\n",
       "    }\n",
       "</style>\n",
       "<table border=\"1\" class=\"dataframe\">\n",
       "  <thead>\n",
       "    <tr style=\"text-align: right;\">\n",
       "      <th></th>\n",
       "      <th>Customer Type</th>\n",
       "      <th>Age</th>\n",
       "      <th>Type of Travel</th>\n",
       "      <th>Class</th>\n",
       "      <th>Flight Distance</th>\n",
       "      <th>Departure/Arrival time convenient</th>\n",
       "      <th>Gate location</th>\n",
       "      <th>Online boarding</th>\n",
       "      <th>On-board service</th>\n",
       "      <th>Leg room service</th>\n",
       "      <th>Baggage handling</th>\n",
       "      <th>Checkin service</th>\n",
       "      <th>Inflight service</th>\n",
       "      <th>Departure Delay in Minutes</th>\n",
       "      <th>Arrival Delay in Minutes</th>\n",
       "      <th>satisfaction</th>\n",
       "      <th>PCA1</th>\n",
       "      <th>PCA2</th>\n",
       "    </tr>\n",
       "  </thead>\n",
       "  <tbody>\n",
       "    <tr>\n",
       "      <th>0</th>\n",
       "      <td>1</td>\n",
       "      <td>0.835009</td>\n",
       "      <td>1</td>\n",
       "      <td>0</td>\n",
       "      <td>-1.032120</td>\n",
       "      <td>0.616249</td>\n",
       "      <td>0.800627</td>\n",
       "      <td>0.555423</td>\n",
       "      <td>1.255467</td>\n",
       "      <td>1.253304</td>\n",
       "      <td>1.158561</td>\n",
       "      <td>-1.030767</td>\n",
       "      <td>1.156211</td>\n",
       "      <td>0.924849</td>\n",
       "      <td>0.744766</td>\n",
       "      <td>1</td>\n",
       "      <td>-1.331779</td>\n",
       "      <td>-1.060303</td>\n",
       "    </tr>\n",
       "    <tr>\n",
       "      <th>1</th>\n",
       "      <td>1</td>\n",
       "      <td>-0.223679</td>\n",
       "      <td>1</td>\n",
       "      <td>2</td>\n",
       "      <td>1.678219</td>\n",
       "      <td>-1.350673</td>\n",
       "      <td>-1.547312</td>\n",
       "      <td>0.555423</td>\n",
       "      <td>0.479237</td>\n",
       "      <td>0.493081</td>\n",
       "      <td>0.311853</td>\n",
       "      <td>-0.240497</td>\n",
       "      <td>0.305580</td>\n",
       "      <td>-0.386917</td>\n",
       "      <td>-0.392229</td>\n",
       "      <td>1</td>\n",
       "      <td>0.798285</td>\n",
       "      <td>-2.159918</td>\n",
       "    </tr>\n",
       "    <tr>\n",
       "      <th>2</th>\n",
       "      <td>0</td>\n",
       "      <td>-1.282366</td>\n",
       "      <td>1</td>\n",
       "      <td>0</td>\n",
       "      <td>-1.000033</td>\n",
       "      <td>-2.006314</td>\n",
       "      <td>0.800627</td>\n",
       "      <td>-0.926688</td>\n",
       "      <td>0.479237</td>\n",
       "      <td>-1.787590</td>\n",
       "      <td>-0.534854</td>\n",
       "      <td>-1.030767</td>\n",
       "      <td>-1.395683</td>\n",
       "      <td>-0.386917</td>\n",
       "      <td>-0.392229</td>\n",
       "      <td>0</td>\n",
       "      <td>0.771233</td>\n",
       "      <td>1.996780</td>\n",
       "    </tr>\n",
       "    <tr>\n",
       "      <th>3</th>\n",
       "      <td>1</td>\n",
       "      <td>0.305665</td>\n",
       "      <td>1</td>\n",
       "      <td>2</td>\n",
       "      <td>2.193614</td>\n",
       "      <td>-2.006314</td>\n",
       "      <td>-0.764666</td>\n",
       "      <td>0.555423</td>\n",
       "      <td>-1.849452</td>\n",
       "      <td>-1.787590</td>\n",
       "      <td>-2.228269</td>\n",
       "      <td>-0.240497</td>\n",
       "      <td>-2.246314</td>\n",
       "      <td>-0.386917</td>\n",
       "      <td>-0.237184</td>\n",
       "      <td>1</td>\n",
       "      <td>2.847193</td>\n",
       "      <td>0.470153</td>\n",
       "    </tr>\n",
       "    <tr>\n",
       "      <th>4</th>\n",
       "      <td>1</td>\n",
       "      <td>0.636505</td>\n",
       "      <td>1</td>\n",
       "      <td>0</td>\n",
       "      <td>-0.007345</td>\n",
       "      <td>-0.039391</td>\n",
       "      <td>0.017981</td>\n",
       "      <td>-1.667744</td>\n",
       "      <td>-1.073222</td>\n",
       "      <td>-1.027367</td>\n",
       "      <td>-1.381562</td>\n",
       "      <td>0.549773</td>\n",
       "      <td>-1.395683</td>\n",
       "      <td>-0.386917</td>\n",
       "      <td>0.124587</td>\n",
       "      <td>1</td>\n",
       "      <td>-0.239694</td>\n",
       "      <td>0.469557</td>\n",
       "    </tr>\n",
       "  </tbody>\n",
       "</table>\n",
       "</div>"
      ],
      "text/plain": [
       "   Customer Type       Age  Type of Travel  Class  Flight Distance  \\\n",
       "0              1  0.835009               1      0        -1.032120   \n",
       "1              1 -0.223679               1      2         1.678219   \n",
       "2              0 -1.282366               1      0        -1.000033   \n",
       "3              1  0.305665               1      2         2.193614   \n",
       "4              1  0.636505               1      0        -0.007345   \n",
       "\n",
       "   Departure/Arrival time convenient  Gate location  Online boarding  \\\n",
       "0                           0.616249       0.800627         0.555423   \n",
       "1                          -1.350673      -1.547312         0.555423   \n",
       "2                          -2.006314       0.800627        -0.926688   \n",
       "3                          -2.006314      -0.764666         0.555423   \n",
       "4                          -0.039391       0.017981        -1.667744   \n",
       "\n",
       "   On-board service  Leg room service  Baggage handling  Checkin service  \\\n",
       "0          1.255467          1.253304          1.158561        -1.030767   \n",
       "1          0.479237          0.493081          0.311853        -0.240497   \n",
       "2          0.479237         -1.787590         -0.534854        -1.030767   \n",
       "3         -1.849452         -1.787590         -2.228269        -0.240497   \n",
       "4         -1.073222         -1.027367         -1.381562         0.549773   \n",
       "\n",
       "   Inflight service  Departure Delay in Minutes  Arrival Delay in Minutes  \\\n",
       "0          1.156211                    0.924849                  0.744766   \n",
       "1          0.305580                   -0.386917                 -0.392229   \n",
       "2         -1.395683                   -0.386917                 -0.392229   \n",
       "3         -2.246314                   -0.386917                 -0.237184   \n",
       "4         -1.395683                   -0.386917                  0.124587   \n",
       "\n",
       "   satisfaction      PCA1      PCA2  \n",
       "0             1 -1.331779 -1.060303  \n",
       "1             1  0.798285 -2.159918  \n",
       "2             0  0.771233  1.996780  \n",
       "3             1  2.847193  0.470153  \n",
       "4             1 -0.239694  0.469557  "
      ]
     },
     "execution_count": 31,
     "metadata": {},
     "output_type": "execute_result"
    }
   ],
   "source": [
    "#Mapping the Customer Type, Type of Travel and Class Columns in the Testing Data\n",
    "test_data['Customer Type'] = test_data['Customer Type'].map({'disloyal Customer': 0, 'Loyal Customer' :1})\n",
    "test_data['Type of Travel'] = test_data['Type of Travel'].map({'Personal Travel': 0, 'Business travel' :1})\n",
    "test_data['Class'] = test_data['Class'].map({'Eco': 0, 'Eco Plus' :1, 'Business': 2})\n",
    "test_data['satisfaction'] = test_data['satisfaction'].map({'neutral or dissatisfied': 0, 'satisfied' :1})\n",
    "\n",
    "test_data.head()"
   ]
  },
  {
   "cell_type": "markdown",
   "id": "737b8125",
   "metadata": {
    "papermill": {
     "duration": 0.081453,
     "end_time": "2022-04-03T15:14:07.903493",
     "exception": false,
     "start_time": "2022-04-03T15:14:07.822040",
     "status": "completed"
    },
    "tags": []
   },
   "source": [
    "# **Building the model**"
   ]
  },
  {
   "cell_type": "code",
   "execution_count": 32,
   "id": "788aae20",
   "metadata": {
    "execution": {
     "iopub.execute_input": "2022-04-03T15:14:08.068706Z",
     "iopub.status.busy": "2022-04-03T15:14:08.067451Z",
     "iopub.status.idle": "2022-04-03T15:14:08.097948Z",
     "shell.execute_reply": "2022-04-03T15:14:08.098567Z",
     "shell.execute_reply.started": "2022-04-03T14:27:02.11856Z"
    },
    "papermill": {
     "duration": 0.116746,
     "end_time": "2022-04-03T15:14:08.098837",
     "exception": false,
     "start_time": "2022-04-03T15:14:07.982091",
     "status": "completed"
    },
    "tags": []
   },
   "outputs": [
    {
     "data": {
      "text/html": [
       "<div>\n",
       "<style scoped>\n",
       "    .dataframe tbody tr th:only-of-type {\n",
       "        vertical-align: middle;\n",
       "    }\n",
       "\n",
       "    .dataframe tbody tr th {\n",
       "        vertical-align: top;\n",
       "    }\n",
       "\n",
       "    .dataframe thead th {\n",
       "        text-align: right;\n",
       "    }\n",
       "</style>\n",
       "<table border=\"1\" class=\"dataframe\">\n",
       "  <thead>\n",
       "    <tr style=\"text-align: right;\">\n",
       "      <th></th>\n",
       "      <th>Customer Type</th>\n",
       "      <th>Age</th>\n",
       "      <th>Type of Travel</th>\n",
       "      <th>Class</th>\n",
       "      <th>Flight Distance</th>\n",
       "      <th>Departure/Arrival time convenient</th>\n",
       "      <th>Gate location</th>\n",
       "      <th>Online boarding</th>\n",
       "      <th>On-board service</th>\n",
       "      <th>Leg room service</th>\n",
       "      <th>Baggage handling</th>\n",
       "      <th>Checkin service</th>\n",
       "      <th>Inflight service</th>\n",
       "      <th>Departure Delay in Minutes</th>\n",
       "      <th>Arrival Delay in Minutes</th>\n",
       "      <th>PCA1</th>\n",
       "      <th>PCA2</th>\n",
       "    </tr>\n",
       "  </thead>\n",
       "  <tbody>\n",
       "    <tr>\n",
       "      <th>0</th>\n",
       "      <td>1</td>\n",
       "      <td>-1.745542</td>\n",
       "      <td>0</td>\n",
       "      <td>1</td>\n",
       "      <td>-0.731305</td>\n",
       "      <td>0.616249</td>\n",
       "      <td>-1.547312</td>\n",
       "      <td>-0.185632</td>\n",
       "      <td>0.479237</td>\n",
       "      <td>-0.267143</td>\n",
       "      <td>0.311853</td>\n",
       "      <td>0.549773</td>\n",
       "      <td>1.156211</td>\n",
       "      <td>0.268966</td>\n",
       "      <td>0.072905</td>\n",
       "      <td>-0.266747</td>\n",
       "      <td>-2.536105</td>\n",
       "    </tr>\n",
       "    <tr>\n",
       "      <th>1</th>\n",
       "      <td>0</td>\n",
       "      <td>-0.951526</td>\n",
       "      <td>1</td>\n",
       "      <td>2</td>\n",
       "      <td>-0.956916</td>\n",
       "      <td>-0.695032</td>\n",
       "      <td>0.017981</td>\n",
       "      <td>-0.185632</td>\n",
       "      <td>-1.849452</td>\n",
       "      <td>1.253304</td>\n",
       "      <td>-0.534854</td>\n",
       "      <td>-1.821038</td>\n",
       "      <td>0.305580</td>\n",
       "      <td>-0.360682</td>\n",
       "      <td>-0.237184</td>\n",
       "      <td>-0.266747</td>\n",
       "      <td>3.507741</td>\n",
       "    </tr>\n",
       "    <tr>\n",
       "      <th>2</th>\n",
       "      <td>1</td>\n",
       "      <td>-0.885358</td>\n",
       "      <td>1</td>\n",
       "      <td>2</td>\n",
       "      <td>-0.047454</td>\n",
       "      <td>-0.695032</td>\n",
       "      <td>-0.764666</td>\n",
       "      <td>1.296479</td>\n",
       "      <td>0.479237</td>\n",
       "      <td>-0.267143</td>\n",
       "      <td>0.311853</td>\n",
       "      <td>0.549773</td>\n",
       "      <td>0.305580</td>\n",
       "      <td>-0.386917</td>\n",
       "      <td>-0.392229</td>\n",
       "      <td>0.771233</td>\n",
       "      <td>-2.536105</td>\n",
       "    </tr>\n",
       "    <tr>\n",
       "      <th>3</th>\n",
       "      <td>1</td>\n",
       "      <td>-0.951526</td>\n",
       "      <td>1</td>\n",
       "      <td>2</td>\n",
       "      <td>-0.629028</td>\n",
       "      <td>1.271890</td>\n",
       "      <td>1.583273</td>\n",
       "      <td>-0.926688</td>\n",
       "      <td>-1.073222</td>\n",
       "      <td>1.253304</td>\n",
       "      <td>-0.534854</td>\n",
       "      <td>-1.821038</td>\n",
       "      <td>0.305580</td>\n",
       "      <td>-0.098328</td>\n",
       "      <td>-0.159662</td>\n",
       "      <td>-0.745158</td>\n",
       "      <td>1.996780</td>\n",
       "    </tr>\n",
       "    <tr>\n",
       "      <th>4</th>\n",
       "      <td>1</td>\n",
       "      <td>1.430521</td>\n",
       "      <td>1</td>\n",
       "      <td>2</td>\n",
       "      <td>-0.977973</td>\n",
       "      <td>-0.039391</td>\n",
       "      <td>0.017981</td>\n",
       "      <td>1.296479</td>\n",
       "      <td>-0.296993</td>\n",
       "      <td>0.493081</td>\n",
       "      <td>0.311853</td>\n",
       "      <td>-0.240497</td>\n",
       "      <td>-0.545051</td>\n",
       "      <td>-0.386917</td>\n",
       "      <td>-0.392229</td>\n",
       "      <td>-0.266747</td>\n",
       "      <td>-0.623246</td>\n",
       "    </tr>\n",
       "  </tbody>\n",
       "</table>\n",
       "</div>"
      ],
      "text/plain": [
       "   Customer Type       Age  Type of Travel  Class  Flight Distance  \\\n",
       "0              1 -1.745542               0      1        -0.731305   \n",
       "1              0 -0.951526               1      2        -0.956916   \n",
       "2              1 -0.885358               1      2        -0.047454   \n",
       "3              1 -0.951526               1      2        -0.629028   \n",
       "4              1  1.430521               1      2        -0.977973   \n",
       "\n",
       "   Departure/Arrival time convenient  Gate location  Online boarding  \\\n",
       "0                           0.616249      -1.547312        -0.185632   \n",
       "1                          -0.695032       0.017981        -0.185632   \n",
       "2                          -0.695032      -0.764666         1.296479   \n",
       "3                           1.271890       1.583273        -0.926688   \n",
       "4                          -0.039391       0.017981         1.296479   \n",
       "\n",
       "   On-board service  Leg room service  Baggage handling  Checkin service  \\\n",
       "0          0.479237         -0.267143          0.311853         0.549773   \n",
       "1         -1.849452          1.253304         -0.534854        -1.821038   \n",
       "2          0.479237         -0.267143          0.311853         0.549773   \n",
       "3         -1.073222          1.253304         -0.534854        -1.821038   \n",
       "4         -0.296993          0.493081          0.311853        -0.240497   \n",
       "\n",
       "   Inflight service  Departure Delay in Minutes  Arrival Delay in Minutes  \\\n",
       "0          1.156211                    0.268966                  0.072905   \n",
       "1          0.305580                   -0.360682                 -0.237184   \n",
       "2          0.305580                   -0.386917                 -0.392229   \n",
       "3          0.305580                   -0.098328                 -0.159662   \n",
       "4         -0.545051                   -0.386917                 -0.392229   \n",
       "\n",
       "       PCA1      PCA2  \n",
       "0 -0.266747 -2.536105  \n",
       "1 -0.266747  3.507741  \n",
       "2  0.771233 -2.536105  \n",
       "3 -0.745158  1.996780  \n",
       "4 -0.266747 -0.623246  "
      ]
     },
     "execution_count": 32,
     "metadata": {},
     "output_type": "execute_result"
    }
   ],
   "source": [
    "X_train = train_data.drop('satisfaction', axis=1)\n",
    "y_train = train_data['satisfaction']\n",
    "\n",
    "X_test = test_data.drop('satisfaction', axis=1)\n",
    "y_test = test_data['satisfaction']\n",
    "\n",
    "X_train.head()"
   ]
  },
  {
   "cell_type": "code",
   "execution_count": 33,
   "id": "2d9dd378",
   "metadata": {
    "execution": {
     "iopub.execute_input": "2022-04-03T15:14:08.271908Z",
     "iopub.status.busy": "2022-04-03T15:14:08.270918Z",
     "iopub.status.idle": "2022-04-03T15:14:08.274832Z",
     "shell.execute_reply": "2022-04-03T15:14:08.275364Z",
     "shell.execute_reply.started": "2022-04-03T14:27:02.145168Z"
    },
    "papermill": {
     "duration": 0.093545,
     "end_time": "2022-04-03T15:14:08.275505",
     "exception": false,
     "start_time": "2022-04-03T15:14:08.181960",
     "status": "completed"
    },
    "tags": []
   },
   "outputs": [
    {
     "name": "stdout",
     "output_type": "stream",
     "text": [
      "X_train shape: (103594, 17)\n",
      "X_test shape: (25893, 17)\n"
     ]
    }
   ],
   "source": [
    "print('X_train shape:', X_train.shape)\n",
    "print('X_test shape:', X_test.shape)"
   ]
  },
  {
   "cell_type": "code",
   "execution_count": 34,
   "id": "10ba7624",
   "metadata": {
    "execution": {
     "iopub.execute_input": "2022-04-03T15:14:08.448326Z",
     "iopub.status.busy": "2022-04-03T15:14:08.447525Z",
     "iopub.status.idle": "2022-04-03T15:14:16.900335Z",
     "shell.execute_reply": "2022-04-03T15:14:16.899676Z",
     "shell.execute_reply.started": "2022-04-03T15:02:12.540886Z"
    },
    "papermill": {
     "duration": 8.544223,
     "end_time": "2022-04-03T15:14:16.900482",
     "exception": false,
     "start_time": "2022-04-03T15:14:08.356259",
     "status": "completed"
    },
    "tags": []
   },
   "outputs": [
    {
     "name": "stderr",
     "output_type": "stream",
     "text": [
      "2022-04-03 15:14:14.197389: I tensorflow/stream_executor/cuda/cuda_gpu_executor.cc:937] successful NUMA node read from SysFS had negative value (-1), but there must be at least one NUMA node, so returning NUMA node zero\n",
      "2022-04-03 15:14:14.301320: I tensorflow/stream_executor/cuda/cuda_gpu_executor.cc:937] successful NUMA node read from SysFS had negative value (-1), but there must be at least one NUMA node, so returning NUMA node zero\n",
      "2022-04-03 15:14:14.302560: I tensorflow/stream_executor/cuda/cuda_gpu_executor.cc:937] successful NUMA node read from SysFS had negative value (-1), but there must be at least one NUMA node, so returning NUMA node zero\n",
      "2022-04-03 15:14:14.304752: I tensorflow/core/platform/cpu_feature_guard.cc:142] This TensorFlow binary is optimized with oneAPI Deep Neural Network Library (oneDNN) to use the following CPU instructions in performance-critical operations:  AVX2 FMA\n",
      "To enable them in other operations, rebuild TensorFlow with the appropriate compiler flags.\n",
      "2022-04-03 15:14:14.305889: I tensorflow/stream_executor/cuda/cuda_gpu_executor.cc:937] successful NUMA node read from SysFS had negative value (-1), but there must be at least one NUMA node, so returning NUMA node zero\n",
      "2022-04-03 15:14:14.307356: I tensorflow/stream_executor/cuda/cuda_gpu_executor.cc:937] successful NUMA node read from SysFS had negative value (-1), but there must be at least one NUMA node, so returning NUMA node zero\n",
      "2022-04-03 15:14:14.308787: I tensorflow/stream_executor/cuda/cuda_gpu_executor.cc:937] successful NUMA node read from SysFS had negative value (-1), but there must be at least one NUMA node, so returning NUMA node zero\n",
      "2022-04-03 15:14:16.443141: I tensorflow/stream_executor/cuda/cuda_gpu_executor.cc:937] successful NUMA node read from SysFS had negative value (-1), but there must be at least one NUMA node, so returning NUMA node zero\n",
      "2022-04-03 15:14:16.444227: I tensorflow/stream_executor/cuda/cuda_gpu_executor.cc:937] successful NUMA node read from SysFS had negative value (-1), but there must be at least one NUMA node, so returning NUMA node zero\n",
      "2022-04-03 15:14:16.445168: I tensorflow/stream_executor/cuda/cuda_gpu_executor.cc:937] successful NUMA node read from SysFS had negative value (-1), but there must be at least one NUMA node, so returning NUMA node zero\n",
      "2022-04-03 15:14:16.445952: I tensorflow/core/common_runtime/gpu/gpu_device.cc:1510] Created device /job:localhost/replica:0/task:0/device:GPU:0 with 15403 MB memory:  -> device: 0, name: Tesla P100-PCIE-16GB, pci bus id: 0000:00:04.0, compute capability: 6.0\n"
     ]
    }
   ],
   "source": [
    "from tensorflow.keras.models import Sequential\n",
    "from tensorflow.keras.layers import Dense, Dropout\n",
    "from tensorflow.keras.optimizers import RMSprop,Adam\n",
    "model = Sequential()\n",
    "model.add(Dense(512, activation='relu', input_shape=(X_train.shape[1],)))\n",
    "model.add(Dropout(0.3))\n",
    "model.add(Dense(256, activation='relu'))\n",
    "model.add(Dense(256, activation='relu'))\n",
    "model.add(Dropout(0.3))\n",
    "model.add(Dense(128, activation='relu'))\n",
    "model.add(Dense(1, activation='sigmoid')) \n",
    "\n",
    "model.compile(loss='binary_crossentropy',\n",
    "              optimizer=Adam(),\n",
    "              metrics=['accuracy'])"
   ]
  },
  {
   "cell_type": "code",
   "execution_count": 35,
   "id": "64152b63",
   "metadata": {
    "execution": {
     "iopub.execute_input": "2022-04-03T15:14:17.072437Z",
     "iopub.status.busy": "2022-04-03T15:14:17.071327Z",
     "iopub.status.idle": "2022-04-03T15:14:17.073687Z",
     "shell.execute_reply": "2022-04-03T15:14:17.074297Z",
     "shell.execute_reply.started": "2022-04-03T15:02:12.814928Z"
    },
    "papermill": {
     "duration": 0.089682,
     "end_time": "2022-04-03T15:14:17.074452",
     "exception": false,
     "start_time": "2022-04-03T15:14:16.984770",
     "status": "completed"
    },
    "tags": []
   },
   "outputs": [],
   "source": [
    "#Adding an early stopping\n",
    "from keras.callbacks import EarlyStopping\n",
    "es = EarlyStopping(monitor='val_accuracy', \n",
    "                   mode='max', \n",
    "                   patience=10,  #Stop the model training if the validation accuracy doesnt increase in 10 Epochs\n",
    "                   restore_best_weights=True)"
   ]
  },
  {
   "cell_type": "code",
   "execution_count": 36,
   "id": "18571d8a",
   "metadata": {
    "execution": {
     "iopub.execute_input": "2022-04-03T15:14:17.244790Z",
     "iopub.status.busy": "2022-04-03T15:14:17.243710Z",
     "iopub.status.idle": "2022-04-03T15:14:31.541716Z",
     "shell.execute_reply": "2022-04-03T15:14:31.540771Z",
     "shell.execute_reply.started": "2022-04-03T15:02:12.976774Z"
    },
    "papermill": {
     "duration": 14.386141,
     "end_time": "2022-04-03T15:14:31.541945",
     "exception": false,
     "start_time": "2022-04-03T15:14:17.155804",
     "status": "completed"
    },
    "tags": []
   },
   "outputs": [
    {
     "name": "stderr",
     "output_type": "stream",
     "text": [
      "2022-04-03 15:14:17.358419: I tensorflow/compiler/mlir/mlir_graph_optimization_pass.cc:185] None of the MLIR Optimization Passes are enabled (registered 2)\n"
     ]
    },
    {
     "name": "stdout",
     "output_type": "stream",
     "text": [
      "Epoch 1/1000\n",
      "104/104 - 2s - loss: 0.2869 - accuracy: 0.8820 - val_loss: 0.1853 - val_accuracy: 0.9241\n",
      "Epoch 2/1000\n",
      "104/104 - 0s - loss: 0.1819 - accuracy: 0.9258 - val_loss: 0.1536 - val_accuracy: 0.9360\n",
      "Epoch 3/1000\n",
      "104/104 - 0s - loss: 0.1559 - accuracy: 0.9363 - val_loss: 0.1396 - val_accuracy: 0.9439\n",
      "Epoch 4/1000\n",
      "104/104 - 1s - loss: 0.1437 - accuracy: 0.9404 - val_loss: 0.1270 - val_accuracy: 0.9482\n",
      "Epoch 5/1000\n",
      "104/104 - 0s - loss: 0.1346 - accuracy: 0.9448 - val_loss: 0.1236 - val_accuracy: 0.9490\n",
      "Epoch 6/1000\n",
      "104/104 - 0s - loss: 0.1289 - accuracy: 0.9470 - val_loss: 0.1228 - val_accuracy: 0.9492\n",
      "Epoch 7/1000\n",
      "104/104 - 0s - loss: 0.1240 - accuracy: 0.9486 - val_loss: 0.1166 - val_accuracy: 0.9506\n",
      "Epoch 8/1000\n",
      "104/104 - 0s - loss: 0.1184 - accuracy: 0.9507 - val_loss: 0.1134 - val_accuracy: 0.9530\n",
      "Epoch 9/1000\n",
      "104/104 - 0s - loss: 0.1152 - accuracy: 0.9521 - val_loss: 0.1136 - val_accuracy: 0.9527\n",
      "Epoch 10/1000\n",
      "104/104 - 0s - loss: 0.1145 - accuracy: 0.9518 - val_loss: 0.1099 - val_accuracy: 0.9551\n",
      "Epoch 11/1000\n",
      "104/104 - 0s - loss: 0.1103 - accuracy: 0.9537 - val_loss: 0.1089 - val_accuracy: 0.9551\n",
      "Epoch 12/1000\n",
      "104/104 - 0s - loss: 0.1086 - accuracy: 0.9542 - val_loss: 0.1111 - val_accuracy: 0.9536\n",
      "Epoch 13/1000\n",
      "104/104 - 0s - loss: 0.1074 - accuracy: 0.9551 - val_loss: 0.1069 - val_accuracy: 0.9560\n",
      "Epoch 14/1000\n",
      "104/104 - 0s - loss: 0.1053 - accuracy: 0.9554 - val_loss: 0.1050 - val_accuracy: 0.9570\n",
      "Epoch 15/1000\n",
      "104/104 - 0s - loss: 0.1038 - accuracy: 0.9561 - val_loss: 0.1076 - val_accuracy: 0.9559\n",
      "Epoch 16/1000\n",
      "104/104 - 0s - loss: 0.1029 - accuracy: 0.9560 - val_loss: 0.1044 - val_accuracy: 0.9564\n",
      "Epoch 17/1000\n",
      "104/104 - 0s - loss: 0.1004 - accuracy: 0.9572 - val_loss: 0.1069 - val_accuracy: 0.9555\n",
      "Epoch 18/1000\n",
      "104/104 - 0s - loss: 0.0996 - accuracy: 0.9574 - val_loss: 0.1064 - val_accuracy: 0.9559\n",
      "Epoch 19/1000\n",
      "104/104 - 0s - loss: 0.0977 - accuracy: 0.9581 - val_loss: 0.1064 - val_accuracy: 0.9567\n",
      "Epoch 20/1000\n",
      "104/104 - 0s - loss: 0.0982 - accuracy: 0.9581 - val_loss: 0.1051 - val_accuracy: 0.9579\n",
      "Epoch 21/1000\n",
      "104/104 - 0s - loss: 0.0961 - accuracy: 0.9586 - val_loss: 0.1033 - val_accuracy: 0.9571\n",
      "Epoch 22/1000\n",
      "104/104 - 0s - loss: 0.0951 - accuracy: 0.9593 - val_loss: 0.1045 - val_accuracy: 0.9576\n",
      "Epoch 23/1000\n",
      "104/104 - 0s - loss: 0.0935 - accuracy: 0.9594 - val_loss: 0.1032 - val_accuracy: 0.9573\n",
      "Epoch 24/1000\n",
      "104/104 - 0s - loss: 0.0941 - accuracy: 0.9593 - val_loss: 0.1068 - val_accuracy: 0.9564\n",
      "Epoch 25/1000\n",
      "104/104 - 0s - loss: 0.0933 - accuracy: 0.9597 - val_loss: 0.1043 - val_accuracy: 0.9573\n",
      "Epoch 26/1000\n",
      "104/104 - 0s - loss: 0.0927 - accuracy: 0.9598 - val_loss: 0.1047 - val_accuracy: 0.9567\n",
      "Epoch 27/1000\n",
      "104/104 - 0s - loss: 0.0911 - accuracy: 0.9608 - val_loss: 0.1082 - val_accuracy: 0.9572\n",
      "Epoch 28/1000\n",
      "104/104 - 0s - loss: 0.0912 - accuracy: 0.9606 - val_loss: 0.1037 - val_accuracy: 0.9575\n",
      "Epoch 29/1000\n",
      "104/104 - 0s - loss: 0.0894 - accuracy: 0.9611 - val_loss: 0.1042 - val_accuracy: 0.9569\n",
      "Epoch 30/1000\n",
      "104/104 - 1s - loss: 0.0884 - accuracy: 0.9614 - val_loss: 0.1034 - val_accuracy: 0.9574\n"
     ]
    }
   ],
   "source": [
    "NN_Classifier = model.fit(X_train, y_train,\n",
    "                          batch_size=1000,\n",
    "                          epochs=1000,\n",
    "                          callbacks =[es],\n",
    "                          verbose=2,\n",
    "                          validation_data=(X_test, y_test))"
   ]
  },
  {
   "cell_type": "code",
   "execution_count": 37,
   "id": "ba66e06e",
   "metadata": {
    "execution": {
     "iopub.execute_input": "2022-04-03T15:14:32.028823Z",
     "iopub.status.busy": "2022-04-03T15:14:32.026103Z",
     "iopub.status.idle": "2022-04-03T15:14:39.130757Z",
     "shell.execute_reply": "2022-04-03T15:14:39.130283Z",
     "shell.execute_reply.started": "2022-04-03T15:01:33.384293Z"
    },
    "papermill": {
     "duration": 7.358801,
     "end_time": "2022-04-03T15:14:39.130890",
     "exception": false,
     "start_time": "2022-04-03T15:14:31.772089",
     "status": "completed"
    },
    "tags": []
   },
   "outputs": [
    {
     "data": {
      "image/png": "[encoded data removed]",
      "text/plain": [
       "<Figure size 432x288 with 2 Axes>"
      ]
     },
     "metadata": {
      "needs_background": "light"
     },
     "output_type": "display_data"
    }
   ],
   "source": [
    "#Plotting Neural Network Training and validation\n",
    "%matplotlib inline\n",
    "fig = plt.figure()\n",
    "plt.subplot(2,1,1)\n",
    "plt.plot(NN_Classifier.history['accuracy'])\n",
    "plt.plot(NN_Classifier.history['val_accuracy'])\n",
    "plt.title('Model Accuracy')\n",
    "plt.ylabel('Accuracy')\n",
    "plt.xlabel('Epochs')\n",
    "plt.legend(['Train', 'Test'], loc='lower right')\n",
    "\n",
    "plt.subplot(2,1,2)\n",
    "plt.plot(NN_Classifier.history['loss'])\n",
    "plt.plot(NN_Classifier.history['val_loss'])\n",
    "plt.title('Model Loss')\n",
    "plt.ylabel('Loss')\n",
    "plt.xlabel('Epoch')\n",
    "plt.legend(['train', 'test'], loc='upper right')\n",
    "plt.tight_layout()"
   ]
  },
  {
   "cell_type": "markdown",
   "id": "9e19cf3a",
   "metadata": {
    "papermill": {
     "duration": 0.108764,
     "end_time": "2022-04-03T15:14:39.349281",
     "exception": false,
     "start_time": "2022-04-03T15:14:39.240517",
     "status": "completed"
    },
    "tags": []
   },
   "source": [
    "# **Predictions**"
   ]
  },
  {
   "cell_type": "code",
   "execution_count": 38,
   "id": "669e1e69",
   "metadata": {
    "execution": {
     "iopub.execute_input": "2022-04-03T15:14:39.573151Z",
     "iopub.status.busy": "2022-04-03T15:14:39.571959Z",
     "iopub.status.idle": "2022-04-03T15:14:41.169205Z",
     "shell.execute_reply": "2022-04-03T15:14:41.168651Z",
     "shell.execute_reply.started": "2022-04-03T15:01:43.966967Z"
    },
    "papermill": {
     "duration": 1.712488,
     "end_time": "2022-04-03T15:14:41.169361",
     "exception": false,
     "start_time": "2022-04-03T15:14:39.456873",
     "status": "completed"
    },
    "tags": []
   },
   "outputs": [
    {
     "name": "stdout",
     "output_type": "stream",
     "text": [
      "Accuracy Score:  95.79%\n",
      "              precision    recall  f1-score   support\n",
      "\n",
      "           0       0.95      0.98      0.96     14528\n",
      "           1       0.97      0.93      0.95     11365\n",
      "\n",
      "    accuracy                           0.96     25893\n",
      "   macro avg       0.96      0.95      0.96     25893\n",
      "weighted avg       0.96      0.96      0.96     25893\n",
      "\n"
     ]
    },
    {
     "data": {
      "image/png": "[encoded data removed]",
      "text/plain": [
       "<Figure size 432x288 with 1 Axes>"
      ]
     },
     "metadata": {
      "needs_background": "light"
     },
     "output_type": "display_data"
    }
   ],
   "source": [
    "from sklearn.metrics import accuracy_score, classification_report, confusion_matrix\n",
    "y_pred=(model.predict(X_test) > 0.5).astype(int)   \n",
    "print('Accuracy Score: ', '{:.2f}%'.format(accuracy_score(y_test, y_pred)*100))\n",
    "print(classification_report(y_test, y_pred))\n",
    "sns.heatmap(confusion_matrix(y_test, y_pred), annot=True, fmt='g', cbar=False, cmap='BuPu')\n",
    "plt.xlabel('Predicted Values')\n",
    "plt.ylabel('Actual Values')\n",
    "plt.show()"
   ]
  }
 ],
 "metadata": {
  "kernelspec": {
   "display_name": "Python 3",
   "language": "python",
   "name": "python3"
  },
  "language_info": {
   "codemirror_mode": {
    "name": "ipython",
    "version": 3
   },
   "file_extension": ".py",
   "mimetype": "text/x-python",
   "name": "python",
   "nbconvert_exporter": "python",
   "pygments_lexer": "ipython3",
   "version": "3.7.12"
  },
  "papermill": {
   "default_parameters": {},
   "duration": 77.731307,
   "end_time": "2022-04-03T15:14:44.654845",
   "environment_variables": {},
   "exception": null,
   "input_path": "__notebook__.ipynb",
   "output_path": "__notebook__.ipynb",
   "parameters": {},
   "start_time": "2022-04-03T15:13:26.923538",
   "version": "2.3.3"
  }
 },
 "nbformat": 4,
 "nbformat_minor": 5
}
