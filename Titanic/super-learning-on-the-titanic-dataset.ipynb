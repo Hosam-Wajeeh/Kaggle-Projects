{
 "cells": [
  {
   "cell_type": "markdown",
   "id": "3b3b77c2",
   "metadata": {
    "papermill": {
     "duration": 0.038556,
     "end_time": "2022-03-28T21:02:41.256602",
     "exception": false,
     "start_time": "2022-03-28T21:02:41.218046",
     "status": "completed"
    },
    "tags": []
   },
   "source": [
    "# **Titanic Survival Preiction**"
   ]
  },
  {
   "cell_type": "code",
   "execution_count": 1,
   "id": "2faa5b3b",
   "metadata": {
    "_cell_guid": "b1076dfc-b9ad-4769-8c92-a6c4dae69d19",
    "_uuid": "8f2839f25d086af736a60e9eeb907d3b93b6e0e5",
    "execution": {
     "iopub.execute_input": "2022-03-28T21:02:41.338829Z",
     "iopub.status.busy": "2022-03-28T21:02:41.336974Z",
     "iopub.status.idle": "2022-03-28T21:02:41.352553Z",
     "shell.execute_reply": "2022-03-28T21:02:41.353573Z",
     "shell.execute_reply.started": "2022-03-26T09:10:28.016076Z"
    },
    "papermill": {
     "duration": 0.058853,
     "end_time": "2022-03-28T21:02:41.354133",
     "exception": false,
     "start_time": "2022-03-28T21:02:41.295280",
     "status": "completed"
    },
    "tags": []
   },
   "outputs": [
    {
     "name": "stdout",
     "output_type": "stream",
     "text": [
      "/kaggle/input/titanic/train.csv\n",
      "/kaggle/input/titanic/test.csv\n",
      "/kaggle/input/titanic/gender_submission.csv\n"
     ]
    }
   ],
   "source": [
    "# This Python 3 environment comes with many helpful analytics libraries installed\n",
    "# It is defined by the kaggle/python Docker image: https://github.com/kaggle/docker-python\n",
    "# For example, here's several helpful packages to load\n",
    "\n",
    "import numpy as np # linear algebra\n",
    "import pandas as pd # data processing, CSV file I/O (e.g. pd.read_csv)\n",
    "\n",
    "# Input data files are available in the read-only \"../input/\" directory\n",
    "# For example, running this (by clicking run or pressing Shift+Enter) will list all files under the input directory\n",
    "\n",
    "import os\n",
    "for dirname, _, filenames in os.walk('/kaggle/input'):\n",
    "    for filename in filenames:\n",
    "        print(os.path.join(dirname, filename))\n",
    "\n",
    "\n",
    "# You can write up to 20GB to the current directory (/kaggle/working/) that gets preserved as output when you create a version using \"Save & Run All\" \n",
    "# You can also write temporary files to /kaggle/temp/, but they won't be saved outside of the current session"
   ]
  },
  {
   "cell_type": "code",
   "execution_count": 2,
   "id": "1cdc2008",
   "metadata": {
    "execution": {
     "iopub.execute_input": "2022-03-28T21:02:41.440992Z",
     "iopub.status.busy": "2022-03-28T21:02:41.440159Z",
     "iopub.status.idle": "2022-03-28T21:02:42.553782Z",
     "shell.execute_reply": "2022-03-28T21:02:42.552661Z",
     "shell.execute_reply.started": "2022-03-26T09:10:28.052145Z"
    },
    "papermill": {
     "duration": 1.158025,
     "end_time": "2022-03-28T21:02:42.553944",
     "exception": false,
     "start_time": "2022-03-28T21:02:41.395919",
     "status": "completed"
    },
    "tags": []
   },
   "outputs": [],
   "source": [
    "import pandas as pd\n",
    "import numpy as np\n",
    "import matplotlib.pyplot as plt\n",
    "import seaborn as sns\n",
    "palette=sns.color_palette('magma')\n",
    "sns.set(palette=palette)"
   ]
  },
  {
   "cell_type": "code",
   "execution_count": 3,
   "id": "56717028",
   "metadata": {
    "execution": {
     "iopub.execute_input": "2022-03-28T21:02:42.638765Z",
     "iopub.status.busy": "2022-03-28T21:02:42.637992Z",
     "iopub.status.idle": "2022-03-28T21:02:42.694003Z",
     "shell.execute_reply": "2022-03-28T21:02:42.694544Z",
     "shell.execute_reply.started": "2022-03-26T09:10:29.133383Z"
    },
    "papermill": {
     "duration": 0.099379,
     "end_time": "2022-03-28T21:02:42.694722",
     "exception": false,
     "start_time": "2022-03-28T21:02:42.595343",
     "status": "completed"
    },
    "tags": []
   },
   "outputs": [
    {
     "data": {
      "text/html": [
       "<div>\n",
       "<style scoped>\n",
       "    .dataframe tbody tr th:only-of-type {\n",
       "        vertical-align: middle;\n",
       "    }\n",
       "\n",
       "    .dataframe tbody tr th {\n",
       "        vertical-align: top;\n",
       "    }\n",
       "\n",
       "    .dataframe thead th {\n",
       "        text-align: right;\n",
       "    }\n",
       "</style>\n",
       "<table border=\"1\" class=\"dataframe\">\n",
       "  <thead>\n",
       "    <tr style=\"text-align: right;\">\n",
       "      <th></th>\n",
       "      <th>Survived</th>\n",
       "      <th>Pclass</th>\n",
       "      <th>Name</th>\n",
       "      <th>Sex</th>\n",
       "      <th>Age</th>\n",
       "      <th>SibSp</th>\n",
       "      <th>Parch</th>\n",
       "      <th>Ticket</th>\n",
       "      <th>Fare</th>\n",
       "      <th>Cabin</th>\n",
       "      <th>Embarked</th>\n",
       "    </tr>\n",
       "    <tr>\n",
       "      <th>PassengerId</th>\n",
       "      <th></th>\n",
       "      <th></th>\n",
       "      <th></th>\n",
       "      <th></th>\n",
       "      <th></th>\n",
       "      <th></th>\n",
       "      <th></th>\n",
       "      <th></th>\n",
       "      <th></th>\n",
       "      <th></th>\n",
       "      <th></th>\n",
       "    </tr>\n",
       "  </thead>\n",
       "  <tbody>\n",
       "    <tr>\n",
       "      <th>1</th>\n",
       "      <td>0</td>\n",
       "      <td>3</td>\n",
       "      <td>Braund, Mr. Owen Harris</td>\n",
       "      <td>male</td>\n",
       "      <td>22.0</td>\n",
       "      <td>1</td>\n",
       "      <td>0</td>\n",
       "      <td>A/5 21171</td>\n",
       "      <td>7.2500</td>\n",
       "      <td>NaN</td>\n",
       "      <td>S</td>\n",
       "    </tr>\n",
       "    <tr>\n",
       "      <th>2</th>\n",
       "      <td>1</td>\n",
       "      <td>1</td>\n",
       "      <td>Cumings, Mrs. John Bradley (Florence Briggs Th...</td>\n",
       "      <td>female</td>\n",
       "      <td>38.0</td>\n",
       "      <td>1</td>\n",
       "      <td>0</td>\n",
       "      <td>PC 17599</td>\n",
       "      <td>71.2833</td>\n",
       "      <td>C85</td>\n",
       "      <td>C</td>\n",
       "    </tr>\n",
       "    <tr>\n",
       "      <th>3</th>\n",
       "      <td>1</td>\n",
       "      <td>3</td>\n",
       "      <td>Heikkinen, Miss. Laina</td>\n",
       "      <td>female</td>\n",
       "      <td>26.0</td>\n",
       "      <td>0</td>\n",
       "      <td>0</td>\n",
       "      <td>STON/O2. 3101282</td>\n",
       "      <td>7.9250</td>\n",
       "      <td>NaN</td>\n",
       "      <td>S</td>\n",
       "    </tr>\n",
       "    <tr>\n",
       "      <th>4</th>\n",
       "      <td>1</td>\n",
       "      <td>1</td>\n",
       "      <td>Futrelle, Mrs. Jacques Heath (Lily May Peel)</td>\n",
       "      <td>female</td>\n",
       "      <td>35.0</td>\n",
       "      <td>1</td>\n",
       "      <td>0</td>\n",
       "      <td>113803</td>\n",
       "      <td>53.1000</td>\n",
       "      <td>C123</td>\n",
       "      <td>S</td>\n",
       "    </tr>\n",
       "    <tr>\n",
       "      <th>5</th>\n",
       "      <td>0</td>\n",
       "      <td>3</td>\n",
       "      <td>Allen, Mr. William Henry</td>\n",
       "      <td>male</td>\n",
       "      <td>35.0</td>\n",
       "      <td>0</td>\n",
       "      <td>0</td>\n",
       "      <td>373450</td>\n",
       "      <td>8.0500</td>\n",
       "      <td>NaN</td>\n",
       "      <td>S</td>\n",
       "    </tr>\n",
       "  </tbody>\n",
       "</table>\n",
       "</div>"
      ],
      "text/plain": [
       "             Survived  Pclass  \\\n",
       "PassengerId                     \n",
       "1                   0       3   \n",
       "2                   1       1   \n",
       "3                   1       3   \n",
       "4                   1       1   \n",
       "5                   0       3   \n",
       "\n",
       "                                                          Name     Sex   Age  \\\n",
       "PassengerId                                                                    \n",
       "1                                      Braund, Mr. Owen Harris    male  22.0   \n",
       "2            Cumings, Mrs. John Bradley (Florence Briggs Th...  female  38.0   \n",
       "3                                       Heikkinen, Miss. Laina  female  26.0   \n",
       "4                 Futrelle, Mrs. Jacques Heath (Lily May Peel)  female  35.0   \n",
       "5                                     Allen, Mr. William Henry    male  35.0   \n",
       "\n",
       "             SibSp  Parch            Ticket     Fare Cabin Embarked  \n",
       "PassengerId                                                          \n",
       "1                1      0         A/5 21171   7.2500   NaN        S  \n",
       "2                1      0          PC 17599  71.2833   C85        C  \n",
       "3                0      0  STON/O2. 3101282   7.9250   NaN        S  \n",
       "4                1      0            113803  53.1000  C123        S  \n",
       "5                0      0            373450   8.0500   NaN        S  "
      ]
     },
     "execution_count": 3,
     "metadata": {},
     "output_type": "execute_result"
    }
   ],
   "source": [
    "train_data=pd.read_csv('/kaggle/input/titanic/train.csv', index_col='PassengerId')\n",
    "test_data=pd.read_csv('/kaggle/input/titanic/test.csv', index_col='PassengerId')\n",
    "\n",
    "train_data.head()"
   ]
  },
  {
   "cell_type": "markdown",
   "id": "c3c5df50",
   "metadata": {
    "papermill": {
     "duration": 0.03883,
     "end_time": "2022-03-28T21:02:42.772105",
     "exception": false,
     "start_time": "2022-03-28T21:02:42.733275",
     "status": "completed"
    },
    "tags": []
   },
   "source": [
    "# **EDA**"
   ]
  },
  {
   "cell_type": "code",
   "execution_count": 4,
   "id": "c449f714",
   "metadata": {
    "execution": {
     "iopub.execute_input": "2022-03-28T21:02:42.854292Z",
     "iopub.status.busy": "2022-03-28T21:02:42.853539Z",
     "iopub.status.idle": "2022-03-28T21:02:42.859616Z",
     "shell.execute_reply": "2022-03-28T21:02:42.858797Z",
     "shell.execute_reply.started": "2022-03-26T09:10:29.185964Z"
    },
    "papermill": {
     "duration": 0.0495,
     "end_time": "2022-03-28T21:02:42.859783",
     "exception": false,
     "start_time": "2022-03-28T21:02:42.810283",
     "status": "completed"
    },
    "tags": []
   },
   "outputs": [],
   "source": [
    "#Dropping the Name and Ticket columns because i dont think i can make use of them for now\n",
    "train_data_clean=train_data.drop(['Name','Ticket'], axis=1)"
   ]
  },
  {
   "cell_type": "code",
   "execution_count": 5,
   "id": "640ad1b7",
   "metadata": {
    "execution": {
     "iopub.execute_input": "2022-03-28T21:02:42.947852Z",
     "iopub.status.busy": "2022-03-28T21:02:42.947124Z",
     "iopub.status.idle": "2022-03-28T21:02:42.962413Z",
     "shell.execute_reply": "2022-03-28T21:02:42.963081Z",
     "shell.execute_reply.started": "2022-03-26T09:10:29.196968Z"
    },
    "papermill": {
     "duration": 0.062109,
     "end_time": "2022-03-28T21:02:42.963312",
     "exception": false,
     "start_time": "2022-03-28T21:02:42.901203",
     "status": "completed"
    },
    "tags": []
   },
   "outputs": [
    {
     "name": "stdout",
     "output_type": "stream",
     "text": [
      "<class 'pandas.core.frame.DataFrame'>\n",
      "Int64Index: 891 entries, 1 to 891\n",
      "Data columns (total 9 columns):\n",
      " #   Column    Non-Null Count  Dtype  \n",
      "---  ------    --------------  -----  \n",
      " 0   Survived  891 non-null    int64  \n",
      " 1   Pclass    891 non-null    int64  \n",
      " 2   Sex       891 non-null    object \n",
      " 3   Age       714 non-null    float64\n",
      " 4   SibSp     891 non-null    int64  \n",
      " 5   Parch     891 non-null    int64  \n",
      " 6   Fare      891 non-null    float64\n",
      " 7   Cabin     204 non-null    object \n",
      " 8   Embarked  889 non-null    object \n",
      "dtypes: float64(2), int64(4), object(3)\n",
      "memory usage: 69.6+ KB\n"
     ]
    }
   ],
   "source": [
    "train_data_clean.info()"
   ]
  },
  {
   "cell_type": "code",
   "execution_count": 6,
   "id": "a3af7412",
   "metadata": {
    "execution": {
     "iopub.execute_input": "2022-03-28T21:02:43.052335Z",
     "iopub.status.busy": "2022-03-28T21:02:43.051345Z",
     "iopub.status.idle": "2022-03-28T21:02:43.070313Z",
     "shell.execute_reply": "2022-03-28T21:02:43.069592Z",
     "shell.execute_reply.started": "2022-03-26T09:10:29.230859Z"
    },
    "papermill": {
     "duration": 0.062745,
     "end_time": "2022-03-28T21:02:43.070494",
     "exception": false,
     "start_time": "2022-03-28T21:02:43.007749",
     "status": "completed"
    },
    "tags": []
   },
   "outputs": [
    {
     "data": {
      "text/html": [
       "<div>\n",
       "<style scoped>\n",
       "    .dataframe tbody tr th:only-of-type {\n",
       "        vertical-align: middle;\n",
       "    }\n",
       "\n",
       "    .dataframe tbody tr th {\n",
       "        vertical-align: top;\n",
       "    }\n",
       "\n",
       "    .dataframe thead th {\n",
       "        text-align: right;\n",
       "    }\n",
       "</style>\n",
       "<table border=\"1\" class=\"dataframe\">\n",
       "  <thead>\n",
       "    <tr style=\"text-align: right;\">\n",
       "      <th></th>\n",
       "      <th>Survived</th>\n",
       "      <th>Pclass</th>\n",
       "      <th>Sex</th>\n",
       "      <th>Age</th>\n",
       "      <th>SibSp</th>\n",
       "      <th>Parch</th>\n",
       "      <th>Fare</th>\n",
       "      <th>Cabin</th>\n",
       "      <th>Embarked</th>\n",
       "      <th>Cabin Letter</th>\n",
       "    </tr>\n",
       "    <tr>\n",
       "      <th>PassengerId</th>\n",
       "      <th></th>\n",
       "      <th></th>\n",
       "      <th></th>\n",
       "      <th></th>\n",
       "      <th></th>\n",
       "      <th></th>\n",
       "      <th></th>\n",
       "      <th></th>\n",
       "      <th></th>\n",
       "      <th></th>\n",
       "    </tr>\n",
       "  </thead>\n",
       "  <tbody>\n",
       "    <tr>\n",
       "      <th>1</th>\n",
       "      <td>0</td>\n",
       "      <td>3</td>\n",
       "      <td>male</td>\n",
       "      <td>22.0</td>\n",
       "      <td>1</td>\n",
       "      <td>0</td>\n",
       "      <td>7.2500</td>\n",
       "      <td>NaN</td>\n",
       "      <td>S</td>\n",
       "      <td>NaN</td>\n",
       "    </tr>\n",
       "    <tr>\n",
       "      <th>2</th>\n",
       "      <td>1</td>\n",
       "      <td>1</td>\n",
       "      <td>female</td>\n",
       "      <td>38.0</td>\n",
       "      <td>1</td>\n",
       "      <td>0</td>\n",
       "      <td>71.2833</td>\n",
       "      <td>C85</td>\n",
       "      <td>C</td>\n",
       "      <td>C</td>\n",
       "    </tr>\n",
       "    <tr>\n",
       "      <th>3</th>\n",
       "      <td>1</td>\n",
       "      <td>3</td>\n",
       "      <td>female</td>\n",
       "      <td>26.0</td>\n",
       "      <td>0</td>\n",
       "      <td>0</td>\n",
       "      <td>7.9250</td>\n",
       "      <td>NaN</td>\n",
       "      <td>S</td>\n",
       "      <td>NaN</td>\n",
       "    </tr>\n",
       "    <tr>\n",
       "      <th>4</th>\n",
       "      <td>1</td>\n",
       "      <td>1</td>\n",
       "      <td>female</td>\n",
       "      <td>35.0</td>\n",
       "      <td>1</td>\n",
       "      <td>0</td>\n",
       "      <td>53.1000</td>\n",
       "      <td>C123</td>\n",
       "      <td>S</td>\n",
       "      <td>C</td>\n",
       "    </tr>\n",
       "    <tr>\n",
       "      <th>5</th>\n",
       "      <td>0</td>\n",
       "      <td>3</td>\n",
       "      <td>male</td>\n",
       "      <td>35.0</td>\n",
       "      <td>0</td>\n",
       "      <td>0</td>\n",
       "      <td>8.0500</td>\n",
       "      <td>NaN</td>\n",
       "      <td>S</td>\n",
       "      <td>NaN</td>\n",
       "    </tr>\n",
       "  </tbody>\n",
       "</table>\n",
       "</div>"
      ],
      "text/plain": [
       "             Survived  Pclass     Sex   Age  SibSp  Parch     Fare Cabin  \\\n",
       "PassengerId                                                                \n",
       "1                   0       3    male  22.0      1      0   7.2500   NaN   \n",
       "2                   1       1  female  38.0      1      0  71.2833   C85   \n",
       "3                   1       3  female  26.0      0      0   7.9250   NaN   \n",
       "4                   1       1  female  35.0      1      0  53.1000  C123   \n",
       "5                   0       3    male  35.0      0      0   8.0500   NaN   \n",
       "\n",
       "            Embarked Cabin Letter  \n",
       "PassengerId                        \n",
       "1                  S          NaN  \n",
       "2                  C            C  \n",
       "3                  S          NaN  \n",
       "4                  S            C  \n",
       "5                  S          NaN  "
      ]
     },
     "execution_count": 6,
     "metadata": {},
     "output_type": "execute_result"
    }
   ],
   "source": [
    "#I noticed that there are over 600 null values in the Cabin column which is over 70%\n",
    "#Extracting the cabin letter into a new column\n",
    "train_data_clean['Cabin Letter'] = train_data_clean['Cabin'].str.extract('(\\w)')\n",
    "train_data_clean.head()"
   ]
  },
  {
   "cell_type": "code",
   "execution_count": 7,
   "id": "7e2dd7fa",
   "metadata": {
    "execution": {
     "iopub.execute_input": "2022-03-28T21:02:43.162035Z",
     "iopub.status.busy": "2022-03-28T21:02:43.161337Z",
     "iopub.status.idle": "2022-03-28T21:02:43.475542Z",
     "shell.execute_reply": "2022-03-28T21:02:43.476024Z",
     "shell.execute_reply.started": "2022-03-26T09:10:29.26329Z"
    },
    "papermill": {
     "duration": 0.363937,
     "end_time": "2022-03-28T21:02:43.476215",
     "exception": false,
     "start_time": "2022-03-28T21:02:43.112278",
     "status": "completed"
    },
    "tags": []
   },
   "outputs": [
    {
     "data": {
      "image/png": "[encoded data removed]",
      "text/plain": [
       "<Figure size 432x288 with 1 Axes>"
      ]
     },
     "metadata": {},
     "output_type": "display_data"
    }
   ],
   "source": [
    "#Filling the null cabin letters with 'unknown' as a value\n",
    "train_data_clean['Cabin Letter'].fillna('Unknown', inplace=True)\n",
    "train_data_clean['Cabin Letter'].value_counts().plot(kind='bar')\n",
    "\n",
    "train_data_clean['Cabin Letter'].value_counts().plot(kind='bar')\n",
    "plt.show()"
   ]
  },
  {
   "cell_type": "code",
   "execution_count": 8,
   "id": "7e31b265",
   "metadata": {
    "execution": {
     "iopub.execute_input": "2022-03-28T21:02:43.560841Z",
     "iopub.status.busy": "2022-03-28T21:02:43.559766Z",
     "iopub.status.idle": "2022-03-28T21:02:43.565626Z",
     "shell.execute_reply": "2022-03-28T21:02:43.566215Z",
     "shell.execute_reply.started": "2022-03-26T09:10:29.52668Z"
    },
    "papermill": {
     "duration": 0.050093,
     "end_time": "2022-03-28T21:02:43.566416",
     "exception": false,
     "start_time": "2022-03-28T21:02:43.516323",
     "status": "completed"
    },
    "tags": []
   },
   "outputs": [],
   "source": [
    "#Dropping the Cabin column\n",
    "train_data_clean.drop(['Cabin'], axis=1, inplace=True)"
   ]
  },
  {
   "cell_type": "code",
   "execution_count": 9,
   "id": "cf5218e5",
   "metadata": {
    "execution": {
     "iopub.execute_input": "2022-03-28T21:02:43.652367Z",
     "iopub.status.busy": "2022-03-28T21:02:43.651307Z",
     "iopub.status.idle": "2022-03-28T21:02:43.666032Z",
     "shell.execute_reply": "2022-03-28T21:02:43.666841Z",
     "shell.execute_reply.started": "2022-03-26T09:10:29.533988Z"
    },
    "papermill": {
     "duration": 0.060696,
     "end_time": "2022-03-28T21:02:43.667092",
     "exception": false,
     "start_time": "2022-03-28T21:02:43.606396",
     "status": "completed"
    },
    "tags": []
   },
   "outputs": [
    {
     "name": "stdout",
     "output_type": "stream",
     "text": [
      "<class 'pandas.core.frame.DataFrame'>\n",
      "Int64Index: 889 entries, 1 to 891\n",
      "Data columns (total 9 columns):\n",
      " #   Column        Non-Null Count  Dtype  \n",
      "---  ------        --------------  -----  \n",
      " 0   Survived      889 non-null    int64  \n",
      " 1   Pclass        889 non-null    int64  \n",
      " 2   Sex           889 non-null    object \n",
      " 3   Age           712 non-null    float64\n",
      " 4   SibSp         889 non-null    int64  \n",
      " 5   Parch         889 non-null    int64  \n",
      " 6   Fare          889 non-null    float64\n",
      " 7   Embarked      889 non-null    object \n",
      " 8   Cabin Letter  889 non-null    object \n",
      "dtypes: float64(2), int64(4), object(3)\n",
      "memory usage: 69.5+ KB\n"
     ]
    }
   ],
   "source": [
    "#Embarked has only 2 missing values so im gonna drop them\n",
    "train_data_clean = train_data_clean[train_data_clean['Embarked'].notna()]\n",
    "train_data_clean.info()\n",
    "#Age has some missing values ill be back to that later"
   ]
  },
  {
   "cell_type": "code",
   "execution_count": 10,
   "id": "87834679",
   "metadata": {
    "execution": {
     "iopub.execute_input": "2022-03-28T21:02:43.756092Z",
     "iopub.status.busy": "2022-03-28T21:02:43.755011Z",
     "iopub.status.idle": "2022-03-28T21:02:43.757107Z",
     "shell.execute_reply": "2022-03-28T21:02:43.757648Z",
     "shell.execute_reply.started": "2022-03-26T09:10:29.567302Z"
    },
    "papermill": {
     "duration": 0.048611,
     "end_time": "2022-03-28T21:02:43.757835",
     "exception": false,
     "start_time": "2022-03-28T21:02:43.709224",
     "status": "completed"
    },
    "tags": []
   },
   "outputs": [],
   "source": [
    "#Creating a new feature 'relatives' which consists of SibSp+Parch\n",
    "train_data_clean['relatives']=train_data_clean['SibSp']+train_data_clean['Parch']"
   ]
  },
  {
   "cell_type": "code",
   "execution_count": 11,
   "id": "b27c938e",
   "metadata": {
    "execution": {
     "iopub.execute_input": "2022-03-28T21:02:43.844843Z",
     "iopub.status.busy": "2022-03-28T21:02:43.844140Z",
     "iopub.status.idle": "2022-03-28T21:02:44.026397Z",
     "shell.execute_reply": "2022-03-28T21:02:44.026892Z",
     "shell.execute_reply.started": "2022-03-26T09:10:29.575819Z"
    },
    "papermill": {
     "duration": 0.228603,
     "end_time": "2022-03-28T21:02:44.027090",
     "exception": false,
     "start_time": "2022-03-28T21:02:43.798487",
     "status": "completed"
    },
    "tags": []
   },
   "outputs": [
    {
     "data": {
      "image/png": "[encoded data removed]",
      "text/plain": [
       "<Figure size 432x288 with 1 Axes>"
      ]
     },
     "metadata": {},
     "output_type": "display_data"
    }
   ],
   "source": [
    "train_data_clean['Survived'].value_counts().plot(kind='bar')\n",
    "plt.xlabel('Survived')\n",
    "plt.ylabel('Count')\n",
    "plt.show()"
   ]
  },
  {
   "cell_type": "code",
   "execution_count": 12,
   "id": "70af4fa0",
   "metadata": {
    "execution": {
     "iopub.execute_input": "2022-03-28T21:02:44.117645Z",
     "iopub.status.busy": "2022-03-28T21:02:44.116891Z",
     "iopub.status.idle": "2022-03-28T21:02:44.314731Z",
     "shell.execute_reply": "2022-03-28T21:02:44.315249Z",
     "shell.execute_reply.started": "2022-03-26T09:10:29.710341Z"
    },
    "papermill": {
     "duration": 0.246527,
     "end_time": "2022-03-28T21:02:44.315444",
     "exception": false,
     "start_time": "2022-03-28T21:02:44.068917",
     "status": "completed"
    },
    "tags": []
   },
   "outputs": [
    {
     "data": {
      "image/png": "[encoded data removed]",
      "text/plain": [
       "<Figure size 432x288 with 1 Axes>"
      ]
     },
     "metadata": {},
     "output_type": "display_data"
    }
   ],
   "source": [
    "sns.stripplot(data=train_data_clean, x='Survived', y='Age')\n",
    "plt.show()"
   ]
  },
  {
   "cell_type": "code",
   "execution_count": 13,
   "id": "89cc8f04",
   "metadata": {
    "execution": {
     "iopub.execute_input": "2022-03-28T21:02:44.405215Z",
     "iopub.status.busy": "2022-03-28T21:02:44.404573Z",
     "iopub.status.idle": "2022-03-28T21:02:44.584684Z",
     "shell.execute_reply": "2022-03-28T21:02:44.585295Z",
     "shell.execute_reply.started": "2022-03-26T09:10:29.871195Z"
    },
    "papermill": {
     "duration": 0.227423,
     "end_time": "2022-03-28T21:02:44.585480",
     "exception": false,
     "start_time": "2022-03-28T21:02:44.358057",
     "status": "completed"
    },
    "tags": []
   },
   "outputs": [
    {
     "data": {
      "image/png": "[encoded data removed]",
      "text/plain": [
       "<Figure size 432x288 with 1 Axes>"
      ]
     },
     "metadata": {},
     "output_type": "display_data"
    }
   ],
   "source": [
    "sns.stripplot(data=train_data_clean, x='Survived', y='Fare')\n",
    "plt.show()"
   ]
  },
  {
   "cell_type": "code",
   "execution_count": 14,
   "id": "f2e711b4",
   "metadata": {
    "execution": {
     "iopub.execute_input": "2022-03-28T21:02:44.676381Z",
     "iopub.status.busy": "2022-03-28T21:02:44.675730Z",
     "iopub.status.idle": "2022-03-28T21:02:44.864015Z",
     "shell.execute_reply": "2022-03-28T21:02:44.864610Z",
     "shell.execute_reply.started": "2022-03-26T09:10:30.029925Z"
    },
    "papermill": {
     "duration": 0.23532,
     "end_time": "2022-03-28T21:02:44.864801",
     "exception": false,
     "start_time": "2022-03-28T21:02:44.629481",
     "status": "completed"
    },
    "tags": []
   },
   "outputs": [
    {
     "data": {
      "image/png": "[encoded data removed]",
      "text/plain": [
       "<Figure size 432x288 with 1 Axes>"
      ]
     },
     "metadata": {},
     "output_type": "display_data"
    }
   ],
   "source": [
    "train_data_clean['Embarked'].value_counts().plot(kind='bar')\n",
    "plt.xlabel('Embarked')\n",
    "plt.ylabel('Count')\n",
    "plt.show()"
   ]
  },
  {
   "cell_type": "code",
   "execution_count": 15,
   "id": "dcb94b1b",
   "metadata": {
    "execution": {
     "iopub.execute_input": "2022-03-28T21:02:44.979471Z",
     "iopub.status.busy": "2022-03-28T21:02:44.978729Z",
     "iopub.status.idle": "2022-03-28T21:02:45.143144Z",
     "shell.execute_reply": "2022-03-28T21:02:45.143822Z",
     "shell.execute_reply.started": "2022-03-26T09:10:30.176217Z"
    },
    "papermill": {
     "duration": 0.234836,
     "end_time": "2022-03-28T21:02:45.144012",
     "exception": false,
     "start_time": "2022-03-28T21:02:44.909176",
     "status": "completed"
    },
    "tags": []
   },
   "outputs": [
    {
     "data": {
      "image/png": "[encoded data removed]",
      "text/plain": [
       "<Figure size 432x288 with 1 Axes>"
      ]
     },
     "metadata": {},
     "output_type": "display_data"
    }
   ],
   "source": [
    "train_data_clean['Pclass'].value_counts().plot(kind='bar')\n",
    "plt.xlabel('Pclass')\n",
    "plt.ylabel('Count')\n",
    "plt.show()"
   ]
  },
  {
   "cell_type": "code",
   "execution_count": 16,
   "id": "4da13db0",
   "metadata": {
    "execution": {
     "iopub.execute_input": "2022-03-28T21:02:45.240654Z",
     "iopub.status.busy": "2022-03-28T21:02:45.240000Z",
     "iopub.status.idle": "2022-03-28T21:02:45.752515Z",
     "shell.execute_reply": "2022-03-28T21:02:45.753188Z",
     "shell.execute_reply.started": "2022-03-26T09:10:30.318636Z"
    },
    "papermill": {
     "duration": 0.56143,
     "end_time": "2022-03-28T21:02:45.753389",
     "exception": false,
     "start_time": "2022-03-28T21:02:45.191959",
     "status": "completed"
    },
    "tags": []
   },
   "outputs": [
    {
     "data": {
      "image/png": "[encoded data removed]",
      "text/plain": [
       "<Figure size 1152x720 with 2 Axes>"
      ]
     },
     "metadata": {},
     "output_type": "display_data"
    }
   ],
   "source": [
    "#Correlation Heatmap\n",
    "plt.figure(figsize=(16,10))\n",
    "sns.heatmap(train_data_clean.corr(), annot=True)\n",
    "plt.show()"
   ]
  },
  {
   "cell_type": "markdown",
   "id": "a79884b0",
   "metadata": {
    "papermill": {
     "duration": 0.04872,
     "end_time": "2022-03-28T21:02:45.849722",
     "exception": false,
     "start_time": "2022-03-28T21:02:45.801002",
     "status": "completed"
    },
    "tags": []
   },
   "source": [
    "# **Preprocessing**"
   ]
  },
  {
   "cell_type": "code",
   "execution_count": 17,
   "id": "0afbb138",
   "metadata": {
    "execution": {
     "iopub.execute_input": "2022-03-28T21:02:45.947680Z",
     "iopub.status.busy": "2022-03-28T21:02:45.946978Z",
     "iopub.status.idle": "2022-03-28T21:02:45.962671Z",
     "shell.execute_reply": "2022-03-28T21:02:45.963254Z",
     "shell.execute_reply.started": "2022-03-26T09:10:30.712838Z"
    },
    "papermill": {
     "duration": 0.066352,
     "end_time": "2022-03-28T21:02:45.963464",
     "exception": false,
     "start_time": "2022-03-28T21:02:45.897112",
     "status": "completed"
    },
    "tags": []
   },
   "outputs": [
    {
     "data": {
      "text/html": [
       "<div>\n",
       "<style scoped>\n",
       "    .dataframe tbody tr th:only-of-type {\n",
       "        vertical-align: middle;\n",
       "    }\n",
       "\n",
       "    .dataframe tbody tr th {\n",
       "        vertical-align: top;\n",
       "    }\n",
       "\n",
       "    .dataframe thead th {\n",
       "        text-align: right;\n",
       "    }\n",
       "</style>\n",
       "<table border=\"1\" class=\"dataframe\">\n",
       "  <thead>\n",
       "    <tr style=\"text-align: right;\">\n",
       "      <th></th>\n",
       "      <th>Pclass</th>\n",
       "      <th>Sex</th>\n",
       "      <th>Age</th>\n",
       "      <th>SibSp</th>\n",
       "      <th>Parch</th>\n",
       "      <th>Fare</th>\n",
       "      <th>Embarked</th>\n",
       "      <th>Cabin Letter</th>\n",
       "      <th>relatives</th>\n",
       "    </tr>\n",
       "    <tr>\n",
       "      <th>PassengerId</th>\n",
       "      <th></th>\n",
       "      <th></th>\n",
       "      <th></th>\n",
       "      <th></th>\n",
       "      <th></th>\n",
       "      <th></th>\n",
       "      <th></th>\n",
       "      <th></th>\n",
       "      <th></th>\n",
       "    </tr>\n",
       "  </thead>\n",
       "  <tbody>\n",
       "    <tr>\n",
       "      <th>1</th>\n",
       "      <td>3</td>\n",
       "      <td>male</td>\n",
       "      <td>22.0</td>\n",
       "      <td>1</td>\n",
       "      <td>0</td>\n",
       "      <td>7.2500</td>\n",
       "      <td>S</td>\n",
       "      <td>Unknown</td>\n",
       "      <td>1</td>\n",
       "    </tr>\n",
       "    <tr>\n",
       "      <th>2</th>\n",
       "      <td>1</td>\n",
       "      <td>female</td>\n",
       "      <td>38.0</td>\n",
       "      <td>1</td>\n",
       "      <td>0</td>\n",
       "      <td>71.2833</td>\n",
       "      <td>C</td>\n",
       "      <td>C</td>\n",
       "      <td>1</td>\n",
       "    </tr>\n",
       "    <tr>\n",
       "      <th>3</th>\n",
       "      <td>3</td>\n",
       "      <td>female</td>\n",
       "      <td>26.0</td>\n",
       "      <td>0</td>\n",
       "      <td>0</td>\n",
       "      <td>7.9250</td>\n",
       "      <td>S</td>\n",
       "      <td>Unknown</td>\n",
       "      <td>0</td>\n",
       "    </tr>\n",
       "    <tr>\n",
       "      <th>4</th>\n",
       "      <td>1</td>\n",
       "      <td>female</td>\n",
       "      <td>35.0</td>\n",
       "      <td>1</td>\n",
       "      <td>0</td>\n",
       "      <td>53.1000</td>\n",
       "      <td>S</td>\n",
       "      <td>C</td>\n",
       "      <td>1</td>\n",
       "    </tr>\n",
       "    <tr>\n",
       "      <th>5</th>\n",
       "      <td>3</td>\n",
       "      <td>male</td>\n",
       "      <td>35.0</td>\n",
       "      <td>0</td>\n",
       "      <td>0</td>\n",
       "      <td>8.0500</td>\n",
       "      <td>S</td>\n",
       "      <td>Unknown</td>\n",
       "      <td>0</td>\n",
       "    </tr>\n",
       "  </tbody>\n",
       "</table>\n",
       "</div>"
      ],
      "text/plain": [
       "             Pclass     Sex   Age  SibSp  Parch     Fare Embarked  \\\n",
       "PassengerId                                                         \n",
       "1                 3    male  22.0      1      0   7.2500        S   \n",
       "2                 1  female  38.0      1      0  71.2833        C   \n",
       "3                 3  female  26.0      0      0   7.9250        S   \n",
       "4                 1  female  35.0      1      0  53.1000        S   \n",
       "5                 3    male  35.0      0      0   8.0500        S   \n",
       "\n",
       "            Cabin Letter  relatives  \n",
       "PassengerId                          \n",
       "1                Unknown          1  \n",
       "2                      C          1  \n",
       "3                Unknown          0  \n",
       "4                      C          1  \n",
       "5                Unknown          0  "
      ]
     },
     "execution_count": 17,
     "metadata": {},
     "output_type": "execute_result"
    }
   ],
   "source": [
    "X= train_data_clean.drop('Survived', axis=1)\n",
    "y= train_data_clean['Survived']\n",
    "\n",
    "X.head()"
   ]
  },
  {
   "cell_type": "code",
   "execution_count": 18,
   "id": "a27780d7",
   "metadata": {
    "execution": {
     "iopub.execute_input": "2022-03-28T21:02:46.062880Z",
     "iopub.status.busy": "2022-03-28T21:02:46.062203Z",
     "iopub.status.idle": "2022-03-28T21:02:46.384680Z",
     "shell.execute_reply": "2022-03-28T21:02:46.384036Z",
     "shell.execute_reply.started": "2022-03-26T09:10:30.729662Z"
    },
    "papermill": {
     "duration": 0.372749,
     "end_time": "2022-03-28T21:02:46.384823",
     "exception": false,
     "start_time": "2022-03-28T21:02:46.012074",
     "status": "completed"
    },
    "tags": []
   },
   "outputs": [
    {
     "data": {
      "text/plain": [
       "['Sex', 'Embarked', 'Cabin Letter']"
      ]
     },
     "execution_count": 18,
     "metadata": {},
     "output_type": "execute_result"
    }
   ],
   "source": [
    "from sklearn.compose import ColumnTransformer\n",
    "from sklearn.pipeline import Pipeline\n",
    "from sklearn.impute import SimpleImputer\n",
    "from sklearn.preprocessing import OneHotEncoder, StandardScaler, MinMaxScaler\n",
    "\n",
    "#Select categorical columns\n",
    "categorical_cols = [col for col in X.columns if X[col].dtype == 'object']\n",
    "categorical_cols"
   ]
  },
  {
   "cell_type": "code",
   "execution_count": 19,
   "id": "1ec790a1",
   "metadata": {
    "execution": {
     "iopub.execute_input": "2022-03-28T21:02:46.484905Z",
     "iopub.status.busy": "2022-03-28T21:02:46.484142Z",
     "iopub.status.idle": "2022-03-28T21:02:46.490262Z",
     "shell.execute_reply": "2022-03-28T21:02:46.490834Z",
     "shell.execute_reply.started": "2022-03-26T09:10:31.252234Z"
    },
    "papermill": {
     "duration": 0.05769,
     "end_time": "2022-03-28T21:02:46.491009",
     "exception": false,
     "start_time": "2022-03-28T21:02:46.433319",
     "status": "completed"
    },
    "tags": []
   },
   "outputs": [
    {
     "data": {
      "text/plain": [
       "['Pclass', 'Age', 'SibSp', 'Parch', 'Fare', 'relatives']"
      ]
     },
     "execution_count": 19,
     "metadata": {},
     "output_type": "execute_result"
    }
   ],
   "source": [
    "#Select numerical columns\n",
    "numerical_cols = [col for col in X.columns if X[col].dtype in ['int64', 'float64']]\n",
    "numerical_cols"
   ]
  },
  {
   "cell_type": "code",
   "execution_count": 20,
   "id": "7bf66d58",
   "metadata": {
    "execution": {
     "iopub.execute_input": "2022-03-28T21:02:46.591460Z",
     "iopub.status.busy": "2022-03-28T21:02:46.590816Z",
     "iopub.status.idle": "2022-03-28T21:02:46.594887Z",
     "shell.execute_reply": "2022-03-28T21:02:46.595446Z",
     "shell.execute_reply.started": "2022-03-26T09:10:31.261509Z"
    },
    "papermill": {
     "duration": 0.05592,
     "end_time": "2022-03-28T21:02:46.595622",
     "exception": false,
     "start_time": "2022-03-28T21:02:46.539702",
     "status": "completed"
    },
    "tags": []
   },
   "outputs": [],
   "source": [
    "#Preprocessing for numerical data(Age in the train)\n",
    "numerical_transformer = Pipeline(steps=[\n",
    "    ('imputer', SimpleImputer(strategy='mean')),\n",
    "    ('scaler', StandardScaler())\n",
    "])"
   ]
  },
  {
   "cell_type": "code",
   "execution_count": 21,
   "id": "b189c4ff",
   "metadata": {
    "execution": {
     "iopub.execute_input": "2022-03-28T21:02:46.696980Z",
     "iopub.status.busy": "2022-03-28T21:02:46.696201Z",
     "iopub.status.idle": "2022-03-28T21:02:46.700666Z",
     "shell.execute_reply": "2022-03-28T21:02:46.701176Z",
     "shell.execute_reply.started": "2022-03-26T09:10:31.278652Z"
    },
    "papermill": {
     "duration": 0.056561,
     "end_time": "2022-03-28T21:02:46.701370",
     "exception": false,
     "start_time": "2022-03-28T21:02:46.644809",
     "status": "completed"
    },
    "tags": []
   },
   "outputs": [],
   "source": [
    "#Preprocessing for categorical data\n",
    "categorical_transformer = Pipeline(steps=[\n",
    "    ('imputer', SimpleImputer(strategy='most_frequent')),\n",
    "    ('onehot', OneHotEncoder(handle_unknown='ignore'))  #handle unknown wont give an error if it gets a new value in the test set for the categorical values\n",
    "])"
   ]
  },
  {
   "cell_type": "code",
   "execution_count": 22,
   "id": "0eb4a0c8",
   "metadata": {
    "execution": {
     "iopub.execute_input": "2022-03-28T21:02:46.803653Z",
     "iopub.status.busy": "2022-03-28T21:02:46.802943Z",
     "iopub.status.idle": "2022-03-28T21:02:46.819864Z",
     "shell.execute_reply": "2022-03-28T21:02:46.820501Z",
     "shell.execute_reply.started": "2022-03-26T09:10:31.297321Z"
    },
    "papermill": {
     "duration": 0.070765,
     "end_time": "2022-03-28T21:02:46.820686",
     "exception": false,
     "start_time": "2022-03-28T21:02:46.749921",
     "status": "completed"
    },
    "tags": []
   },
   "outputs": [
    {
     "data": {
      "text/plain": [
       "ColumnTransformer(transformers=[('num',\n",
       "                                 Pipeline(steps=[('imputer', SimpleImputer()),\n",
       "                                                 ('scaler', StandardScaler())]),\n",
       "                                 ['Pclass', 'Age', 'SibSp', 'Parch', 'Fare',\n",
       "                                  'relatives']),\n",
       "                                ('cat',\n",
       "                                 Pipeline(steps=[('imputer',\n",
       "                                                  SimpleImputer(strategy='most_frequent')),\n",
       "                                                 ('onehot',\n",
       "                                                  OneHotEncoder(handle_unknown='ignore'))]),\n",
       "                                 ['Sex', 'Embarked', 'Cabin Letter'])])"
      ]
     },
     "execution_count": 22,
     "metadata": {},
     "output_type": "execute_result"
    }
   ],
   "source": [
    "preprocessor = ColumnTransformer(\n",
    "    transformers=[\n",
    "        ('num', numerical_transformer, numerical_cols),\n",
    "        ('cat', categorical_transformer, categorical_cols)\n",
    "    ])\n",
    "preprocessor"
   ]
  },
  {
   "cell_type": "markdown",
   "id": "a504128c",
   "metadata": {
    "papermill": {
     "duration": 0.049673,
     "end_time": "2022-03-28T21:02:46.919498",
     "exception": false,
     "start_time": "2022-03-28T21:02:46.869825",
     "status": "completed"
    },
    "tags": []
   },
   "source": [
    "# **Model Pipelines**"
   ]
  },
  {
   "cell_type": "markdown",
   "id": "859faa48",
   "metadata": {
    "papermill": {
     "duration": 0.050385,
     "end_time": "2022-03-28T21:02:47.020265",
     "exception": false,
     "start_time": "2022-03-28T21:02:46.969880",
     "status": "completed"
    },
    "tags": []
   },
   "source": [
    "Note: I determined the model parameters using gridsearchCV but didnt include it in this notebook. "
   ]
  },
  {
   "cell_type": "code",
   "execution_count": 23,
   "id": "0bea4ae7",
   "metadata": {
    "execution": {
     "iopub.execute_input": "2022-03-28T21:02:47.123568Z",
     "iopub.status.busy": "2022-03-28T21:02:47.122885Z",
     "iopub.status.idle": "2022-03-28T21:02:48.454843Z",
     "shell.execute_reply": "2022-03-28T21:02:48.455598Z",
     "shell.execute_reply.started": "2022-03-26T09:10:31.333597Z"
    },
    "papermill": {
     "duration": 1.384101,
     "end_time": "2022-03-28T21:02:48.455852",
     "exception": false,
     "start_time": "2022-03-28T21:02:47.071751",
     "status": "completed"
    },
    "tags": []
   },
   "outputs": [
    {
     "name": "stdout",
     "output_type": "stream",
     "text": [
      "Random Forest Scores: [0.81460674 0.80898876 0.8258427  0.79775281 0.83050847]\n",
      "Random Forest: 0.8155398971624453\n"
     ]
    }
   ],
   "source": [
    "#Random Forest\n",
    "from sklearn.ensemble import RandomForestClassifier\n",
    "from sklearn.ensemble import RandomForestClassifier\n",
    "rfc = RandomForestClassifier(max_depth= 6, min_samples_leaf= 1, min_samples_split= 2, random_state=0)\n",
    "rfc_pipeline = Pipeline(steps=[('preprocessor', preprocessor),\n",
    "                                ('model', rfc)\n",
    "                              ])\n",
    "from sklearn.model_selection import cross_val_score\n",
    "scores = cross_val_score(rfc_pipeline, X, y, cv=5)\n",
    "print('Random Forest Scores:',scores)\n",
    "print('Random Forest:',scores.mean())\n"
   ]
  },
  {
   "cell_type": "code",
   "execution_count": 24,
   "id": "88f79435",
   "metadata": {
    "execution": {
     "iopub.execute_input": "2022-03-28T21:02:48.560874Z",
     "iopub.status.busy": "2022-03-28T21:02:48.560127Z",
     "iopub.status.idle": "2022-03-28T21:02:48.683466Z",
     "shell.execute_reply": "2022-03-28T21:02:48.683972Z",
     "shell.execute_reply.started": "2022-03-26T09:10:32.262751Z"
    },
    "papermill": {
     "duration": 0.177261,
     "end_time": "2022-03-28T21:02:48.684169",
     "exception": false,
     "start_time": "2022-03-28T21:02:48.506908",
     "status": "completed"
    },
    "tags": []
   },
   "outputs": [
    {
     "name": "stdout",
     "output_type": "stream",
     "text": [
      "Logistic Regression Scores: [0.78651685 0.78651685 0.79213483 0.76966292 0.83050847]\n",
      "Logistic Regression: 0.7930679870500857\n"
     ]
    }
   ],
   "source": [
    "#Logistic Regression\n",
    "from sklearn.linear_model import LogisticRegression\n",
    "log_reg_classifier=LogisticRegression(C= 0.1, penalty= 'l2', solver='liblinear',random_state=0)\n",
    "log_reg_pipeline = Pipeline(steps=[('preprocessor', preprocessor),\n",
    "                                   ('model', log_reg_classifier)\n",
    "                                  ])\n",
    "from sklearn.model_selection import cross_val_score\n",
    "scores = cross_val_score(log_reg_pipeline, X, y, cv=5)\n",
    "print('Logistic Regression Scores:',scores)\n",
    "print('Logistic Regression:',scores.mean())"
   ]
  },
  {
   "cell_type": "code",
   "execution_count": 25,
   "id": "ffc64da6",
   "metadata": {
    "execution": {
     "iopub.execute_input": "2022-03-28T21:02:48.791338Z",
     "iopub.status.busy": "2022-03-28T21:02:48.790669Z",
     "iopub.status.idle": "2022-03-28T21:02:52.151753Z",
     "shell.execute_reply": "2022-03-28T21:02:52.153204Z",
     "shell.execute_reply.started": "2022-03-26T09:10:32.393003Z"
    },
    "papermill": {
     "duration": 3.416229,
     "end_time": "2022-03-28T21:02:52.153495",
     "exception": false,
     "start_time": "2022-03-28T21:02:48.737266",
     "status": "completed"
    },
    "tags": []
   },
   "outputs": [
    {
     "name": "stdout",
     "output_type": "stream",
     "text": [
      "XGB Classifier Scores: [0.79775281 0.81460674 0.87078652 0.82022472 0.86440678]\n",
      "XGB Classifier: 0.8335555132355742\n"
     ]
    }
   ],
   "source": [
    "#XGBoost\n",
    "from xgboost import XGBClassifier\n",
    "from xgboost import XGBClassifier\n",
    "xgb = XGBClassifier(learning_rate= 0.1, max_depth= 5, min_child_weight= 1,\n",
    "                    n_estimators= 100, subsample= 1.0, use_label_encoder=False,\n",
    "                    verbosity=0, random_state=0)\n",
    "xgb_pipeline= Pipeline(steps=[('preprocessor', preprocessor),\n",
    "                              ('model', xgb)\n",
    "                             ])\n",
    "scores = cross_val_score(xgb_pipeline, X, y, cv=5)\n",
    "print('XGB Classifier Scores:',scores)\n",
    "print('XGB Classifier:',scores.mean())"
   ]
  },
  {
   "cell_type": "code",
   "execution_count": 26,
   "id": "0b1d2435",
   "metadata": {
    "execution": {
     "iopub.execute_input": "2022-03-28T21:02:52.267299Z",
     "iopub.status.busy": "2022-03-28T21:02:52.266610Z",
     "iopub.status.idle": "2022-03-28T21:02:52.887309Z",
     "shell.execute_reply": "2022-03-28T21:02:52.886739Z",
     "shell.execute_reply.started": "2022-03-26T09:10:34.279283Z"
    },
    "papermill": {
     "duration": 0.676037,
     "end_time": "2022-03-28T21:02:52.887484",
     "exception": false,
     "start_time": "2022-03-28T21:02:52.211447",
     "status": "completed"
    },
    "tags": []
   },
   "outputs": [
    {
     "name": "stdout",
     "output_type": "stream",
     "text": [
      "SVC Scores: [0.8258427  0.79775281 0.82022472 0.80337079 0.8700565 ]\n",
      "SVC: 0.8234495016822192\n"
     ]
    }
   ],
   "source": [
    "#SVC\n",
    "from sklearn.svm import SVC\n",
    "svc = SVC(C= 3, kernel= 'rbf', random_state=0, probability=True)\n",
    "svc_pipeline = Pipeline(steps=[('preprocessor', preprocessor),\n",
    "                               ('model', svc)\n",
    "                              ])\n",
    "from sklearn.model_selection import cross_val_score\n",
    "scores = cross_val_score(svc_pipeline, X, y, cv=5)\n",
    "print('SVC Scores:',scores)\n",
    "print('SVC:',scores.mean())"
   ]
  },
  {
   "cell_type": "code",
   "execution_count": 27,
   "id": "39073f0d",
   "metadata": {
    "execution": {
     "iopub.execute_input": "2022-03-28T21:02:53.000042Z",
     "iopub.status.busy": "2022-03-28T21:02:52.999223Z",
     "iopub.status.idle": "2022-03-28T21:02:54.487694Z",
     "shell.execute_reply": "2022-03-28T21:02:54.488820Z",
     "shell.execute_reply.started": "2022-03-26T09:10:35.341851Z"
    },
    "papermill": {
     "duration": 1.550364,
     "end_time": "2022-03-28T21:02:54.489107",
     "exception": false,
     "start_time": "2022-03-28T21:02:52.938743",
     "status": "completed"
    },
    "tags": []
   },
   "outputs": [
    {
     "name": "stdout",
     "output_type": "stream",
     "text": [
      "MLP Scores: [0.76404494 0.80337079 0.83146067 0.80337079 0.85310734]\n",
      "MLP: 0.8110709071288008\n"
     ]
    }
   ],
   "source": [
    "#MLP\n",
    "from sklearn.neural_network import MLPClassifier\n",
    "mlp=MLPClassifier(max_iter=2000, random_state=0, early_stopping=True)\n",
    "mlp_pipeline = Pipeline(steps=[('preprocessor', preprocessor),\n",
    "                               ('model', mlp)\n",
    "                              ])\n",
    "from sklearn.model_selection import cross_val_score\n",
    "scores = cross_val_score(mlp_pipeline, X, y, cv=5)\n",
    "print('MLP Scores:',scores)\n",
    "print('MLP:',scores.mean())"
   ]
  },
  {
   "cell_type": "markdown",
   "id": "c3252e36",
   "metadata": {
    "papermill": {
     "duration": 0.058022,
     "end_time": "2022-03-28T21:02:54.643175",
     "exception": false,
     "start_time": "2022-03-28T21:02:54.585153",
     "status": "completed"
    },
    "tags": []
   },
   "source": [
    "# **Super Learning - Best Model**"
   ]
  },
  {
   "cell_type": "code",
   "execution_count": 28,
   "id": "9526b750",
   "metadata": {
    "execution": {
     "iopub.execute_input": "2022-03-28T21:02:54.754197Z",
     "iopub.status.busy": "2022-03-28T21:02:54.753499Z",
     "iopub.status.idle": "2022-03-28T21:02:54.859628Z",
     "shell.execute_reply": "2022-03-28T21:02:54.859080Z",
     "shell.execute_reply.started": "2022-03-26T09:10:47.490543Z"
    },
    "papermill": {
     "duration": 0.165679,
     "end_time": "2022-03-28T21:02:54.859795",
     "exception": false,
     "start_time": "2022-03-28T21:02:54.694116",
     "status": "completed"
    },
    "tags": []
   },
   "outputs": [
    {
     "name": "stderr",
     "output_type": "stream",
     "text": [
      "[MLENS] backend: threading\n"
     ]
    }
   ],
   "source": [
    "from sklearn.neighbors import KNeighborsClassifier\n",
    "from sklearn.linear_model import LogisticRegression\n",
    "from sklearn.tree import DecisionTreeClassifier\n",
    "from sklearn.svm import SVC\n",
    "from sklearn.naive_bayes import GaussianNB\n",
    "from sklearn.ensemble import AdaBoostClassifier\n",
    "from sklearn.ensemble import BaggingClassifier\n",
    "from sklearn.ensemble import RandomForestClassifier\n",
    "from sklearn.ensemble import ExtraTreesClassifier\n",
    "from mlens.ensemble import SuperLearner\n",
    "from sklearn.metrics import accuracy_score\n",
    " \n",
    "# create a list of base-models\n",
    "def get_models():\n",
    "    models = list()    \n",
    "    models.append(log_reg_classifier)\n",
    "    models.append(svc)\n",
    "    models.append(rfc)\n",
    "    return models\n",
    " \n",
    "# create the super learner\n",
    "def get_super_learner(X):\n",
    "    ensemble = SuperLearner(scorer=accuracy_score, folds=10, sample_size=len(X))\n",
    "    # add base models\n",
    "    models = get_models()\n",
    "    ensemble.add(models)\n",
    "    # add the meta model\n",
    "    ensemble.add_meta(LogisticRegression())\n",
    "    return ensemble"
   ]
  },
  {
   "cell_type": "code",
   "execution_count": 29,
   "id": "036ae930",
   "metadata": {
    "execution": {
     "iopub.execute_input": "2022-03-28T21:02:54.967719Z",
     "iopub.status.busy": "2022-03-28T21:02:54.966995Z",
     "iopub.status.idle": "2022-03-28T21:02:54.971896Z",
     "shell.execute_reply": "2022-03-28T21:02:54.972469Z",
     "shell.execute_reply.started": "2022-03-26T09:10:47.604694Z"
    },
    "papermill": {
     "duration": 0.061201,
     "end_time": "2022-03-28T21:02:54.972651",
     "exception": false,
     "start_time": "2022-03-28T21:02:54.911450",
     "status": "completed"
    },
    "tags": []
   },
   "outputs": [
    {
     "data": {
      "text/plain": [
       "(889, 9)"
      ]
     },
     "execution_count": 29,
     "metadata": {},
     "output_type": "execute_result"
    }
   ],
   "source": [
    "X.shape"
   ]
  },
  {
   "cell_type": "code",
   "execution_count": 30,
   "id": "e435268b",
   "metadata": {
    "execution": {
     "iopub.execute_input": "2022-03-28T21:02:55.085657Z",
     "iopub.status.busy": "2022-03-28T21:02:55.084899Z",
     "iopub.status.idle": "2022-03-28T21:02:55.109202Z",
     "shell.execute_reply": "2022-03-28T21:02:55.108655Z",
     "shell.execute_reply.started": "2022-03-26T09:10:47.611987Z"
    },
    "papermill": {
     "duration": 0.084996,
     "end_time": "2022-03-28T21:02:55.109430",
     "exception": false,
     "start_time": "2022-03-28T21:02:55.024434",
     "status": "completed"
    },
    "tags": []
   },
   "outputs": [],
   "source": [
    "from sklearn.model_selection import train_test_split\n",
    "X_train, X_test, y_train, y_test= train_test_split(X, y, test_size=0.2, stratify=y, random_state=123)\n",
    "X_train=preprocessor.fit_transform(X_train)\n",
    "X_test=preprocessor.transform(X_test)"
   ]
  },
  {
   "cell_type": "code",
   "execution_count": 31,
   "id": "37de6a96",
   "metadata": {
    "execution": {
     "iopub.execute_input": "2022-03-28T21:02:55.349027Z",
     "iopub.status.busy": "2022-03-28T21:02:55.348104Z",
     "iopub.status.idle": "2022-03-28T21:02:59.393500Z",
     "shell.execute_reply": "2022-03-28T21:02:59.394031Z",
     "shell.execute_reply.started": "2022-03-26T09:10:47.652518Z"
    },
    "papermill": {
     "duration": 4.232777,
     "end_time": "2022-03-28T21:02:59.394212",
     "exception": false,
     "start_time": "2022-03-28T21:02:55.161435",
     "status": "completed"
    },
    "tags": []
   },
   "outputs": [
    {
     "name": "stdout",
     "output_type": "stream",
     "text": [
      "                                   score-m  score-s  ft-m  ft-s  pt-m  pt-s\n",
      "layer-1  logisticregression           0.80     0.05  0.02  0.01  0.00  0.00\n",
      "layer-1  randomforestclassifier       0.82     0.04  1.00  0.14  0.04  0.01\n",
      "layer-1  svc                          0.82     0.04  0.10  0.02  0.00  0.00\n",
      "\n",
      "Super Learner: 84.831\n"
     ]
    }
   ],
   "source": [
    "#Create the super learner\n",
    "ensemble = get_super_learner(X)\n",
    "#Fit the super learner\n",
    "ensemble.fit(X_train, y_train)\n",
    "#Summarize base learners\n",
    "print(ensemble.data)\n",
    "#Make predictions on hold out set\n",
    "yhat = ensemble.predict(X_test)\n",
    "print('Super Learner: %.3f' % (accuracy_score(y_test, yhat) * 100))"
   ]
  },
  {
   "cell_type": "markdown",
   "id": "b099f07f",
   "metadata": {
    "papermill": {
     "duration": 0.053008,
     "end_time": "2022-03-28T21:02:59.500662",
     "exception": false,
     "start_time": "2022-03-28T21:02:59.447654",
     "status": "completed"
    },
    "tags": []
   },
   "source": [
    "Note: We cant compare the base learner scores in the table to the super learner because the base learners were evaluated on the training dataset only, not the holdout dataset."
   ]
  },
  {
   "cell_type": "code",
   "execution_count": 32,
   "id": "0b155776",
   "metadata": {
    "execution": {
     "iopub.execute_input": "2022-03-28T21:02:59.609574Z",
     "iopub.status.busy": "2022-03-28T21:02:59.608881Z",
     "iopub.status.idle": "2022-03-28T21:03:04.183910Z",
     "shell.execute_reply": "2022-03-28T21:03:04.183352Z",
     "shell.execute_reply.started": "2022-03-26T09:10:51.94896Z"
    },
    "papermill": {
     "duration": 4.630297,
     "end_time": "2022-03-28T21:03:04.184069",
     "exception": false,
     "start_time": "2022-03-28T21:02:59.553772",
     "status": "completed"
    },
    "tags": []
   },
   "outputs": [],
   "source": [
    "#Training the final model\n",
    "X=preprocessor.fit_transform(X)\n",
    "ensemble.fit(X,y)\n",
    "\n",
    "\n",
    "\n",
    "#Test data\n",
    "test_data=pd.read_csv('/kaggle/input/titanic/test.csv', index_col='PassengerId')\n",
    "test_data_clean=test_data.drop(['Name','Ticket'], axis=1)\n",
    "test_data_clean['Cabin Letter'] = test_data_clean['Cabin'].str.extract('(\\w)')\n",
    "test_data_clean['Cabin Letter'].fillna('Unknown', inplace=True)\n",
    "test_data_clean.drop(['Cabin'], axis=1, inplace=True)\n",
    "test_data_clean['relatives']=test_data_clean['SibSp']+test_data_clean['Parch']\n",
    "\n",
    "test_data_clean=preprocessor.transform(test_data_clean)\n",
    "\n",
    "predicted=ensemble.predict(test_data_clean).astype(int)\n",
    "ids=test_data.index\n",
    "pred_df= pd.DataFrame({'PassengerId': ids,\n",
    "                       'Survived': predicted})\n",
    "pred_df.to_csv('submission.csv', index=False)"
   ]
  },
  {
   "cell_type": "code",
   "execution_count": 33,
   "id": "278f1474",
   "metadata": {
    "execution": {
     "iopub.execute_input": "2022-03-28T21:03:04.297098Z",
     "iopub.status.busy": "2022-03-28T21:03:04.296055Z",
     "iopub.status.idle": "2022-03-28T21:03:04.305614Z",
     "shell.execute_reply": "2022-03-28T21:03:04.305071Z",
     "shell.execute_reply.started": "2022-03-26T09:10:56.53559Z"
    },
    "papermill": {
     "duration": 0.067379,
     "end_time": "2022-03-28T21:03:04.305762",
     "exception": false,
     "start_time": "2022-03-28T21:03:04.238383",
     "status": "completed"
    },
    "tags": []
   },
   "outputs": [
    {
     "data": {
      "text/plain": [
       "0    278\n",
       "1    140\n",
       "dtype: int64"
      ]
     },
     "execution_count": 33,
     "metadata": {},
     "output_type": "execute_result"
    }
   ],
   "source": [
    "pd.DataFrame(predicted).value_counts()"
   ]
  }
 ],
 "metadata": {
  "kernelspec": {
   "display_name": "Python 3",
   "language": "python",
   "name": "python3"
  },
  "language_info": {
   "codemirror_mode": {
    "name": "ipython",
    "version": 3
   },
   "file_extension": ".py",
   "mimetype": "text/x-python",
   "name": "python",
   "nbconvert_exporter": "python",
   "pygments_lexer": "ipython3",
   "version": "3.7.12"
  },
  "papermill": {
   "default_parameters": {},
   "duration": 34.785469,
   "end_time": "2022-03-28T21:03:05.172972",
   "environment_variables": {},
   "exception": null,
   "input_path": "__notebook__.ipynb",
   "output_path": "__notebook__.ipynb",
   "parameters": {},
   "start_time": "2022-03-28T21:02:30.387503",
   "version": "2.3.3"
  }
 },
 "nbformat": 4,
 "nbformat_minor": 5
}
