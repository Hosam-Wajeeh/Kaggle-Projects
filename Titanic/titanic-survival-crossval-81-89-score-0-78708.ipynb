{
 "cells": [
  {
   "cell_type": "markdown",
   "id": "c8b118e5",
   "metadata": {
    "papermill": {
     "duration": 0.037906,
     "end_time": "2022-03-17T10:24:33.806723",
     "exception": false,
     "start_time": "2022-03-17T10:24:33.768817",
     "status": "completed"
    },
    "tags": []
   },
   "source": [
    "# **Titanic Survival Preiction**"
   ]
  },
  {
   "cell_type": "markdown",
   "id": "03939118",
   "metadata": {
    "papermill": {
     "duration": 0.036539,
     "end_time": "2022-03-17T10:24:33.880505",
     "exception": false,
     "start_time": "2022-03-17T10:24:33.843966",
     "status": "completed"
    },
    "tags": []
   },
   "source": [
    "**In the following scipt i use the following models with VOTING CLASSIFIER:**\n",
    "* SVC\n",
    "* Random Forest Classifier\n",
    "* Logistic Regression\n",
    "* XGBOOST\n",
    "* MLP Classifier\n",
    "\n",
    "**At last i ensembled them using the voting classifier with higher weights for the higher acc models**"
   ]
  },
  {
   "cell_type": "code",
   "execution_count": 1,
   "id": "45514740",
   "metadata": {
    "_cell_guid": "b1076dfc-b9ad-4769-8c92-a6c4dae69d19",
    "_uuid": "8f2839f25d086af736a60e9eeb907d3b93b6e0e5",
    "execution": {
     "iopub.execute_input": "2022-03-17T10:24:33.958073Z",
     "iopub.status.busy": "2022-03-17T10:24:33.956762Z",
     "iopub.status.idle": "2022-03-17T10:24:33.969031Z",
     "shell.execute_reply": "2022-03-17T10:24:33.969583Z",
     "shell.execute_reply.started": "2022-03-17T10:18:04.973319Z"
    },
    "papermill": {
     "duration": 0.053488,
     "end_time": "2022-03-17T10:24:33.969885",
     "exception": false,
     "start_time": "2022-03-17T10:24:33.916397",
     "status": "completed"
    },
    "tags": []
   },
   "outputs": [
    {
     "name": "stdout",
     "output_type": "stream",
     "text": [
      "/kaggle/input/titanic/train.csv\n",
      "/kaggle/input/titanic/test.csv\n",
      "/kaggle/input/titanic/gender_submission.csv\n"
     ]
    }
   ],
   "source": [
    "# This Python 3 environment comes with many helpful analytics libraries installed\n",
    "# It is defined by the kaggle/python Docker image: https://github.com/kaggle/docker-python\n",
    "# For example, here's several helpful packages to load\n",
    "\n",
    "import numpy as np # linear algebra\n",
    "import pandas as pd # data processing, CSV file I/O (e.g. pd.read_csv)\n",
    "\n",
    "# Input data files are available in the read-only \"../input/\" directory\n",
    "# For example, running this (by clicking run or pressing Shift+Enter) will list all files under the input directory\n",
    "\n",
    "import os\n",
    "for dirname, _, filenames in os.walk('/kaggle/input'):\n",
    "    for filename in filenames:\n",
    "        print(os.path.join(dirname, filename))\n",
    "\n",
    "\n",
    "# You can write up to 20GB to the current directory (/kaggle/working/) that gets preserved as output when you create a version using \"Save & Run All\" \n",
    "# You can also write temporary files to /kaggle/temp/, but they won't be saved outside of the current session"
   ]
  },
  {
   "cell_type": "code",
   "execution_count": 2,
   "id": "bf586361",
   "metadata": {
    "execution": {
     "iopub.execute_input": "2022-03-17T10:24:34.050288Z",
     "iopub.status.busy": "2022-03-17T10:24:34.049101Z",
     "iopub.status.idle": "2022-03-17T10:24:35.099013Z",
     "shell.execute_reply": "2022-03-17T10:24:35.099606Z",
     "shell.execute_reply.started": "2022-03-17T10:18:04.984290Z"
    },
    "papermill": {
     "duration": 1.090731,
     "end_time": "2022-03-17T10:24:35.099800",
     "exception": false,
     "start_time": "2022-03-17T10:24:34.009069",
     "status": "completed"
    },
    "tags": []
   },
   "outputs": [],
   "source": [
    "import pandas as pd\n",
    "import numpy as np\n",
    "import matplotlib.pyplot as plt\n",
    "import seaborn as sns\n",
    "palette=sns.color_palette('magma')\n",
    "sns.set(palette=palette)"
   ]
  },
  {
   "cell_type": "code",
   "execution_count": 3,
   "id": "d075d2f3",
   "metadata": {
    "execution": {
     "iopub.execute_input": "2022-03-17T10:24:35.179924Z",
     "iopub.status.busy": "2022-03-17T10:24:35.179088Z",
     "iopub.status.idle": "2022-03-17T10:24:35.230481Z",
     "shell.execute_reply": "2022-03-17T10:24:35.231018Z",
     "shell.execute_reply.started": "2022-03-17T10:18:05.008290Z"
    },
    "papermill": {
     "duration": 0.094795,
     "end_time": "2022-03-17T10:24:35.231232",
     "exception": false,
     "start_time": "2022-03-17T10:24:35.136437",
     "status": "completed"
    },
    "tags": []
   },
   "outputs": [
    {
     "data": {
      "text/html": [
       "<div>\n",
       "<style scoped>\n",
       "    .dataframe tbody tr th:only-of-type {\n",
       "        vertical-align: middle;\n",
       "    }\n",
       "\n",
       "    .dataframe tbody tr th {\n",
       "        vertical-align: top;\n",
       "    }\n",
       "\n",
       "    .dataframe thead th {\n",
       "        text-align: right;\n",
       "    }\n",
       "</style>\n",
       "<table border=\"1\" class=\"dataframe\">\n",
       "  <thead>\n",
       "    <tr style=\"text-align: right;\">\n",
       "      <th></th>\n",
       "      <th>Survived</th>\n",
       "      <th>Pclass</th>\n",
       "      <th>Name</th>\n",
       "      <th>Sex</th>\n",
       "      <th>Age</th>\n",
       "      <th>SibSp</th>\n",
       "      <th>Parch</th>\n",
       "      <th>Ticket</th>\n",
       "      <th>Fare</th>\n",
       "      <th>Cabin</th>\n",
       "      <th>Embarked</th>\n",
       "    </tr>\n",
       "    <tr>\n",
       "      <th>PassengerId</th>\n",
       "      <th></th>\n",
       "      <th></th>\n",
       "      <th></th>\n",
       "      <th></th>\n",
       "      <th></th>\n",
       "      <th></th>\n",
       "      <th></th>\n",
       "      <th></th>\n",
       "      <th></th>\n",
       "      <th></th>\n",
       "      <th></th>\n",
       "    </tr>\n",
       "  </thead>\n",
       "  <tbody>\n",
       "    <tr>\n",
       "      <th>1</th>\n",
       "      <td>0</td>\n",
       "      <td>3</td>\n",
       "      <td>Braund, Mr. Owen Harris</td>\n",
       "      <td>male</td>\n",
       "      <td>22.0</td>\n",
       "      <td>1</td>\n",
       "      <td>0</td>\n",
       "      <td>A/5 21171</td>\n",
       "      <td>7.2500</td>\n",
       "      <td>NaN</td>\n",
       "      <td>S</td>\n",
       "    </tr>\n",
       "    <tr>\n",
       "      <th>2</th>\n",
       "      <td>1</td>\n",
       "      <td>1</td>\n",
       "      <td>Cumings, Mrs. John Bradley (Florence Briggs Th...</td>\n",
       "      <td>female</td>\n",
       "      <td>38.0</td>\n",
       "      <td>1</td>\n",
       "      <td>0</td>\n",
       "      <td>PC 17599</td>\n",
       "      <td>71.2833</td>\n",
       "      <td>C85</td>\n",
       "      <td>C</td>\n",
       "    </tr>\n",
       "    <tr>\n",
       "      <th>3</th>\n",
       "      <td>1</td>\n",
       "      <td>3</td>\n",
       "      <td>Heikkinen, Miss. Laina</td>\n",
       "      <td>female</td>\n",
       "      <td>26.0</td>\n",
       "      <td>0</td>\n",
       "      <td>0</td>\n",
       "      <td>STON/O2. 3101282</td>\n",
       "      <td>7.9250</td>\n",
       "      <td>NaN</td>\n",
       "      <td>S</td>\n",
       "    </tr>\n",
       "    <tr>\n",
       "      <th>4</th>\n",
       "      <td>1</td>\n",
       "      <td>1</td>\n",
       "      <td>Futrelle, Mrs. Jacques Heath (Lily May Peel)</td>\n",
       "      <td>female</td>\n",
       "      <td>35.0</td>\n",
       "      <td>1</td>\n",
       "      <td>0</td>\n",
       "      <td>113803</td>\n",
       "      <td>53.1000</td>\n",
       "      <td>C123</td>\n",
       "      <td>S</td>\n",
       "    </tr>\n",
       "    <tr>\n",
       "      <th>5</th>\n",
       "      <td>0</td>\n",
       "      <td>3</td>\n",
       "      <td>Allen, Mr. William Henry</td>\n",
       "      <td>male</td>\n",
       "      <td>35.0</td>\n",
       "      <td>0</td>\n",
       "      <td>0</td>\n",
       "      <td>373450</td>\n",
       "      <td>8.0500</td>\n",
       "      <td>NaN</td>\n",
       "      <td>S</td>\n",
       "    </tr>\n",
       "  </tbody>\n",
       "</table>\n",
       "</div>"
      ],
      "text/plain": [
       "             Survived  Pclass  \\\n",
       "PassengerId                     \n",
       "1                   0       3   \n",
       "2                   1       1   \n",
       "3                   1       3   \n",
       "4                   1       1   \n",
       "5                   0       3   \n",
       "\n",
       "                                                          Name     Sex   Age  \\\n",
       "PassengerId                                                                    \n",
       "1                                      Braund, Mr. Owen Harris    male  22.0   \n",
       "2            Cumings, Mrs. John Bradley (Florence Briggs Th...  female  38.0   \n",
       "3                                       Heikkinen, Miss. Laina  female  26.0   \n",
       "4                 Futrelle, Mrs. Jacques Heath (Lily May Peel)  female  35.0   \n",
       "5                                     Allen, Mr. William Henry    male  35.0   \n",
       "\n",
       "             SibSp  Parch            Ticket     Fare Cabin Embarked  \n",
       "PassengerId                                                          \n",
       "1                1      0         A/5 21171   7.2500   NaN        S  \n",
       "2                1      0          PC 17599  71.2833   C85        C  \n",
       "3                0      0  STON/O2. 3101282   7.9250   NaN        S  \n",
       "4                1      0            113803  53.1000  C123        S  \n",
       "5                0      0            373450   8.0500   NaN        S  "
      ]
     },
     "execution_count": 3,
     "metadata": {},
     "output_type": "execute_result"
    }
   ],
   "source": [
    "train_data=pd.read_csv('/kaggle/input/titanic/train.csv', index_col='PassengerId')\n",
    "test_data=pd.read_csv('/kaggle/input/titanic/test.csv', index_col='PassengerId')\n",
    "\n",
    "train_data.head()"
   ]
  },
  {
   "cell_type": "markdown",
   "id": "ba5ec6fd",
   "metadata": {
    "papermill": {
     "duration": 0.036886,
     "end_time": "2022-03-17T10:24:35.305501",
     "exception": false,
     "start_time": "2022-03-17T10:24:35.268615",
     "status": "completed"
    },
    "tags": []
   },
   "source": [
    "# **EDA**"
   ]
  },
  {
   "cell_type": "code",
   "execution_count": 4,
   "id": "e85709bf",
   "metadata": {
    "execution": {
     "iopub.execute_input": "2022-03-17T10:24:35.383385Z",
     "iopub.status.busy": "2022-03-17T10:24:35.382669Z",
     "iopub.status.idle": "2022-03-17T10:24:35.389333Z",
     "shell.execute_reply": "2022-03-17T10:24:35.389913Z",
     "shell.execute_reply.started": "2022-03-17T10:18:05.044751Z"
    },
    "papermill": {
     "duration": 0.047582,
     "end_time": "2022-03-17T10:24:35.390135",
     "exception": false,
     "start_time": "2022-03-17T10:24:35.342553",
     "status": "completed"
    },
    "tags": []
   },
   "outputs": [],
   "source": [
    "#Dropping the Name and Ticket columns because i dont think i can make use of them for now\n",
    "train_data_clean=train_data.drop(['Name','Ticket'], axis=1)"
   ]
  },
  {
   "cell_type": "code",
   "execution_count": 5,
   "id": "a7ac545e",
   "metadata": {
    "execution": {
     "iopub.execute_input": "2022-03-17T10:24:35.475785Z",
     "iopub.status.busy": "2022-03-17T10:24:35.475076Z",
     "iopub.status.idle": "2022-03-17T10:24:35.493783Z",
     "shell.execute_reply": "2022-03-17T10:24:35.494504Z",
     "shell.execute_reply.started": "2022-03-17T10:18:05.053151Z"
    },
    "papermill": {
     "duration": 0.062916,
     "end_time": "2022-03-17T10:24:35.494746",
     "exception": false,
     "start_time": "2022-03-17T10:24:35.431830",
     "status": "completed"
    },
    "tags": []
   },
   "outputs": [
    {
     "name": "stdout",
     "output_type": "stream",
     "text": [
      "<class 'pandas.core.frame.DataFrame'>\n",
      "Int64Index: 891 entries, 1 to 891\n",
      "Data columns (total 9 columns):\n",
      " #   Column    Non-Null Count  Dtype  \n",
      "---  ------    --------------  -----  \n",
      " 0   Survived  891 non-null    int64  \n",
      " 1   Pclass    891 non-null    int64  \n",
      " 2   Sex       891 non-null    object \n",
      " 3   Age       714 non-null    float64\n",
      " 4   SibSp     891 non-null    int64  \n",
      " 5   Parch     891 non-null    int64  \n",
      " 6   Fare      891 non-null    float64\n",
      " 7   Cabin     204 non-null    object \n",
      " 8   Embarked  889 non-null    object \n",
      "dtypes: float64(2), int64(4), object(3)\n",
      "memory usage: 69.6+ KB\n"
     ]
    }
   ],
   "source": [
    "train_data_clean.info()"
   ]
  },
  {
   "cell_type": "code",
   "execution_count": 6,
   "id": "fe7ffa10",
   "metadata": {
    "execution": {
     "iopub.execute_input": "2022-03-17T10:24:35.587367Z",
     "iopub.status.busy": "2022-03-17T10:24:35.586250Z",
     "iopub.status.idle": "2022-03-17T10:24:35.600688Z",
     "shell.execute_reply": "2022-03-17T10:24:35.599888Z",
     "shell.execute_reply.started": "2022-03-17T10:18:05.076350Z"
    },
    "papermill": {
     "duration": 0.064949,
     "end_time": "2022-03-17T10:24:35.600879",
     "exception": false,
     "start_time": "2022-03-17T10:24:35.535930",
     "status": "completed"
    },
    "tags": []
   },
   "outputs": [
    {
     "data": {
      "text/html": [
       "<div>\n",
       "<style scoped>\n",
       "    .dataframe tbody tr th:only-of-type {\n",
       "        vertical-align: middle;\n",
       "    }\n",
       "\n",
       "    .dataframe tbody tr th {\n",
       "        vertical-align: top;\n",
       "    }\n",
       "\n",
       "    .dataframe thead th {\n",
       "        text-align: right;\n",
       "    }\n",
       "</style>\n",
       "<table border=\"1\" class=\"dataframe\">\n",
       "  <thead>\n",
       "    <tr style=\"text-align: right;\">\n",
       "      <th></th>\n",
       "      <th>Survived</th>\n",
       "      <th>Pclass</th>\n",
       "      <th>Sex</th>\n",
       "      <th>Age</th>\n",
       "      <th>SibSp</th>\n",
       "      <th>Parch</th>\n",
       "      <th>Fare</th>\n",
       "      <th>Cabin</th>\n",
       "      <th>Embarked</th>\n",
       "      <th>Cabin Letter</th>\n",
       "    </tr>\n",
       "    <tr>\n",
       "      <th>PassengerId</th>\n",
       "      <th></th>\n",
       "      <th></th>\n",
       "      <th></th>\n",
       "      <th></th>\n",
       "      <th></th>\n",
       "      <th></th>\n",
       "      <th></th>\n",
       "      <th></th>\n",
       "      <th></th>\n",
       "      <th></th>\n",
       "    </tr>\n",
       "  </thead>\n",
       "  <tbody>\n",
       "    <tr>\n",
       "      <th>1</th>\n",
       "      <td>0</td>\n",
       "      <td>3</td>\n",
       "      <td>male</td>\n",
       "      <td>22.0</td>\n",
       "      <td>1</td>\n",
       "      <td>0</td>\n",
       "      <td>7.2500</td>\n",
       "      <td>NaN</td>\n",
       "      <td>S</td>\n",
       "      <td>NaN</td>\n",
       "    </tr>\n",
       "    <tr>\n",
       "      <th>2</th>\n",
       "      <td>1</td>\n",
       "      <td>1</td>\n",
       "      <td>female</td>\n",
       "      <td>38.0</td>\n",
       "      <td>1</td>\n",
       "      <td>0</td>\n",
       "      <td>71.2833</td>\n",
       "      <td>C85</td>\n",
       "      <td>C</td>\n",
       "      <td>C</td>\n",
       "    </tr>\n",
       "    <tr>\n",
       "      <th>3</th>\n",
       "      <td>1</td>\n",
       "      <td>3</td>\n",
       "      <td>female</td>\n",
       "      <td>26.0</td>\n",
       "      <td>0</td>\n",
       "      <td>0</td>\n",
       "      <td>7.9250</td>\n",
       "      <td>NaN</td>\n",
       "      <td>S</td>\n",
       "      <td>NaN</td>\n",
       "    </tr>\n",
       "    <tr>\n",
       "      <th>4</th>\n",
       "      <td>1</td>\n",
       "      <td>1</td>\n",
       "      <td>female</td>\n",
       "      <td>35.0</td>\n",
       "      <td>1</td>\n",
       "      <td>0</td>\n",
       "      <td>53.1000</td>\n",
       "      <td>C123</td>\n",
       "      <td>S</td>\n",
       "      <td>C</td>\n",
       "    </tr>\n",
       "    <tr>\n",
       "      <th>5</th>\n",
       "      <td>0</td>\n",
       "      <td>3</td>\n",
       "      <td>male</td>\n",
       "      <td>35.0</td>\n",
       "      <td>0</td>\n",
       "      <td>0</td>\n",
       "      <td>8.0500</td>\n",
       "      <td>NaN</td>\n",
       "      <td>S</td>\n",
       "      <td>NaN</td>\n",
       "    </tr>\n",
       "  </tbody>\n",
       "</table>\n",
       "</div>"
      ],
      "text/plain": [
       "             Survived  Pclass     Sex   Age  SibSp  Parch     Fare Cabin  \\\n",
       "PassengerId                                                                \n",
       "1                   0       3    male  22.0      1      0   7.2500   NaN   \n",
       "2                   1       1  female  38.0      1      0  71.2833   C85   \n",
       "3                   1       3  female  26.0      0      0   7.9250   NaN   \n",
       "4                   1       1  female  35.0      1      0  53.1000  C123   \n",
       "5                   0       3    male  35.0      0      0   8.0500   NaN   \n",
       "\n",
       "            Embarked Cabin Letter  \n",
       "PassengerId                        \n",
       "1                  S          NaN  \n",
       "2                  C            C  \n",
       "3                  S          NaN  \n",
       "4                  S            C  \n",
       "5                  S          NaN  "
      ]
     },
     "execution_count": 6,
     "metadata": {},
     "output_type": "execute_result"
    }
   ],
   "source": [
    "#I noticed that there are over 600 null values in the Cabin column which is over 70%\n",
    "#Extracting the cabin letter into a new column\n",
    "train_data_clean['Cabin Letter'] = train_data_clean['Cabin'].str.extract('(\\w)')\n",
    "train_data_clean.head()"
   ]
  },
  {
   "cell_type": "code",
   "execution_count": 7,
   "id": "1ea58404",
   "metadata": {
    "execution": {
     "iopub.execute_input": "2022-03-17T10:24:35.688332Z",
     "iopub.status.busy": "2022-03-17T10:24:35.687599Z",
     "iopub.status.idle": "2022-03-17T10:24:35.989116Z",
     "shell.execute_reply": "2022-03-17T10:24:35.989673Z",
     "shell.execute_reply.started": "2022-03-17T10:18:05.105375Z"
    },
    "papermill": {
     "duration": 0.345992,
     "end_time": "2022-03-17T10:24:35.989864",
     "exception": false,
     "start_time": "2022-03-17T10:24:35.643872",
     "status": "completed"
    },
    "tags": []
   },
   "outputs": [
    {
     "data": {
      "image/png": "[encoded data removed]",
      "text/plain": [
       "<Figure size 432x288 with 1 Axes>"
      ]
     },
     "metadata": {},
     "output_type": "display_data"
    }
   ],
   "source": [
    "#Filling the null cabin letters with 'unknown' as a value\n",
    "train_data_clean['Cabin Letter'].fillna('Unknown', inplace=True)\n",
    "train_data_clean['Cabin Letter'].value_counts().plot(kind='bar')\n",
    "\n",
    "train_data_clean['Cabin Letter'].value_counts().plot(kind='bar')\n",
    "plt.show()"
   ]
  },
  {
   "cell_type": "code",
   "execution_count": 8,
   "id": "72f72455",
   "metadata": {
    "execution": {
     "iopub.execute_input": "2022-03-17T10:24:36.077795Z",
     "iopub.status.busy": "2022-03-17T10:24:36.076899Z",
     "iopub.status.idle": "2022-03-17T10:24:36.079747Z",
     "shell.execute_reply": "2022-03-17T10:24:36.080339Z",
     "shell.execute_reply.started": "2022-03-17T10:18:05.376627Z"
    },
    "papermill": {
     "duration": 0.051111,
     "end_time": "2022-03-17T10:24:36.080519",
     "exception": false,
     "start_time": "2022-03-17T10:24:36.029408",
     "status": "completed"
    },
    "tags": []
   },
   "outputs": [],
   "source": [
    "#Dropping the Cabin column\n",
    "train_data_clean.drop(['Cabin'], axis=1, inplace=True)"
   ]
  },
  {
   "cell_type": "code",
   "execution_count": 9,
   "id": "c696b736",
   "metadata": {
    "execution": {
     "iopub.execute_input": "2022-03-17T10:24:36.165809Z",
     "iopub.status.busy": "2022-03-17T10:24:36.164718Z",
     "iopub.status.idle": "2022-03-17T10:24:36.179902Z",
     "shell.execute_reply": "2022-03-17T10:24:36.180539Z",
     "shell.execute_reply.started": "2022-03-17T10:18:05.385268Z"
    },
    "papermill": {
     "duration": 0.06041,
     "end_time": "2022-03-17T10:24:36.180728",
     "exception": false,
     "start_time": "2022-03-17T10:24:36.120318",
     "status": "completed"
    },
    "tags": []
   },
   "outputs": [
    {
     "name": "stdout",
     "output_type": "stream",
     "text": [
      "<class 'pandas.core.frame.DataFrame'>\n",
      "Int64Index: 889 entries, 1 to 891\n",
      "Data columns (total 9 columns):\n",
      " #   Column        Non-Null Count  Dtype  \n",
      "---  ------        --------------  -----  \n",
      " 0   Survived      889 non-null    int64  \n",
      " 1   Pclass        889 non-null    int64  \n",
      " 2   Sex           889 non-null    object \n",
      " 3   Age           712 non-null    float64\n",
      " 4   SibSp         889 non-null    int64  \n",
      " 5   Parch         889 non-null    int64  \n",
      " 6   Fare          889 non-null    float64\n",
      " 7   Embarked      889 non-null    object \n",
      " 8   Cabin Letter  889 non-null    object \n",
      "dtypes: float64(2), int64(4), object(3)\n",
      "memory usage: 69.5+ KB\n"
     ]
    }
   ],
   "source": [
    "#Embarked has only 2 missing values so im gonna drop them\n",
    "train_data_clean = train_data_clean[train_data_clean['Embarked'].notna()]\n",
    "train_data_clean.info()\n",
    "#Age has some missing values ill be back to that later"
   ]
  },
  {
   "cell_type": "code",
   "execution_count": 10,
   "id": "d2f88bae",
   "metadata": {
    "execution": {
     "iopub.execute_input": "2022-03-17T10:24:36.266070Z",
     "iopub.status.busy": "2022-03-17T10:24:36.265010Z",
     "iopub.status.idle": "2022-03-17T10:24:36.270150Z",
     "shell.execute_reply": "2022-03-17T10:24:36.270645Z",
     "shell.execute_reply.started": "2022-03-17T10:18:05.412057Z"
    },
    "papermill": {
     "duration": 0.049276,
     "end_time": "2022-03-17T10:24:36.270833",
     "exception": false,
     "start_time": "2022-03-17T10:24:36.221557",
     "status": "completed"
    },
    "tags": []
   },
   "outputs": [],
   "source": [
    "#Creating a new feature 'relatives' which consists of SibSp+Parch\n",
    "train_data_clean['relatives']=train_data_clean['SibSp']+train_data_clean['Parch']"
   ]
  },
  {
   "cell_type": "code",
   "execution_count": 11,
   "id": "3d31c1fd",
   "metadata": {
    "execution": {
     "iopub.execute_input": "2022-03-17T10:24:36.354983Z",
     "iopub.status.busy": "2022-03-17T10:24:36.353959Z",
     "iopub.status.idle": "2022-03-17T10:24:36.539265Z",
     "shell.execute_reply": "2022-03-17T10:24:36.538695Z",
     "shell.execute_reply.started": "2022-03-17T10:18:05.425211Z"
    },
    "papermill": {
     "duration": 0.227791,
     "end_time": "2022-03-17T10:24:36.539422",
     "exception": false,
     "start_time": "2022-03-17T10:24:36.311631",
     "status": "completed"
    },
    "tags": []
   },
   "outputs": [
    {
     "data": {
      "image/png": "[encoded data removed]",
      "text/plain": [
       "<Figure size 432x288 with 1 Axes>"
      ]
     },
     "metadata": {},
     "output_type": "display_data"
    }
   ],
   "source": [
    "train_data_clean['Survived'].value_counts().plot(kind='bar')\n",
    "plt.xlabel('Survived')\n",
    "plt.ylabel('Count')\n",
    "plt.show()"
   ]
  },
  {
   "cell_type": "code",
   "execution_count": 12,
   "id": "784a495f",
   "metadata": {
    "execution": {
     "iopub.execute_input": "2022-03-17T10:24:36.623874Z",
     "iopub.status.busy": "2022-03-17T10:24:36.623167Z",
     "iopub.status.idle": "2022-03-17T10:24:36.817782Z",
     "shell.execute_reply": "2022-03-17T10:24:36.817221Z",
     "shell.execute_reply.started": "2022-03-17T10:18:05.615450Z"
    },
    "papermill": {
     "duration": 0.237794,
     "end_time": "2022-03-17T10:24:36.817922",
     "exception": false,
     "start_time": "2022-03-17T10:24:36.580128",
     "status": "completed"
    },
    "tags": []
   },
   "outputs": [
    {
     "data": {
      "image/png": "[encoded data removed]",
      "text/plain": [
       "<Figure size 432x288 with 1 Axes>"
      ]
     },
     "metadata": {},
     "output_type": "display_data"
    }
   ],
   "source": [
    "sns.stripplot(data=train_data_clean, x='Survived', y='Age')\n",
    "plt.show()"
   ]
  },
  {
   "cell_type": "code",
   "execution_count": 13,
   "id": "2772ba3e",
   "metadata": {
    "execution": {
     "iopub.execute_input": "2022-03-17T10:24:36.907176Z",
     "iopub.status.busy": "2022-03-17T10:24:36.906412Z",
     "iopub.status.idle": "2022-03-17T10:24:37.093357Z",
     "shell.execute_reply": "2022-03-17T10:24:37.092646Z",
     "shell.execute_reply.started": "2022-03-17T10:18:05.814222Z"
    },
    "papermill": {
     "duration": 0.233928,
     "end_time": "2022-03-17T10:24:37.093511",
     "exception": false,
     "start_time": "2022-03-17T10:24:36.859583",
     "status": "completed"
    },
    "tags": []
   },
   "outputs": [
    {
     "data": {
      "image/png": "[encoded data removed]",
      "text/plain": [
       "<Figure size 432x288 with 1 Axes>"
      ]
     },
     "metadata": {},
     "output_type": "display_data"
    }
   ],
   "source": [
    "sns.stripplot(data=train_data_clean, x='Survived', y='Fare')\n",
    "plt.show()"
   ]
  },
  {
   "cell_type": "code",
   "execution_count": 14,
   "id": "af3f0829",
   "metadata": {
    "execution": {
     "iopub.execute_input": "2022-03-17T10:24:37.181857Z",
     "iopub.status.busy": "2022-03-17T10:24:37.181195Z",
     "iopub.status.idle": "2022-03-17T10:24:37.366250Z",
     "shell.execute_reply": "2022-03-17T10:24:37.366740Z",
     "shell.execute_reply.started": "2022-03-17T10:18:05.997594Z"
    },
    "papermill": {
     "duration": 0.230662,
     "end_time": "2022-03-17T10:24:37.366925",
     "exception": false,
     "start_time": "2022-03-17T10:24:37.136263",
     "status": "completed"
    },
    "tags": []
   },
   "outputs": [
    {
     "data": {
      "image/png": "[encoded data removed]",
      "text/plain": [
       "<Figure size 432x288 with 1 Axes>"
      ]
     },
     "metadata": {},
     "output_type": "display_data"
    }
   ],
   "source": [
    "train_data_clean['Embarked'].value_counts().plot(kind='bar')\n",
    "plt.xlabel('Embarked')\n",
    "plt.ylabel('Count')\n",
    "plt.show()"
   ]
  },
  {
   "cell_type": "code",
   "execution_count": 15,
   "id": "85bff93c",
   "metadata": {
    "execution": {
     "iopub.execute_input": "2022-03-17T10:24:37.459095Z",
     "iopub.status.busy": "2022-03-17T10:24:37.458365Z",
     "iopub.status.idle": "2022-03-17T10:24:37.640435Z",
     "shell.execute_reply": "2022-03-17T10:24:37.639830Z",
     "shell.execute_reply.started": "2022-03-17T10:18:06.188546Z"
    },
    "papermill": {
     "duration": 0.229431,
     "end_time": "2022-03-17T10:24:37.640583",
     "exception": false,
     "start_time": "2022-03-17T10:24:37.411152",
     "status": "completed"
    },
    "tags": []
   },
   "outputs": [
    {
     "data": {
      "image/png": "[encoded data removed]",
      "text/plain": [
       "<Figure size 432x288 with 1 Axes>"
      ]
     },
     "metadata": {},
     "output_type": "display_data"
    }
   ],
   "source": [
    "train_data_clean['Pclass'].value_counts().plot(kind='bar')\n",
    "plt.xlabel('Pclass')\n",
    "plt.ylabel('Count')\n",
    "plt.show()"
   ]
  },
  {
   "cell_type": "code",
   "execution_count": 16,
   "id": "0c2dfe4d",
   "metadata": {
    "execution": {
     "iopub.execute_input": "2022-03-17T10:24:37.735205Z",
     "iopub.status.busy": "2022-03-17T10:24:37.734492Z",
     "iopub.status.idle": "2022-03-17T10:24:38.249093Z",
     "shell.execute_reply": "2022-03-17T10:24:38.249664Z",
     "shell.execute_reply.started": "2022-03-17T10:18:06.376104Z"
    },
    "papermill": {
     "duration": 0.565264,
     "end_time": "2022-03-17T10:24:38.249854",
     "exception": false,
     "start_time": "2022-03-17T10:24:37.684590",
     "status": "completed"
    },
    "tags": []
   },
   "outputs": [
    {
     "data": {
      "image/png": "[encoded data removed]",
      "text/plain": [
       "<Figure size 1152x720 with 2 Axes>"
      ]
     },
     "metadata": {},
     "output_type": "display_data"
    }
   ],
   "source": [
    "#Correlation Heatmap\n",
    "plt.figure(figsize=(16,10))\n",
    "sns.heatmap(train_data_clean.corr(), annot=True)\n",
    "plt.show()"
   ]
  },
  {
   "cell_type": "markdown",
   "id": "9f66ac62",
   "metadata": {
    "papermill": {
     "duration": 0.046122,
     "end_time": "2022-03-17T10:24:38.342618",
     "exception": false,
     "start_time": "2022-03-17T10:24:38.296496",
     "status": "completed"
    },
    "tags": []
   },
   "source": [
    "# **Preprocessing**"
   ]
  },
  {
   "cell_type": "code",
   "execution_count": 17,
   "id": "9b5a8659",
   "metadata": {
    "execution": {
     "iopub.execute_input": "2022-03-17T10:24:38.440525Z",
     "iopub.status.busy": "2022-03-17T10:24:38.439729Z",
     "iopub.status.idle": "2022-03-17T10:24:38.455171Z",
     "shell.execute_reply": "2022-03-17T10:24:38.455814Z",
     "shell.execute_reply.started": "2022-03-17T10:18:06.923729Z"
    },
    "papermill": {
     "duration": 0.066767,
     "end_time": "2022-03-17T10:24:38.455986",
     "exception": false,
     "start_time": "2022-03-17T10:24:38.389219",
     "status": "completed"
    },
    "tags": []
   },
   "outputs": [
    {
     "data": {
      "text/html": [
       "<div>\n",
       "<style scoped>\n",
       "    .dataframe tbody tr th:only-of-type {\n",
       "        vertical-align: middle;\n",
       "    }\n",
       "\n",
       "    .dataframe tbody tr th {\n",
       "        vertical-align: top;\n",
       "    }\n",
       "\n",
       "    .dataframe thead th {\n",
       "        text-align: right;\n",
       "    }\n",
       "</style>\n",
       "<table border=\"1\" class=\"dataframe\">\n",
       "  <thead>\n",
       "    <tr style=\"text-align: right;\">\n",
       "      <th></th>\n",
       "      <th>Pclass</th>\n",
       "      <th>Sex</th>\n",
       "      <th>Age</th>\n",
       "      <th>SibSp</th>\n",
       "      <th>Parch</th>\n",
       "      <th>Fare</th>\n",
       "      <th>Embarked</th>\n",
       "      <th>Cabin Letter</th>\n",
       "      <th>relatives</th>\n",
       "    </tr>\n",
       "    <tr>\n",
       "      <th>PassengerId</th>\n",
       "      <th></th>\n",
       "      <th></th>\n",
       "      <th></th>\n",
       "      <th></th>\n",
       "      <th></th>\n",
       "      <th></th>\n",
       "      <th></th>\n",
       "      <th></th>\n",
       "      <th></th>\n",
       "    </tr>\n",
       "  </thead>\n",
       "  <tbody>\n",
       "    <tr>\n",
       "      <th>1</th>\n",
       "      <td>3</td>\n",
       "      <td>male</td>\n",
       "      <td>22.0</td>\n",
       "      <td>1</td>\n",
       "      <td>0</td>\n",
       "      <td>7.2500</td>\n",
       "      <td>S</td>\n",
       "      <td>Unknown</td>\n",
       "      <td>1</td>\n",
       "    </tr>\n",
       "    <tr>\n",
       "      <th>2</th>\n",
       "      <td>1</td>\n",
       "      <td>female</td>\n",
       "      <td>38.0</td>\n",
       "      <td>1</td>\n",
       "      <td>0</td>\n",
       "      <td>71.2833</td>\n",
       "      <td>C</td>\n",
       "      <td>C</td>\n",
       "      <td>1</td>\n",
       "    </tr>\n",
       "    <tr>\n",
       "      <th>3</th>\n",
       "      <td>3</td>\n",
       "      <td>female</td>\n",
       "      <td>26.0</td>\n",
       "      <td>0</td>\n",
       "      <td>0</td>\n",
       "      <td>7.9250</td>\n",
       "      <td>S</td>\n",
       "      <td>Unknown</td>\n",
       "      <td>0</td>\n",
       "    </tr>\n",
       "    <tr>\n",
       "      <th>4</th>\n",
       "      <td>1</td>\n",
       "      <td>female</td>\n",
       "      <td>35.0</td>\n",
       "      <td>1</td>\n",
       "      <td>0</td>\n",
       "      <td>53.1000</td>\n",
       "      <td>S</td>\n",
       "      <td>C</td>\n",
       "      <td>1</td>\n",
       "    </tr>\n",
       "    <tr>\n",
       "      <th>5</th>\n",
       "      <td>3</td>\n",
       "      <td>male</td>\n",
       "      <td>35.0</td>\n",
       "      <td>0</td>\n",
       "      <td>0</td>\n",
       "      <td>8.0500</td>\n",
       "      <td>S</td>\n",
       "      <td>Unknown</td>\n",
       "      <td>0</td>\n",
       "    </tr>\n",
       "  </tbody>\n",
       "</table>\n",
       "</div>"
      ],
      "text/plain": [
       "             Pclass     Sex   Age  SibSp  Parch     Fare Embarked  \\\n",
       "PassengerId                                                         \n",
       "1                 3    male  22.0      1      0   7.2500        S   \n",
       "2                 1  female  38.0      1      0  71.2833        C   \n",
       "3                 3  female  26.0      0      0   7.9250        S   \n",
       "4                 1  female  35.0      1      0  53.1000        S   \n",
       "5                 3    male  35.0      0      0   8.0500        S   \n",
       "\n",
       "            Cabin Letter  relatives  \n",
       "PassengerId                          \n",
       "1                Unknown          1  \n",
       "2                      C          1  \n",
       "3                Unknown          0  \n",
       "4                      C          1  \n",
       "5                Unknown          0  "
      ]
     },
     "execution_count": 17,
     "metadata": {},
     "output_type": "execute_result"
    }
   ],
   "source": [
    "X= train_data_clean.drop('Survived', axis=1)\n",
    "y= train_data_clean['Survived']\n",
    "\n",
    "X.head()"
   ]
  },
  {
   "cell_type": "code",
   "execution_count": 18,
   "id": "54654382",
   "metadata": {
    "execution": {
     "iopub.execute_input": "2022-03-17T10:24:38.554527Z",
     "iopub.status.busy": "2022-03-17T10:24:38.553757Z",
     "iopub.status.idle": "2022-03-17T10:24:38.900029Z",
     "shell.execute_reply": "2022-03-17T10:24:38.900755Z",
     "shell.execute_reply.started": "2022-03-17T10:18:06.945423Z"
    },
    "papermill": {
     "duration": 0.397767,
     "end_time": "2022-03-17T10:24:38.900932",
     "exception": false,
     "start_time": "2022-03-17T10:24:38.503165",
     "status": "completed"
    },
    "tags": []
   },
   "outputs": [
    {
     "data": {
      "text/plain": [
       "['Sex', 'Embarked', 'Cabin Letter']"
      ]
     },
     "execution_count": 18,
     "metadata": {},
     "output_type": "execute_result"
    }
   ],
   "source": [
    "from sklearn.compose import ColumnTransformer\n",
    "from sklearn.pipeline import Pipeline\n",
    "from sklearn.impute import SimpleImputer\n",
    "from sklearn.preprocessing import OneHotEncoder, StandardScaler, MinMaxScaler\n",
    "\n",
    "#Select categorical columns\n",
    "categorical_cols = [col for col in X.columns if X[col].dtype == 'object']\n",
    "categorical_cols"
   ]
  },
  {
   "cell_type": "code",
   "execution_count": 19,
   "id": "4de454f4",
   "metadata": {
    "execution": {
     "iopub.execute_input": "2022-03-17T10:24:39.019756Z",
     "iopub.status.busy": "2022-03-17T10:24:39.018705Z",
     "iopub.status.idle": "2022-03-17T10:24:39.024757Z",
     "shell.execute_reply": "2022-03-17T10:24:39.025546Z",
     "shell.execute_reply.started": "2022-03-17T10:18:06.957979Z"
    },
    "papermill": {
     "duration": 0.075434,
     "end_time": "2022-03-17T10:24:39.025800",
     "exception": false,
     "start_time": "2022-03-17T10:24:38.950366",
     "status": "completed"
    },
    "tags": []
   },
   "outputs": [
    {
     "data": {
      "text/plain": [
       "['Pclass', 'Age', 'SibSp', 'Parch', 'Fare', 'relatives']"
      ]
     },
     "execution_count": 19,
     "metadata": {},
     "output_type": "execute_result"
    }
   ],
   "source": [
    "#Select numerical columns\n",
    "numerical_cols = [col for col in X.columns if X[col].dtype in ['int64', 'float64']]\n",
    "numerical_cols"
   ]
  },
  {
   "cell_type": "code",
   "execution_count": 20,
   "id": "ef4a273b",
   "metadata": {
    "execution": {
     "iopub.execute_input": "2022-03-17T10:24:39.139369Z",
     "iopub.status.busy": "2022-03-17T10:24:39.138634Z",
     "iopub.status.idle": "2022-03-17T10:24:39.141696Z",
     "shell.execute_reply": "2022-03-17T10:24:39.141166Z",
     "shell.execute_reply.started": "2022-03-17T10:18:06.968746Z"
    },
    "papermill": {
     "duration": 0.057469,
     "end_time": "2022-03-17T10:24:39.141840",
     "exception": false,
     "start_time": "2022-03-17T10:24:39.084371",
     "status": "completed"
    },
    "tags": []
   },
   "outputs": [],
   "source": [
    "#Preprocessing for numerical data(Age in the train)\n",
    "numerical_transformer = Pipeline(steps=[\n",
    "    ('imputer', SimpleImputer(strategy='mean')),\n",
    "    ('scaler', StandardScaler())\n",
    "])"
   ]
  },
  {
   "cell_type": "code",
   "execution_count": 21,
   "id": "baf6c57e",
   "metadata": {
    "execution": {
     "iopub.execute_input": "2022-03-17T10:24:39.240697Z",
     "iopub.status.busy": "2022-03-17T10:24:39.239998Z",
     "iopub.status.idle": "2022-03-17T10:24:39.245993Z",
     "shell.execute_reply": "2022-03-17T10:24:39.246634Z",
     "shell.execute_reply.started": "2022-03-17T10:18:06.981261Z"
    },
    "papermill": {
     "duration": 0.057545,
     "end_time": "2022-03-17T10:24:39.246807",
     "exception": false,
     "start_time": "2022-03-17T10:24:39.189262",
     "status": "completed"
    },
    "tags": []
   },
   "outputs": [],
   "source": [
    "#Preprocessing for categorical data\n",
    "categorical_transformer = Pipeline(steps=[\n",
    "    ('imputer', SimpleImputer(strategy='most_frequent')),\n",
    "    ('onehot', OneHotEncoder(handle_unknown='ignore'))  #handle unknown wont give an error if it gets a new value in the test set for the categorical values\n",
    "])"
   ]
  },
  {
   "cell_type": "code",
   "execution_count": 22,
   "id": "568d5bd3",
   "metadata": {
    "execution": {
     "iopub.execute_input": "2022-03-17T10:24:39.347281Z",
     "iopub.status.busy": "2022-03-17T10:24:39.346557Z",
     "iopub.status.idle": "2022-03-17T10:24:39.366370Z",
     "shell.execute_reply": "2022-03-17T10:24:39.366975Z",
     "shell.execute_reply.started": "2022-03-17T10:18:06.993035Z"
    },
    "papermill": {
     "duration": 0.071219,
     "end_time": "2022-03-17T10:24:39.367175",
     "exception": false,
     "start_time": "2022-03-17T10:24:39.295956",
     "status": "completed"
    },
    "tags": []
   },
   "outputs": [
    {
     "data": {
      "text/plain": [
       "ColumnTransformer(transformers=[('num',\n",
       "                                 Pipeline(steps=[('imputer', SimpleImputer()),\n",
       "                                                 ('scaler', StandardScaler())]),\n",
       "                                 ['Pclass', 'Age', 'SibSp', 'Parch', 'Fare',\n",
       "                                  'relatives']),\n",
       "                                ('cat',\n",
       "                                 Pipeline(steps=[('imputer',\n",
       "                                                  SimpleImputer(strategy='most_frequent')),\n",
       "                                                 ('onehot',\n",
       "                                                  OneHotEncoder(handle_unknown='ignore'))]),\n",
       "                                 ['Sex', 'Embarked', 'Cabin Letter'])])"
      ]
     },
     "execution_count": 22,
     "metadata": {},
     "output_type": "execute_result"
    }
   ],
   "source": [
    "preprocessor = ColumnTransformer(\n",
    "    transformers=[\n",
    "        ('num', numerical_transformer, numerical_cols),\n",
    "        ('cat', categorical_transformer, categorical_cols)\n",
    "    ])\n",
    "preprocessor"
   ]
  },
  {
   "cell_type": "markdown",
   "id": "6ecea727",
   "metadata": {
    "papermill": {
     "duration": 0.047816,
     "end_time": "2022-03-17T10:24:39.462932",
     "exception": false,
     "start_time": "2022-03-17T10:24:39.415116",
     "status": "completed"
    },
    "tags": []
   },
   "source": [
    "# **Model Pipelines**"
   ]
  },
  {
   "cell_type": "markdown",
   "id": "3b8e8fcb",
   "metadata": {
    "papermill": {
     "duration": 0.047914,
     "end_time": "2022-03-17T10:24:39.561166",
     "exception": false,
     "start_time": "2022-03-17T10:24:39.513252",
     "status": "completed"
    },
    "tags": []
   },
   "source": [
    "Note: I determined the model parameters using gridsearchCV but didnt include it in this notebook. "
   ]
  },
  {
   "cell_type": "code",
   "execution_count": 23,
   "id": "717f8487",
   "metadata": {
    "execution": {
     "iopub.execute_input": "2022-03-17T10:24:39.664867Z",
     "iopub.status.busy": "2022-03-17T10:24:39.664138Z",
     "iopub.status.idle": "2022-03-17T10:24:40.984914Z",
     "shell.execute_reply": "2022-03-17T10:24:40.985511Z",
     "shell.execute_reply.started": "2022-03-17T10:23:02.076491Z"
    },
    "papermill": {
     "duration": 1.376095,
     "end_time": "2022-03-17T10:24:40.985703",
     "exception": false,
     "start_time": "2022-03-17T10:24:39.609608",
     "status": "completed"
    },
    "tags": []
   },
   "outputs": [
    {
     "name": "stdout",
     "output_type": "stream",
     "text": [
      "Random Forest Scores: [0.81460674 0.80898876 0.8258427  0.79775281 0.83050847]\n",
      "Random Forest: 0.8155398971624453\n"
     ]
    }
   ],
   "source": [
    "#Random Forest\n",
    "from sklearn.ensemble import RandomForestClassifier\n",
    "from sklearn.ensemble import RandomForestClassifier\n",
    "rfc = RandomForestClassifier(max_depth= 6, min_samples_leaf= 1, min_samples_split= 2, random_state=0)\n",
    "rfc_pipeline = Pipeline(steps=[('preprocessor', preprocessor),\n",
    "                                ('model', rfc)\n",
    "                              ])\n",
    "from sklearn.model_selection import cross_val_score\n",
    "scores = cross_val_score(rfc_pipeline, X, y, cv=5)\n",
    "print('Random Forest Scores:',scores)\n",
    "print('Random Forest:',scores.mean())\n"
   ]
  },
  {
   "cell_type": "code",
   "execution_count": 24,
   "id": "f9fa2300",
   "metadata": {
    "execution": {
     "iopub.execute_input": "2022-03-17T10:24:41.088846Z",
     "iopub.status.busy": "2022-03-17T10:24:41.087710Z",
     "iopub.status.idle": "2022-03-17T10:24:41.216644Z",
     "shell.execute_reply": "2022-03-17T10:24:41.216009Z",
     "shell.execute_reply.started": "2022-03-17T10:18:08.125493Z"
    },
    "papermill": {
     "duration": 0.182716,
     "end_time": "2022-03-17T10:24:41.216793",
     "exception": false,
     "start_time": "2022-03-17T10:24:41.034077",
     "status": "completed"
    },
    "tags": []
   },
   "outputs": [
    {
     "name": "stdout",
     "output_type": "stream",
     "text": [
      "Logistic Regression Scores: [0.78651685 0.78651685 0.79213483 0.76966292 0.83050847]\n",
      "Logistic Regression: 0.7930679870500857\n"
     ]
    }
   ],
   "source": [
    "#Logistic Regression\n",
    "from sklearn.linear_model import LogisticRegression\n",
    "log_reg_classifier=LogisticRegression(C= 0.1, penalty= 'l2', solver='liblinear',random_state=0)\n",
    "log_reg_pipeline = Pipeline(steps=[('preprocessor', preprocessor),\n",
    "                                   ('model', log_reg_classifier)\n",
    "                                  ])\n",
    "from sklearn.model_selection import cross_val_score\n",
    "scores = cross_val_score(log_reg_pipeline, X, y, cv=5)\n",
    "print('Logistic Regression Scores:',scores)\n",
    "print('Logistic Regression:',scores.mean())"
   ]
  },
  {
   "cell_type": "code",
   "execution_count": 25,
   "id": "86ccb59f",
   "metadata": {
    "execution": {
     "iopub.execute_input": "2022-03-17T10:24:41.319431Z",
     "iopub.status.busy": "2022-03-17T10:24:41.318779Z",
     "iopub.status.idle": "2022-03-17T10:24:43.661444Z",
     "shell.execute_reply": "2022-03-17T10:24:43.662042Z",
     "shell.execute_reply.started": "2022-03-17T10:18:08.254115Z"
    },
    "papermill": {
     "duration": 2.394963,
     "end_time": "2022-03-17T10:24:43.662258",
     "exception": false,
     "start_time": "2022-03-17T10:24:41.267295",
     "status": "completed"
    },
    "tags": []
   },
   "outputs": [
    {
     "name": "stdout",
     "output_type": "stream",
     "text": [
      "XGB Classifier Scores: [0.79775281 0.81460674 0.87078652 0.82022472 0.86440678]\n",
      "XGB Classifier: 0.8335555132355742\n"
     ]
    }
   ],
   "source": [
    "#XGBoost\n",
    "from xgboost import XGBClassifier\n",
    "from xgboost import XGBClassifier\n",
    "xgb = XGBClassifier(learning_rate= 0.1, max_depth= 5, min_child_weight= 1,\n",
    "                    n_estimators= 100, subsample= 1.0, use_label_encoder=False,\n",
    "                    verbosity=0, random_state=0)\n",
    "xgb_pipeline= Pipeline(steps=[('preprocessor', preprocessor),\n",
    "                              ('model', xgb)\n",
    "                             ])\n",
    "scores = cross_val_score(xgb_pipeline, X, y, cv=5)\n",
    "print('XGB Classifier Scores:',scores)\n",
    "print('XGB Classifier:',scores.mean())"
   ]
  },
  {
   "cell_type": "code",
   "execution_count": 26,
   "id": "d73564e1",
   "metadata": {
    "execution": {
     "iopub.execute_input": "2022-03-17T10:24:43.769392Z",
     "iopub.status.busy": "2022-03-17T10:24:43.768695Z",
     "iopub.status.idle": "2022-03-17T10:24:44.440171Z",
     "shell.execute_reply": "2022-03-17T10:24:44.440815Z",
     "shell.execute_reply.started": "2022-03-17T10:18:10.518883Z"
    },
    "papermill": {
     "duration": 0.726984,
     "end_time": "2022-03-17T10:24:44.441006",
     "exception": false,
     "start_time": "2022-03-17T10:24:43.714022",
     "status": "completed"
    },
    "tags": []
   },
   "outputs": [
    {
     "name": "stdout",
     "output_type": "stream",
     "text": [
      "SVC Scores: [0.8258427  0.79775281 0.82022472 0.80337079 0.8700565 ]\n",
      "SVC: 0.8234495016822192\n"
     ]
    }
   ],
   "source": [
    "#SVC\n",
    "from sklearn.svm import SVC\n",
    "svc = SVC(C= 3, kernel= 'rbf', random_state=0, probability=True)\n",
    "svc_pipeline = Pipeline(steps=[('preprocessor', preprocessor),\n",
    "                               ('model', svc)\n",
    "                              ])\n",
    "from sklearn.model_selection import cross_val_score\n",
    "scores = cross_val_score(svc_pipeline, X, y, cv=5)\n",
    "print('SVC Scores:',scores)\n",
    "print('SVC:',scores.mean())"
   ]
  },
  {
   "cell_type": "code",
   "execution_count": 27,
   "id": "062d590f",
   "metadata": {
    "execution": {
     "iopub.execute_input": "2022-03-17T10:24:44.548631Z",
     "iopub.status.busy": "2022-03-17T10:24:44.547935Z",
     "iopub.status.idle": "2022-03-17T10:24:46.125786Z",
     "shell.execute_reply": "2022-03-17T10:24:46.126827Z",
     "shell.execute_reply.started": "2022-03-17T10:18:11.146828Z"
    },
    "papermill": {
     "duration": 1.635429,
     "end_time": "2022-03-17T10:24:46.127173",
     "exception": false,
     "start_time": "2022-03-17T10:24:44.491744",
     "status": "completed"
    },
    "tags": []
   },
   "outputs": [
    {
     "name": "stdout",
     "output_type": "stream",
     "text": [
      "MLP Scores: [0.76404494 0.80337079 0.83146067 0.80337079 0.85310734]\n",
      "MLP: 0.8110709071288008\n"
     ]
    }
   ],
   "source": [
    "#MLP\n",
    "from sklearn.neural_network import MLPClassifier\n",
    "mlp=MLPClassifier(max_iter=2000, random_state=0, early_stopping=True)\n",
    "mlp_pipeline = Pipeline(steps=[('preprocessor', preprocessor),\n",
    "                               ('model', mlp)\n",
    "                              ])\n",
    "from sklearn.model_selection import cross_val_score\n",
    "scores = cross_val_score(mlp_pipeline, X, y, cv=5)\n",
    "print('MLP Scores:',scores)\n",
    "print('MLP:',scores.mean())"
   ]
  },
  {
   "cell_type": "markdown",
   "id": "175baaf1",
   "metadata": {
    "papermill": {
     "duration": 0.056693,
     "end_time": "2022-03-17T10:24:46.284337",
     "exception": false,
     "start_time": "2022-03-17T10:24:46.227644",
     "status": "completed"
    },
    "tags": []
   },
   "source": [
    "# **Final Model**"
   ]
  },
  {
   "cell_type": "code",
   "execution_count": 28,
   "id": "957e6de7",
   "metadata": {
    "execution": {
     "iopub.execute_input": "2022-03-17T10:24:46.396828Z",
     "iopub.status.busy": "2022-03-17T10:24:46.395729Z",
     "iopub.status.idle": "2022-03-17T10:24:48.046220Z",
     "shell.execute_reply": "2022-03-17T10:24:48.045430Z"
    },
    "papermill": {
     "duration": 1.711024,
     "end_time": "2022-03-17T10:24:48.046417",
     "exception": false,
     "start_time": "2022-03-17T10:24:46.335393",
     "status": "completed"
    },
    "tags": []
   },
   "outputs": [
    {
     "name": "stdout",
     "output_type": "stream",
     "text": [
      "Voting Classifier Scores: [0.82022472 0.80337079 0.8258427  0.79213483 0.85310734]\n",
      "Voting: 0.8189360756681268\n"
     ]
    }
   ],
   "source": [
    "from sklearn.ensemble import VotingClassifier\n",
    "#I've tried alot of combinations in the voting classifier but these 3 got the best score on the submission although\n",
    "#they werent the highest on the train/validation\n",
    "voting = VotingClassifier(estimators=[\n",
    "        ('rfc', rfc), ('log', log_reg_classifier), ('svc', svc)],  \n",
    "        voting='hard')\n",
    "voting_pipeline = Pipeline(steps=[('preprocessor', preprocessor),\n",
    "                                  ('model', voting)\n",
    "                                 ])\n",
    "from sklearn.model_selection import cross_val_score\n",
    "scores = cross_val_score(voting_pipeline, X, y, cv=5)\n",
    "print('Voting Classifier Scores:',scores)\n",
    "print('Voting:',scores.mean())\n"
   ]
  },
  {
   "cell_type": "markdown",
   "id": "8fd44e9b",
   "metadata": {
    "papermill": {
     "duration": 0.050116,
     "end_time": "2022-03-17T10:24:48.147767",
     "exception": false,
     "start_time": "2022-03-17T10:24:48.097651",
     "status": "completed"
    },
    "tags": []
   },
   "source": [
    "**Validation**"
   ]
  },
  {
   "cell_type": "code",
   "execution_count": 29,
   "id": "fb749e2b",
   "metadata": {
    "execution": {
     "iopub.execute_input": "2022-03-17T10:24:48.252674Z",
     "iopub.status.busy": "2022-03-17T10:24:48.251989Z",
     "iopub.status.idle": "2022-03-17T10:24:48.655715Z",
     "shell.execute_reply": "2022-03-17T10:24:48.654648Z",
     "shell.execute_reply.started": "2022-03-17T10:18:12.726570Z"
    },
    "papermill": {
     "duration": 0.457076,
     "end_time": "2022-03-17T10:24:48.655984",
     "exception": false,
     "start_time": "2022-03-17T10:24:48.198908",
     "status": "completed"
    },
    "tags": []
   },
   "outputs": [],
   "source": [
    "from sklearn.model_selection import train_test_split\n",
    "X_train, X_valid, y_train, y_valid =train_test_split(X, y, test_size=0.2, random_state=42)\n",
    "\n",
    "voting_pipeline.fit_transform(X_train, y_train)\n",
    "y_pred= voting_pipeline.predict(X_valid)\n"
   ]
  },
  {
   "cell_type": "code",
   "execution_count": 30,
   "id": "60e00d3b",
   "metadata": {
    "execution": {
     "iopub.execute_input": "2022-03-17T10:24:48.783607Z",
     "iopub.status.busy": "2022-03-17T10:24:48.782532Z",
     "iopub.status.idle": "2022-03-17T10:24:48.898523Z",
     "shell.execute_reply": "2022-03-17T10:24:48.897734Z",
     "shell.execute_reply.started": "2022-03-17T10:18:13.192756Z"
    },
    "papermill": {
     "duration": 0.175127,
     "end_time": "2022-03-17T10:24:48.898718",
     "exception": false,
     "start_time": "2022-03-17T10:24:48.723591",
     "status": "completed"
    },
    "tags": []
   },
   "outputs": [
    {
     "name": "stdout",
     "output_type": "stream",
     "text": [
      "Voting Classifier accuracy score: 82.58%\n",
      "              precision    recall  f1-score   support\n",
      "\n",
      "           0       0.86      0.85      0.86       109\n",
      "           1       0.77      0.78      0.78        69\n",
      "\n",
      "    accuracy                           0.83       178\n",
      "   macro avg       0.82      0.82      0.82       178\n",
      "weighted avg       0.83      0.83      0.83       178\n",
      "\n"
     ]
    },
    {
     "data": {
      "image/png": "[encoded data removed]",
      "text/plain": [
       "<Figure size 432x288 with 1 Axes>"
      ]
     },
     "metadata": {},
     "output_type": "display_data"
    }
   ],
   "source": [
    "from sklearn.metrics import confusion_matrix, accuracy_score, classification_report\n",
    "cm=confusion_matrix(y_valid, y_pred)\n",
    "print('Voting Classifier accuracy score:', '{:.2%}'.format(accuracy_score(y_valid, y_pred)))\n",
    "print(classification_report(y_valid, y_pred))\n",
    "sns.heatmap(cm, annot=True, fmt='g', cbar=False)\n",
    "plt.xlabel('Predicted Values')\n",
    "plt.ylabel('Actual Values')\n",
    "plt.title('Voting Classifier Confusion Matrix')\n",
    "plt.show()"
   ]
  },
  {
   "cell_type": "markdown",
   "id": "b7ac5784",
   "metadata": {
    "papermill": {
     "duration": 0.053502,
     "end_time": "2022-03-17T10:24:49.005896",
     "exception": false,
     "start_time": "2022-03-17T10:24:48.952394",
     "status": "completed"
    },
    "tags": []
   },
   "source": [
    "Note: Accuracy can vary depending on the random split********"
   ]
  },
  {
   "cell_type": "code",
   "execution_count": 31,
   "id": "916ad094",
   "metadata": {
    "execution": {
     "iopub.execute_input": "2022-03-17T10:24:49.115006Z",
     "iopub.status.busy": "2022-03-17T10:24:49.113958Z",
     "iopub.status.idle": "2022-03-17T10:24:49.535612Z",
     "shell.execute_reply": "2022-03-17T10:24:49.536296Z",
     "shell.execute_reply.started": "2022-03-17T10:18:13.375653Z"
    },
    "papermill": {
     "duration": 0.478067,
     "end_time": "2022-03-17T10:24:49.536496",
     "exception": false,
     "start_time": "2022-03-17T10:24:49.058429",
     "status": "completed"
    },
    "tags": []
   },
   "outputs": [],
   "source": [
    "#Training the final model\n",
    "voting_pipeline.fit(X,y)\n",
    "\n",
    "\n",
    "#Test data\n",
    "test_data=pd.read_csv('/kaggle/input/titanic/test.csv', index_col='PassengerId')\n",
    "test_data_clean=test_data.drop(['Name','Ticket'], axis=1)\n",
    "test_data_clean['Cabin Letter'] = test_data_clean['Cabin'].str.extract('(\\w)')\n",
    "test_data_clean['Cabin Letter'].fillna('Unknown', inplace=True)\n",
    "test_data_clean.drop(['Cabin'], axis=1, inplace=True)\n",
    "test_data_clean['relatives']=test_data_clean['SibSp']+test_data_clean['Parch']\n",
    "\n",
    "predicted=voting_pipeline.predict(test_data_clean)\n",
    "ids=test_data.index\n",
    "pred_df= pd.DataFrame({'PassengerId': ids,\n",
    "                       'Survived': predicted})\n",
    "pred_df.to_csv('submission.csv', index=False)"
   ]
  }
 ],
 "metadata": {
  "kernelspec": {
   "display_name": "Python 3",
   "language": "python",
   "name": "python3"
  },
  "language_info": {
   "codemirror_mode": {
    "name": "ipython",
    "version": 3
   },
   "file_extension": ".py",
   "mimetype": "text/x-python",
   "name": "python",
   "nbconvert_exporter": "python",
   "pygments_lexer": "ipython3",
   "version": "3.7.12"
  },
  "papermill": {
   "default_parameters": {},
   "duration": 27.288217,
   "end_time": "2022-03-17T10:24:50.402023",
   "environment_variables": {},
   "exception": null,
   "input_path": "__notebook__.ipynb",
   "output_path": "__notebook__.ipynb",
   "parameters": {},
   "start_time": "2022-03-17T10:24:23.113806",
   "version": "2.3.3"
  }
 },
 "nbformat": 4,
 "nbformat_minor": 5
}
